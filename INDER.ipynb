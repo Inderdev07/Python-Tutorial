{
  "nbformat": 4,
  "nbformat_minor": 0,
  "metadata": {
    "colab": {
      "provenance": [],
      "include_colab_link": true
    },
    "kernelspec": {
      "name": "python3",
      "display_name": "Python 3"
    },
    "language_info": {
      "name": "python"
    }
  },
  "cells": [
    {
      "cell_type": "markdown",
      "metadata": {
        "id": "view-in-github",
        "colab_type": "text"
      },
      "source": [
        "<a href=\"https://colab.research.google.com/github/Inderdev07/Python-Tutorial/blob/main/INDER.ipynb\" target=\"_parent\"><img src=\"https://colab.research.google.com/assets/colab-badge.svg\" alt=\"Open In Colab\"/></a>"
      ]
    },
    {
      "cell_type": "code",
      "execution_count": null,
      "metadata": {
        "id": "SV27cEoQn-kI",
        "colab": {
          "base_uri": "https://localhost:8080/"
        },
        "outputId": "b99fbe5c-5548-4b5e-f7e7-088465c9a8ae"
      },
      "outputs": [
        {
          "output_type": "stream",
          "name": "stdout",
          "text": [
            "Enter the number 5\n",
            "5 is a prime number\n"
          ]
        }
      ],
      "source": [
        "#Qno1:- Write program to check whether given number is prime or not\n",
        "\n",
        "n= int (input (\"Enter the number \"))\n",
        "if n > 1:\n",
        "  for i in range(2, int(n/2)+1): \n",
        "     if (n % i) == 0:\n",
        "          print(n, \"is not a prime number\")\n",
        "          break\n",
        "     else:\n",
        "        print(n, \"is a prime number\")\n",
        "     break   \n",
        "else:\n",
        "    print(n, \"is not a prime number\")"
      ]
    },
    {
      "cell_type": "code",
      "source": [],
      "metadata": {
        "id": "f-rTre5MLqAS"
      },
      "execution_count": null,
      "outputs": []
    },
    {
      "cell_type": "code",
      "source": [
        " #Qno2:- Write a program to construct the pattern, using a nested for loop.\n",
        " n= int(input(\"enter the number\"))\n",
        " n[1]\n",
        "for i in range(n):\n",
        "    for j in range(i):\n",
        "        print ('* ', end=\"\")\n",
        "    print('')\n",
        "\n",
        "for i in range(0,-1):\n",
        "    for j in range(i):\n",
        "        print('* ', end=\"\")\n",
        "    print('')"
      ],
      "metadata": {
        "id": "mY4vU4k2ro4F",
        "colab": {
          "base_uri": "https://localhost:8080/",
          "height": 263
        },
        "outputId": "9fb550c9-0644-4bbd-90b5-db783c0a11e7"
      },
      "execution_count": null,
      "outputs": [
        {
          "name": "stdout",
          "output_type": "stream",
          "text": [
            "enter the number3\n"
          ]
        },
        {
          "output_type": "error",
          "ename": "TypeError",
          "evalue": "ignored",
          "traceback": [
            "\u001b[0;31m---------------------------------------------------------------------------\u001b[0m",
            "\u001b[0;31mTypeError\u001b[0m                                 Traceback (most recent call last)",
            "\u001b[0;32m<ipython-input-2-4b365cc59e2c>\u001b[0m in \u001b[0;36m<module>\u001b[0;34m\u001b[0m\n\u001b[1;32m      1\u001b[0m \u001b[0;31m#Qno2:- Write a program to construct the pattern, using a nested for loop.\u001b[0m\u001b[0;34m\u001b[0m\u001b[0;34m\u001b[0m\u001b[0;34m\u001b[0m\u001b[0m\n\u001b[1;32m      2\u001b[0m \u001b[0mn\u001b[0m\u001b[0;34m=\u001b[0m \u001b[0mint\u001b[0m\u001b[0;34m(\u001b[0m\u001b[0minput\u001b[0m\u001b[0;34m(\u001b[0m\u001b[0;34m\"enter the number\"\u001b[0m\u001b[0;34m)\u001b[0m\u001b[0;34m)\u001b[0m\u001b[0;34m\u001b[0m\u001b[0;34m\u001b[0m\u001b[0m\n\u001b[0;32m----> 3\u001b[0;31m \u001b[0mn\u001b[0m\u001b[0;34m[\u001b[0m\u001b[0;36m1\u001b[0m\u001b[0;34m]\u001b[0m\u001b[0;34m\u001b[0m\u001b[0;34m\u001b[0m\u001b[0m\n\u001b[0m\u001b[1;32m      4\u001b[0m \u001b[0;32mfor\u001b[0m \u001b[0mi\u001b[0m \u001b[0;32min\u001b[0m \u001b[0mrange\u001b[0m\u001b[0;34m(\u001b[0m\u001b[0mn\u001b[0m\u001b[0;34m)\u001b[0m\u001b[0;34m:\u001b[0m\u001b[0;34m\u001b[0m\u001b[0;34m\u001b[0m\u001b[0m\n\u001b[1;32m      5\u001b[0m    \u001b[0;32mfor\u001b[0m \u001b[0mj\u001b[0m \u001b[0;32min\u001b[0m \u001b[0mrange\u001b[0m\u001b[0;34m(\u001b[0m\u001b[0mi\u001b[0m\u001b[0;34m)\u001b[0m\u001b[0;34m:\u001b[0m\u001b[0;34m\u001b[0m\u001b[0;34m\u001b[0m\u001b[0m\n",
            "\u001b[0;31mTypeError\u001b[0m: 'int' object is not subscriptable"
          ]
        }
      ]
    },
    {
      "cell_type": "code",
      "source": [
        "def pattern(n):\n",
        "    for i in range(n):\n",
        "        for j in range(i+1):\n",
        "            print(\"*\", end=\"\")\n",
        "        print()\n",
        "\n",
        "num_rows = int(input(\"Enter the number of rows: \"))\n",
        "pattern(num_rows)\n"
      ],
      "metadata": {
        "id": "QbvgRVJFvKiT"
      },
      "execution_count": null,
      "outputs": []
    },
    {
      "cell_type": "code",
      "source": [
        "#Qno 3:- Write a program to find those numbers which are divisible by 7 and multiple of 5, between 1500 and 2700 (both included).\n",
        "nl=[]\n",
        "for x in range(1500, 2701):\n",
        "    if (x%7==0) and (x%5==0):\n",
        "        nl.append(str(x))\n",
        "print (','.join(nl))\n",
        "\n",
        "\n",
        "\n"
      ],
      "metadata": {
        "id": "k1DyZg25sS50"
      },
      "execution_count": null,
      "outputs": []
    },
    {
      "cell_type": "code",
      "source": [
        "#Qno4:-check wheather the given string is palindrome or not\n",
        "def isPalindrome(s):\n",
        "    return s == s[::-1]\n",
        "  \n",
        "#1\n",
        "s= \"inder\"\n",
        "ans = isPalindrome(s)\n",
        " \n",
        "if ans:\n",
        "    print(\"Yes\")\n",
        "else:\n",
        "    print(\"No\")\n",
        "    #2\n",
        "s= \"peep\"\n",
        "ans = isPalindrome(s)\n",
        " \n",
        "if ans:\n",
        "    print(\"Yes\")\n",
        "else:\n",
        "    print(\"No\")\n",
        "    #3\n",
        "s= \"redder\"\n",
        "ans = isPalindrome(s)\n",
        " \n",
        "if ans:\n",
        "    print(\"Yes\")\n",
        "else:\n",
        "    print(\"No\")\n",
        "    #4\n",
        "s= \"nishit\"\n",
        "ans = isPalindrome(s)\n",
        " \n",
        "if ans:\n",
        "    print(\"Yes\")\n",
        "else:\n",
        "    print(\"No\")\n",
        "    #5\n",
        "s= \"poop\"\n",
        "ans = isPalindrome(s)\n",
        " \n",
        "if ans:\n",
        "    print(\"Yes\")\n",
        "else:\n",
        "    print(\"No\")"
      ],
      "metadata": {
        "id": "yBAFKG_BwBCn"
      },
      "execution_count": null,
      "outputs": []
    },
    {
      "cell_type": "code",
      "source": [
        "def isPalindrome(s):\n",
        "    return s == s[::-1]\n",
        "  \n",
        "#1\n",
        "s= \"inder\"\n",
        "ans = isPalindrome(s)"
      ],
      "metadata": {
        "id": "rVhW0xXtvh8i"
      },
      "execution_count": null,
      "outputs": []
    },
    {
      "cell_type": "code",
      "source": [
        "#Qno5: weight assigned to each characters e.g a-1,b-2,c-3....z-26\n",
        " str69=inder\n",
        " res=0\n",
        " for i in str69:\n",
        "   print(ord(1)-96)\n",
        "   res=res+ord(1-96)\n",
        "   print(res)"
      ],
      "metadata": {
        "id": "BjcGxmEJIszj"
      },
      "execution_count": null,
      "outputs": []
    },
    {
      "cell_type": "code",
      "source": [
        " \n",
        "# donot use in operator\n",
        "flag = 1\n",
        "str1 = \"Indians\" \n",
        "str2 = 'x' \n",
        "for c in str1 : \n",
        "  if str2 == c : \n",
        "    print (\"true\") \n",
        "    break\n",
        "  else : \n",
        "    print (\"false\")"
      ],
      "metadata": {
        "id": "bdeDhuGhfT4k"
      },
      "execution_count": null,
      "outputs": []
    },
    {
      "cell_type": "code",
      "source": [],
      "metadata": {
        "id": "W3T1BdtwYQLW"
      },
      "execution_count": null,
      "outputs": []
    },
    {
      "cell_type": "code",
      "source": [
        "#Q1 write a program to find the occurance of substring in given string\n",
        "str1 = \"Indians\" ; str2 = \"dia\";\n",
        "print (str1, str2)\n",
        "#2\n",
        "str1= \"India\"\n",
        "str2= \"INDIA\"\n",
        "str1 < str2\n"
      ],
      "metadata": {
        "id": "mblrOsR4iI3n"
      },
      "execution_count": null,
      "outputs": []
    },
    {
      "cell_type": "code",
      "source": [
        "# Q2 write a program to find íthe occurance of substring in given string\n",
        "import re\n",
        "text = 'Python exercises, PHP exercises, C# exercises'\n",
        "pattern = 'exercises'\n",
        "for match in re.finditer(pattern, text):\n",
        "    s = match.start()\n",
        "    e = match.end()\n",
        "    print('Found \"%s\" at %d:%d' % (text[s:e], s, e))"
      ],
      "metadata": {
        "id": "j5f2lt6zw8gF"
      },
      "execution_count": null,
      "outputs": []
    },
    {
      "cell_type": "code",
      "source": [
        "# take 3\n",
        "flag = 0\n",
        "str1 = \"Indians\" \n",
        "str2 = 's' \n",
        "for c in range (len(str1)):\n",
        "  if str2[0] == str1[c]:\n",
        "    flag = 1\n",
        "    # put loop till the end of str2\n",
        "    for k in range (len ( str2 )):\n",
        "      if str2 [k]  == str1 [c+k] :  pass #  print ('true')\n",
        "      else  : flag=0 # print('false')\n",
        "       \n",
        " \n",
        "    # if str2[1] == str1[c+1] :\n",
        "    #   if str2[2] == str1[c+2] :\n",
        "    #     flag =1 \n",
        "    #     break\n",
        " \n",
        "if flag == 1 : \n",
        "  print (\"true\")\n",
        "else : \n",
        "  print (\"false\")"
      ],
      "metadata": {
        "id": "uawWCdpKYRXL"
      },
      "execution_count": null,
      "outputs": []
    },
    {
      "cell_type": "code",
      "source": [
        "#indexing\n",
        "sum=0\n",
        "\n",
        "for item in range(0, len(mylst), 4 ):\n",
        "    #sum = sum + mylst[item]\n",
        "    print(mylst[item])\n",
        "\n",
        "\n",
        "print(\"The sum of the list is\",  sum)"
      ],
      "metadata": {
        "id": "X69HQ7L4qaoc"
      },
      "execution_count": null,
      "outputs": []
    },
    {
      "cell_type": "code",
      "source": [
        "marks= [45,56,56,45,78,76,78,45]\n",
        "sum = 0\n",
        "\n",
        "for i in range(0, len(marks)):\n",
        "  if(marks[i] == 45):\n",
        "    sum += marks[i]\n",
        "\n",
        "print(\"Sum:\", sum)"
      ],
      "metadata": {
        "id": "ugQaIuaFxsJv"
      },
      "execution_count": null,
      "outputs": []
    },
    {
      "cell_type": "code",
      "source": [
        "marks = [45, 56, 56, 45, 78, 76, 78, 450, 34, 55,12,4,66]\n",
        "\n",
        "for i in range(0, len(marks)):\n",
        "  if (marks[i]%2==0):\n",
        "    even_lst.append(marks[i])\n",
        "  else:\n",
        "    odd_lst.append(marks[i])\n",
        "print(odd_list) \n",
        "print(even_list)\n"
      ],
      "metadata": {
        "id": "J0yEodAgzBV1"
      },
      "execution_count": null,
      "outputs": []
    },
    {
      "cell_type": "code",
      "source": [
        "marks = [45, 56, 56, 45, 78, 76, 78, 45]\n",
        "sum = 0\n",
        "\n",
        "for i in range(0, len(marks)):\n",
        "  if(marks[i] == 45):\n",
        "    sum += marks[i]\n",
        "\n",
        "print(\"Sum:\", sum)"
      ],
      "metadata": {
        "id": "lOSNZA7Z2n6A"
      },
      "execution_count": null,
      "outputs": []
    },
    {
      "cell_type": "code",
      "source": [
        "#checking for membership\n",
        "marks = [45, 56, 56, 45, 78, 76, 78, 45]\n",
        "i==0\n",
        "for i in range "
      ],
      "metadata": {
        "id": "YVVQB3Me0BhO"
      },
      "execution_count": null,
      "outputs": []
    },
    {
      "cell_type": "code",
      "source": [
        "#123 find vowel....\n",
        "mystr=\"India is my cOUntry\"\n",
        "vowel=0\n",
        "\n",
        "for char in range(0, len(mystr)):\n",
        "    s=mystr[char].upper()\n",
        "    if s == \"A\" or s ==\"E\" or s==\"I\" or s==\"O\" or s==\"U\":\n",
        "        vowel = vowel +1\n",
        "        \n",
        "print(\"vowels are \", vowel)"
      ],
      "metadata": {
        "id": "pSJBStLB4XKU"
      },
      "execution_count": null,
      "outputs": []
    },
    {
      "cell_type": "code",
      "source": [
        "mystr=\"India is my cOUntry\"\n",
        "vowel=0\n",
        "vowels = \"aeiouAEIOU\"\n",
        "\n",
        "for char in range(0, len(mystr)): \n",
        "    if mystr[char] in vowels:\n",
        "        vowel = vowel +1\n",
        "        \n",
        "print(\"vowels are \", vowel)"
      ],
      "metadata": {
        "id": "quypbbAk6eVX"
      },
      "execution_count": null,
      "outputs": []
    },
    {
      "cell_type": "code",
      "source": [
        "#odd & even find in a given list\n",
        "\n",
        "\n",
        "marks=[45,56,56,45,78,76,78,450,34,55,12,4,66]\n",
        "odd_list=[]\n",
        "even_list=[]\n",
        "\n",
        "for i in range(0,len(marks)):\n",
        "  if(marks[i]%2==0):\n",
        "    even_list.append(marks[i])\n",
        "  else: \n",
        "    odd_list.append(marks[i])\n",
        "\n",
        "print(odd_list) \n",
        "print(even_list)"
      ],
      "metadata": {
        "id": "Gllty6VkQoAZ"
      },
      "execution_count": null,
      "outputs": []
    },
    {
      "cell_type": "code",
      "source": [
        "#find odd and even numbers\n",
        "marks =[45,98,558,558,585,69,5588,58,25,554,148,36952,125,258,588,888]\n",
        "odd_list=[]\n",
        "even_list=[]\n",
        "\n",
        "for i in range(0,len(marks)):\n",
        "  if (marks[i]%2==0):\n",
        "    even_list.append(marks[i])\n",
        "  else: \n",
        "    odd_list.append(marks[i])\n",
        "\n",
        "print(odd_list) \n",
        "print(even_list)"
      ],
      "metadata": {
        "id": "jktiU6xaem8m"
      },
      "execution_count": null,
      "outputs": []
    },
    {
      "cell_type": "code",
      "source": [
        "#find odd and even numbers\n",
        "marks = [2,4,6,8,14,7,69,69,69]\n",
        "even_list=[]\n",
        "for i in range (0,len(marks)):\n",
        "  if (marks[i]%2==0):\n",
        "    even_list.append(marks[i])\n",
        "  else:\n",
        "    odd_list.append(marks[i])\n",
        "\n",
        "    print(odd_list)\n",
        "    print(even_list)"
      ],
      "metadata": {
        "id": "JSVpnYPbizoE"
      },
      "execution_count": null,
      "outputs": []
    },
    {
      "cell_type": "code",
      "source": [
        "3\n",
        "#  Write a program to input three nos and print the greatest\n",
        "a = int(input('Enter first number  : '))\n",
        "b = int(input('Enter second number : '))\n",
        "c = int(input('Enter third number  : '))\n",
        "\n",
        "largest = 0\n",
        "\n",
        "if a > b and a > c :\n",
        "    largest = a\n",
        "elif b > c :\n",
        "    largest = b\n",
        "else :\n",
        "    largest = c\n",
        "\n",
        "print(largest, \"is the largest of three numbers.\")"
      ],
      "metadata": {
        "id": "Tkc_j6TgAt41"
      },
      "execution_count": null,
      "outputs": []
    },
    {
      "cell_type": "code",
      "source": [
        "#tuples\n",
        "tup=(4,'a', 5,'b',6,'c',7,'d',8,9)\n",
        "tup[:2]+tup[8:10]\n"
      ],
      "metadata": {
        "id": "oxfX_S3OGTBD"
      },
      "execution_count": null,
      "outputs": []
    },
    {
      "cell_type": "code",
      "source": [
        "#strings\n",
        "\n",
        "mylist = \"India is my country\"\n",
        "print(mylist[::-1])"
      ],
      "metadata": {
        "id": "hYV8aPbhKNvz"
      },
      "execution_count": null,
      "outputs": []
    },
    {
      "cell_type": "code",
      "source": [
        "#reverse string\n",
        "mylist = \"India is my country\"\n",
        "revlist=[]\n",
        "myWordList = mylist.split(\" \")\n",
        "print(myWordList)\n",
        "for subList in myWordList:\n",
        "    revlist.append(subList[::-1])\n",
        "    "
      ],
      "metadata": {
        "id": "zFOsHjrYMvaE"
      },
      "execution_count": null,
      "outputs": []
    },
    {
      "cell_type": "code",
      "source": [
        "mylist = \"India is my country\"\n",
        "lst=\"\"\n"
      ],
      "metadata": {
        "id": "yDfzWlUNOi8D"
      },
      "execution_count": null,
      "outputs": []
    },
    {
      "cell_type": "code",
      "source": [
        "#assigments\n",
        "student=[\"anu\", 80,67,45, \"seema\",90,77,66, \"Reeta\", 76,45,99, \"Ram\",90,89,78]\n",
        "# find the sum of marks of each student\n",
        "# fIND THE AVERAGE MARKS OF EACH STUDENT\n",
        "# Find teh aveerage of physics, chem and maths in the class\n",
        "# Python Program to Calculate Total Marks Percentage and Grade of a Student\n",
        "\n",
        "phy=0\n",
        "chem=0\n",
        "maths=0\n",
        "for i in range(0,len(student), 4):\n",
        "    phy= phy + student[i+1]\n",
        "    chem= chem + student[i+2]\n",
        "    maths= maths +student[i+3]\n",
        "    \n",
        "print(\"Average of physics is :\", phy/4)\n",
        "print(\"Average of chemistry is :\", chem/4)\n",
        "print(\"Average of maths is :\", maths/4)\n",
        "print(phy + chem + maths)/3"
      ],
      "metadata": {
        "id": "5RNpx1CeRMVz"
      },
      "execution_count": null,
      "outputs": []
    },
    {
      "cell_type": "code",
      "source": [
        "# Write a program to input two numbers, add them, multiply them, divide them, find remainder.\n",
        "\n",
        "num1 = int(input(\"Enter First Number: \"))\n",
        "num2 = int(input(\"Enter Second Number: \"))\n",
        "\n",
        "print(\"Enter which operation would you like to perform?\")\n",
        "ch = input(\"Enter any of these char for specific operation +,-,*,/: \")\n",
        "\n",
        "result = 0\n",
        "if ch == '+':\n",
        "    result = num1 + num2\n",
        "elif ch == '-':\n",
        "    result = num1 - num2\n",
        "elif ch == '*':\n",
        "    result = num1 * num2\n",
        "elif ch == '/':\n",
        "    result = num1 / num2\n",
        "else:\n",
        "    print(\"Input character is not recognized!\")\n",
        "\n",
        "print(num1, ch , num2, \":\", result)\n"
      ],
      "metadata": {
        "id": "fMEGt7tkcpCP"
      },
      "execution_count": null,
      "outputs": []
    },
    {
      "cell_type": "code",
      "source": [
        "# Q1 write a program to find the occurance of substring in given string\n",
        "flag = 0\n",
        "str1 = \"i m inder\"\n",
        "str2 = 'der' \n",
        "for c in range (len(str1)):  #outer loop \n",
        "  if str2[0] == str1[c]:\n",
        "    flag = 1\n",
        "    # put loop till the end of str2\n",
        "    for k in range (len ( str2 )):   # inner loop \n",
        "      if str2 [k]  == str1 [c+k] :  pass #  print ('true')\n",
        "      else  : flag=0 # print('false')\n",
        " \n",
        "if flag == 1 : \n",
        "  print (\"true\")\n",
        "else : \n",
        "  print (\"false\")"
      ],
      "metadata": {
        "id": "j_06gK5si6eI"
      },
      "execution_count": null,
      "outputs": []
    },
    {
      "cell_type": "code",
      "source": [
        "#list practice\n",
        "\n",
        "lst=[45,56,67,78,45,34,56,77,88,77,33,44,33,55,66,56]\n",
        "lst.count(45)"
      ],
      "metadata": {
        "id": "_P3U4kCzKWsA"
      },
      "execution_count": null,
      "outputs": []
    },
    {
      "cell_type": "code",
      "source": [
        "#empty list\n",
        "uniquelist=[]\n",
        "#pick only unique elements\n",
        "lst=[45,45,77,78,45,34,56,77,88,77,33,44,33,77,66,56]\n",
        "\n",
        "for number in lst:\n",
        "    if number in uniquelist:\n",
        "        pass\n",
        "    else:\n",
        "        uniquelist.append(number)\n",
        "        print(uniquelist)"
      ],
      "metadata": {
        "id": "tlJffUM8OjHj"
      },
      "execution_count": null,
      "outputs": []
    },
    {
      "cell_type": "code",
      "source": [
        "set(lst)"
      ],
      "metadata": {
        "id": "wnEJT8ZPOpLm"
      },
      "execution_count": null,
      "outputs": []
    },
    {
      "cell_type": "code",
      "source": [
        "s1={4,5,6,7}\n",
        "type s"
      ],
      "metadata": {
        "id": "2NQrVex1O5mE"
      },
      "execution_count": null,
      "outputs": []
    },
    {
      "cell_type": "code",
      "source": [
        "#Q from the given list count every fruit\n",
        "fruits=[\"mango\",\"orange\",\"mango\",\"banana\",\"grape\", \"orange\", \"orange\", \"pear\", \"orange\",\n",
        "       \"mango\",\"orange\",\"mango\",\"banana\",\"grape\", \"orange\", \"orange\", \"pear\", \"orange\",\n",
        "       \"mango\",\"orange\",\"mango\",\"banana\",\"grape\", \"orange\", \"orange\", \"pear\", \"orange\",\n",
        "       \"mango\",\"orange\",\"mango\",\"banana\",\"melon\", \"orange\", \"orange\", \"pear\", \"orange\"]\n",
        "fruits_unique=list(set(fruits))\n",
        "for i in fruits_unique:\n",
        "    print(i,fruits.count(i))"
      ],
      "metadata": {
        "id": "3Pg1zgjzQGP7",
        "colab": {
          "base_uri": "https://localhost:8080/"
        },
        "outputId": "23ad9141-b2de-437e-f92a-dbafb320098f"
      },
      "execution_count": null,
      "outputs": [
        {
          "output_type": "stream",
          "name": "stdout",
          "text": [
            "orange 16\n",
            "banana 4\n",
            "pear 4\n",
            "melon 1\n",
            "mango 8\n",
            "grape 3\n"
          ]
        }
      ]
    },
    {
      "cell_type": "code",
      "source": [
        "#Q:- arrange the words in a given string as per decresing order of their weight\n"
      ],
      "metadata": {
        "id": "dFiigy67hBD-"
      },
      "execution_count": null,
      "outputs": []
    },
    {
      "cell_type": "code",
      "source": [
        "# given list to find even number\n",
        "lst1=[45,45,77,78,45,34,56,77,88,77,33,44,33,77,66,56]\n",
        "count=0\n",
        "for i in lst1:\n",
        "    if(i%2 == 0):\n",
        "      print(i)\n"
      ],
      "metadata": {
        "id": "IDqh6D3Aq3J7"
      },
      "execution_count": null,
      "outputs": []
    },
    {
      "cell_type": "code",
      "source": [
        "# given list to count even number \n",
        "lst1=[45,45,77,78,45,34,56,77,88,77,33,44,33,77,66,56]\n",
        "count=0\n",
        "for i in lst1:\n",
        "    if(i%2 == 0):\n",
        "      count=count+1\n",
        "print(count)\n"
      ],
      "metadata": {
        "id": "xrv3u_EjtgWN"
      },
      "execution_count": null,
      "outputs": []
    },
    {
      "cell_type": "code",
      "source": [
        "#display the count of even and odd number not equal to zero\n",
        "lst1 = [233,0,114,55,23]\n",
        "count=0\n",
        "for i in lst1:\n",
        "    if(i%2 == 0):\n",
        "      count=count+1\n",
        "      \n",
        "print(count)"
      ],
      "metadata": {
        "id": "WGGx9xHlweMW"
      },
      "execution_count": null,
      "outputs": []
    },
    {
      "cell_type": "code",
      "source": [
        "#display the count of even and odd number not equal to zero\n",
        "lst1=[1000,2,8,69,89,44,66,114,55,23,93,25,3,7]\n",
        "counte=0\n",
        "counto=0\n",
        "for i in range(len(lst1)):\n",
        "    if lst1[i] %2== 0:\n",
        "            counte=counte+1\n",
        "    else:\n",
        "        counto=counto+1\n",
        "        \n",
        "print(\"no. of even elements: \",counte)\n",
        "print(\"no. of odd elements: \",counto)"
      ],
      "metadata": {
        "id": "UoHMuIov1Ghb"
      },
      "execution_count": null,
      "outputs": []
    },
    {
      "cell_type": "code",
      "source": [
        "# Q1 : Display the count of numbers divisible by 5  and count of numbers divisible by 3\n",
        "# lst1 = [12,15,55,73,30,21,59]\n",
        "# Q2 : display the count of character 's' in string 'sun is synonymous to strength'\n",
        "#Q3. Given String India . Print the characters of the given string \n",
        "# no of time as per postional value\n",
        "Inndddiiiiaaaaa\n",
        "I(1)n(2)d(3)i(4)a(5)\n",
        "#Q4. Given number 4783 . Print the numbers of the given integer number \n",
        "# no of time as per postional value\n",
        "4778883333\n",
        "4(1)7(2)8(3)3(4)\n"
      ],
      "metadata": {
        "id": "Xzv47mHu2RvN"
      },
      "execution_count": null,
      "outputs": []
    },
    {
      "cell_type": "code",
      "source": [
        "# Q1 : Display the count of numbers divisible by 5  and count of numbers divisible by 3\n",
        "# lst1 = [12,15,55,73,30,21,59]\n",
        "lst1 = [12,15,55,73,30,21,59]\n",
        "count_by_5 = 0\n",
        "count_by_3 = 0\n",
        "for number in lst1:\n",
        "    if number % 5 == 0:\n",
        "        count_by_5 += 1\n",
        "    if number % 3 == 0:\n",
        "        count_by_3 += 1\n",
        "\n",
        "print(\"Count of numbers divisible by 5: \", count_by_5)\n",
        "print(\"Count of numbers divisible by 3: \", count_by_3)\n"
      ],
      "metadata": {
        "id": "0_MEs6c9_Uem"
      },
      "execution_count": null,
      "outputs": []
    },
    {
      "cell_type": "code",
      "source": [
        "# Q2 : display the count of character 's' in string 'sun is synonymous to strength'\n",
        "def count(s, c) :\n",
        "    res = 0\n",
        "    for i in range(len(s)) :\n",
        "        if (s[i] == c):\n",
        "            res = res + 1\n",
        "    return res\n",
        "str= \"sun is synonymous to strength\"\n",
        "c = 's'\n",
        "print(count(str, c))"
      ],
      "metadata": {
        "id": "-dIF77ivBphT"
      },
      "execution_count": null,
      "outputs": []
    },
    {
      "cell_type": "code",
      "source": [
        "#Q3. Given String India . Print the characters of the given string \n",
        "# no of time as per postional value\n",
        "string = \"India\"\n",
        "for char in string:\n",
        "    print(char)\n"
      ],
      "metadata": {
        "id": "N7ZrSqXOdXG4"
      },
      "execution_count": null,
      "outputs": []
    },
    {
      "cell_type": "code",
      "source": [
        "#5 Print the greatest digit out of the given number\n",
        "num=(input(\"Enter Number: \"))\n",
        "l=list(num)\n",
        "max(l)"
      ],
      "metadata": {
        "id": "kdiNhv9uNprU"
      },
      "execution_count": null,
      "outputs": []
    },
    {
      "cell_type": "code",
      "source": [
        "#2 Print the reverse of the  given number\n",
        "#1\n",
        "number=4783\n",
        "reverse_number = int((str(number))[::-1])\n",
        "print(reverse_number)\n",
        "#2\n",
        "number=9876543210\n",
        "reverse_number = int((str(number))[::-1])\n",
        "print(reverse_number)"
      ],
      "metadata": {
        "id": "B6TRyLCkM1Lk"
      },
      "execution_count": null,
      "outputs": []
    },
    {
      "cell_type": "code",
      "source": [
        "#write a program to input three nos.& print the greatest\n",
        "a = int(input('Enter first number  : '))\n",
        "b = int(input('Enter second number : '))\n",
        "c = int(input('Enter third number  : '))\n",
        "\n",
        "largest = 0\n",
        "\n",
        "if a > b and a > c :\n",
        "    largest = a\n",
        "elif b > c :\n",
        "    largest = b\n",
        "else :\n",
        "    largest = c\n",
        "\n",
        "print(largest, \"is the largest of three numbers.\")"
      ],
      "metadata": {
        "id": "afLoMpo2S-sN"
      },
      "execution_count": null,
      "outputs": []
    },
    {
      "cell_type": "code",
      "source": [
        "#Qno.3 print sum of first 10 number\n",
        "n = int(input(\"Enter number\"))\n",
        "sum = 0\n",
        "for num in range(1, n + 1, 1):\n",
        "    sum = sum + num\n",
        "print(\"Sum of first \", n, \"numbers is: \", sum)"
      ],
      "metadata": {
        "id": "HYGDqofMs0Ge"
      },
      "execution_count": null,
      "outputs": []
    },
    {
      "cell_type": "code",
      "source": [
        "#Qno.1:-\n",
        "#enter a four digit number chech whether its leap year\n",
        "year = int(input('Enter year : '))\n",
        "\n",
        "if (year%4 == 0 and year%100 != 0) or (year%400 == 0) :\n",
        "    print(year, \"is a leap year.\")\n",
        "else :\n",
        "    print(year, \"is not a leap year.\")\n"
      ],
      "metadata": {
        "id": "16rj0Lgvkzui"
      },
      "execution_count": null,
      "outputs": []
    },
    {
      "cell_type": "code",
      "source": [
        "#q enter a no. and print whether its a prime \n",
        "num =11\n",
        "if num > 1:\n",
        "    for i in range(2, int(num/2)+1):\n",
        "        if (num % i) == 0:\n",
        "            print(num, \"is not a prime number\")\n",
        "            break\n",
        "    else:\n",
        "        print(num, \"is a prime number\")\n",
        "else:\n",
        "    print(num, \"is not a prime number\")"
      ],
      "metadata": {
        "id": "yjdORPMns9ex"
      },
      "execution_count": null,
      "outputs": []
    },
    {
      "cell_type": "code",
      "source": [
        "#print fibonicci series upto given terms"
      ],
      "metadata": {
        "id": "TtsrRuAtu2rb"
      },
      "execution_count": null,
      "outputs": []
    },
    {
      "cell_type": "code",
      "source": [
        "tup=(\"adv,gf,hh,hhh,66,88,44,66,89\")\n",
        "tup1=tup[0:2]+tup[6:9]"
      ],
      "metadata": {
        "id": "oB0nbs3yWnUz"
      },
      "execution_count": null,
      "outputs": []
    },
    {
      "cell_type": "code",
      "source": [
        "sentence=\"the latest chatgtp has become a challange for google\"\n",
        "def remove_vowels(sentence):\n",
        "    vowels = \"aeiouAEIOU\"\n",
        "    return \"\".join([char for char in sentence if char not in vowels])\n",
        "\n",
        "sentence = \"the latest chatgtp has become a challenge for google\"\n",
        "print(remove_vowels(sentence))"
      ],
      "metadata": {
        "id": "RMeayuSvay6q"
      },
      "execution_count": null,
      "outputs": []
    },
    {
      "cell_type": "code",
      "source": [
        "sentence=\"81% of Flipkart employees would recommend working there to a  \\\n",
        "friend based on Glassdoor reviews. Employees also rated Flipkart 3.6 \\\n",
        "out of 5 for work life balance, 4.1 for culture and values and 4.0 for career opportunities.\"\n",
        "stopwords=[\"in\", \"of\",\"and\", \"can\", \"on\", \"the\", \"for\", \"it\", \"a\", \"are\", \"he\", \"she\", \"us\"]\n",
        "impwords=[\"delicious\", \"relish\", \"enjoyed\", \"tasty\", \"lovely\", \"nice\"]\n",
        "def remove_stopwords(sentence):\n",
        "  stopwords = stopwords=[\"in\", \"of\",\"and\", \"can\", \"on\", \"the\", \"for\", \"it\", \"a\", \"are\", \"he\", \"she\", \"us\"]\n",
        "  return \"\".join([words for words in sentence if words not in stopwords])\n",
        "  stopwords = stopwords=[\"in\", \"of\",\"and\", \"can\", \"on\", \"the\", \"for\", \"it\", \"a\", \"are\", \"he\", \"she\", \"us\"]\n",
        "print(remove_stopwords(sentence))"
      ],
      "metadata": {
        "id": "r1IalcOafNpZ"
      },
      "execution_count": null,
      "outputs": []
    },
    {
      "cell_type": "code",
      "source": [
        "sentence=\"81% of Flipkart employees would recommend working there to a  \\\n",
        "friend based on Glassdoor reviews. Employees also rated Flipkart 3.6 \\\n",
        "out of 5 for work life balance, 4.1 for culture and values and 4.0 for career opportunities.\"\n",
        "def count_impwords(sentence, impwords):\n",
        "    return sum([1 for c in sentence if c == impwords])\n",
        "\n",
        "sentence =\"81% of Flipkart employees would recommend working there to a  \\\n",
        "friend based on Glassdoor reviews. Employees also rated Flipkart 3.6 \\\n",
        "out of 5 for work life balance, 4.1 for culture and values and 4.0 for career opportunities.\"\n",
        "impwords=[\"delicious\", \"relish\", \"enjoyed\", \"tasty\", \"lovely\", \"nice\"]\n",
        "print(\"The character '{}' appears {} times in the sentence.\".format(char, count_char(sentence, char)))\n"
      ],
      "metadata": {
        "id": "07Yl_TrhittK"
      },
      "execution_count": null,
      "outputs": []
    },
    {
      "cell_type": "code",
      "source": [
        "maillist=[\"From stephen.marquard@gmail.com Sat Jan  5 09:14:16 2008\",\n",
        "          \"From rahul@nielit.gov.in Sat Jan  5 10:24:16 2008\",\n",
        "          \"From stephen.marquard@gmail.com Sat Jan  5 09:14:16 2015\",\n",
        "          \"From anita@nielit.gov.in Sat Jan  5 11:14:16 2008\",\n",
        "          \"From rajeshkumar@yahoo.com Sat Jan  5 09:14:16 2008\",\n",
        "          \"From meenu@yahoo.com Sat Feb  5 10:14:16 2019\",\n",
        "          \"From rashmi@rediff.com Sun Jan  5 09:14:16 2022\", \n",
        "          \"From rashmi@gmail.com Sun Feb  5 10:14:16 2012\",\n",
        "          \"From rash@gmail.com Sun Jan  5 12:14:16 2021\" , \n",
        "          \"From rash@rediff.com Sun Jan  5 09:14:16 2020\",\n",
        "         \"From stephen.marquard@gmail.com Sat Jan  5 09:14:16 2022\",\n",
        "          \"From rahul@nielit.gov.in Sat Jan  5 10:24:16 2008\",\n",
        "          \"From stephen.marquard@gmail.com Sat Jan  5 09:14:16 2023\",\n",
        "          \"From anita@nielit.gov.in Sat Jan  5 09:14:16 2008\",\n",
        "          \"From rajeshkumar@yahoo.com Sat Jan 2 10:14:16 2008\",\n",
        "          \"From meenu@yahoo.com Sat Jan 5 10:14:16 2019\",\n",
        "          \"From rashmi@rediff.com Sun Jan 5 09:14:16 2011\", \n",
        "          \"From rash@rediff.com Sun Jan  5 09:14:16 2080\",\n",
        "         \"From stephen.marquard@gmail.com Sat Jan  5 09:14:16 2008\",\n",
        "          \"From rahul@nielit.gov.in Sat Jan  5 10:24:16 2008\",\n",
        "          \"From stephen.marquard@mygmail.com Sat Jan  5 09:14:16 2008\",\n",
        "          \"From anita@nielit.gov.in Sat Jan  5 11:14:16 2008\"]\n",
        "          def count_emails_by_time(\"maillist, start_time, end_time\"):\n",
        "          for email in maillist:\n",
        "              count = 0\n",
        "              time = email.split()[5].split(\":\")\n",
        "              hour = int(time[0])\n",
        "              if start_time <= hour < end_time:\n",
        "                count + = 1\n",
        "                return count\n",
        "                start_time = 9\n",
        "                end_time = 10\n",
        "                print(\"Number of emails sent between {}:00 AM and {}:00 AM: {}\".format(start_time, end_time, count_emails_by_time(maillist, start_time, end_time)))"
      ],
      "metadata": {
        "id": "BJKXEwdSoiqs"
      },
      "execution_count": null,
      "outputs": []
    },
    {
      "cell_type": "code",
      "source": [
        "maillist=[\"From stephen.marquard@gmail.com Sat Jan  5 09:14:16 2008\",\n",
        "          \"From rahul@nielit.gov.in Sat Jan  5 10:24:16 2008\",\n",
        "          \"From stephen.marquard@gmail.com Sat Jan  5 09:14:16 2015\",\n",
        "          \"From anita@nielit.gov.in Sat Jan  5 11:14:16 2008\",\n",
        "          \"From rajeshkumar@yahoo.com Sat Jan  5 09:14:16 2008\",\n",
        "          \"From meenu@yahoo.com Sat Feb  5 10:14:16 2019\",\n",
        "          \"From rashmi@rediff.com Sun Jan  5 09:14:16 2022\", \n",
        "          \"From rashmi@gmail.com Sun Feb  5 10:14:16 2012\",\n",
        "          \"From rash@gmail.com Sun Jan  5 12:14:16 2021\" , \n",
        "          \"From rash@rediff.com Sun Jan  5 09:14:16 2020\",\n",
        "         \"From stephen.marquard@gmail.com Sat Jan  5 09:14:16 2022\",\n",
        "          \"From rahul@nielit.gov.in Sat Jan  5 10:24:16 2008\",\n",
        "          \"From stephen.marquard@gmail.com Sat Jan  5 09:14:16 2023\",\n",
        "          \"From anita@nielit.gov.in Sat Jan  5 09:14:16 2008\",\n",
        "          \"From rajeshkumar@yahoo.com Sat Jan 2 10:14:16 2008\",\n",
        "          \"From meenu@yahoo.com Sat Jan 5 10:14:16 2019\",\n",
        "          \"From rashmi@rediff.com Sun Jan 5 09:14:16 2011\", \n",
        "          \"From rash@rediff.com Sun Jan  5 09:14:16 2080\",\n",
        "         \"From stephen.marquard@gmail.com Sat Jan  5 09:14:16 2008\",\n",
        "          \"From rahul@nielit.gov.in Sat Jan  5 10:24:16 2008\",\n",
        "          \"From stephen.marquard@mygmail.com Sat Jan  5 09:14:16 2008\",\n",
        "          \"From anita@nielit.gov.in Sat Jan  5 11:14:16 2008\"]\n",
        "mail_dic={}\n",
        "for log in maillist:\n",
        "  strt=log.find('@')\n",
        "  end=log.find(' ',strt+1)\n",
        "  mail= log[strt+1:end]\n",
        "  if mail not in mail_dic:\n",
        "        mail_dic[mail]=1\n",
        "  else:\n",
        "    mail_dic[mail]= mail_dic[mail] + 1\n",
        "              \n",
        "mail_dic"
      ],
      "metadata": {
        "colab": {
          "base_uri": "https://localhost:8080/"
        },
        "id": "rbmeMEJ2p-RY",
        "outputId": "6aae7fc5-f5bc-4d4d-a20f-10dc822570c2"
      },
      "execution_count": null,
      "outputs": [
        {
          "output_type": "execute_result",
          "data": {
            "text/plain": [
              "{'gmail.com': 7,\n",
              " 'nielit.gov.in': 6,\n",
              " 'yahoo.com': 4,\n",
              " 'rediff.com': 4,\n",
              " 'mygmail.com': 1}"
            ]
          },
          "metadata": {},
          "execution_count": 27
        }
      ]
    },
    {
      "cell_type": "code",
      "source": [
        "# # #PYTHON LISTS:-\n",
        "# # # guild=[\"vijay\",\"inder\",\"nishit\",\"pooja\",\"vishal\",\"vju\"]\n",
        "# # # print(guild[6])\n",
        "# # # #print(guild)\n",
        "# # numbers=[4,6,8,9,3,4,5,6,7,7]\n",
        "# # # print(numbers)\n",
        "# # # print(numbers[2])\n",
        "# # print[numbers.reverse()]\n",
        "numbers=[2,3,55,66]\n",
        "# print(max(numbers))\n",
        "numbers.append(5)\n",
        "numbers.append(5)\n",
        "numbers.insert(5,89)\n",
        "print(numbers)"
      ],
      "metadata": {
        "id": "YqGwW_S2eW2H"
      },
      "execution_count": null,
      "outputs": []
    },
    {
      "cell_type": "code",
      "source": [
        "# ASSIGMENT NO 2:\n",
        "#Q15. Enter a number. Check whether its prime or not.\n",
        "def is_prime(n):\n",
        "    if n <= 1:\n",
        "        return False\n",
        "    for i in range(2, n):\n",
        "        if n % i == 0:\n",
        "            return False\n",
        "    return True\n",
        "\n",
        "num = int(input(\"Enter a number: \"))\n",
        "\n",
        "if is_prime(num):\n",
        "    print(num, \"is a prime number.\")\n",
        "else:\n",
        "    print(num, \"is not a prime number.\")\n"
      ],
      "metadata": {
        "id": "jaTmF_d-p2J-"
      },
      "execution_count": null,
      "outputs": []
    },
    {
      "cell_type": "code",
      "source": [
        "# ASSIGMENT NO 2:not.\n",
        "#Q13. Write a program to check a character is vowel or \n",
        "def is_vowel(char):\n",
        "    vowels = ['a', 'e', 'i', 'o', 'u', 'A', 'E', 'I', 'O', 'U']\n",
        "    if char in vowels:\n",
        "        return True\n",
        "    else:\n",
        "        return False\n",
        "\n",
        "char = input(\"Enter a character: \")\n",
        "\n",
        "if len(char) > 1:\n",
        "    print(\"Invalid input. Please enter a single character.\")\n",
        "else:\n",
        "    if is_vowel(char):\n",
        "        print(f\"{char} is a vowel.\")\n",
        "    else:\n",
        "        print(f\"{char} is not a vowel.\")\n"
      ],
      "metadata": {
        "id": "93unn5xqqnqW"
      },
      "execution_count": null,
      "outputs": []
    },
    {
      "cell_type": "code",
      "source": [
        "#Write a Python program to enter month name and show total number of days in that month.\n",
        "def days_in_month(month):\n",
        "    months_31 = [\"january\", \"march\", \"may\", \"july\", \"august\", \"october\", \"december\"]\n",
        "    months_30 = [\"april\", \"june\", \"september\", \"november\"]\n",
        "    if month == \"february\":\n",
        "        return 28\n",
        "    elif month in months_31:\n",
        "        return 31\n",
        "    elif month in months_30:\n",
        "        return 30\n",
        "    else:\n",
        "        return None\n",
        "\n",
        "month = input(\"Enter the name of a month: \")\n",
        "\n",
        "days = days_in_month(month)\n",
        "\n",
        "if days is None:\n",
        "    print(\"Invalid month name.\")\n",
        "else:\n",
        "    print(f\"{month} has {days} days.\")\n"
      ],
      "metadata": {
        "id": "eMDsZ9Z9w1ri"
      },
      "execution_count": null,
      "outputs": []
    },
    {
      "cell_type": "code",
      "source": [
        "# Write a Python program to construct the following pattern, using a nested loop \n",
        "# number.\n",
        "# 1\n",
        "# 22\n",
        "# 333\n",
        "# 4444\n",
        "# 55555\n",
        "# 666666\n",
        "# 7777777\n",
        "# 88888888\n",
        "# 999999999\n",
        "for i in range(2, 11):\n",
        "    for j in range(i):\n",
        "        print(i, end='')\n",
        "    print()"
      ],
      "metadata": {
        "id": "PEGTg_dyzXqY"
      },
      "execution_count": null,
      "outputs": []
    },
    {
      "cell_type": "code",
      "source": [
        "# code 1 : calculate the weight of the given string \n",
        "def strWeight ( myStr):\n",
        "  ''' \n",
        "  showWeight1 method accepts String and \n",
        "  returns the interger weight\n",
        "  ''' \n",
        "  res = 0\n",
        "  for i in myStr : \n",
        "    res = res + ord(i)-96\n",
        "  return(res) "
      ],
      "metadata": {
        "id": "WAJp0f1y6W_e"
      },
      "execution_count": null,
      "outputs": []
    },
    {
      "cell_type": "code",
      "source": [
        "name = [ \"Manjeet\", \"Nikhil\", \"Shambhavi\", \"Astha\" ]\n",
        "roll_no = [ 4, 1, 3, 2 ]\n",
        "marks = [ 40, 50, 60, 70 ]\n",
        "student = list(zip(name,roll_no,marks))\n",
        "Student_list=[]\n",
        "\n",
        "for record in student:\n",
        "    temp=[]\n",
        "    for value in record:\n",
        "        temp.append(value)\n",
        "    Student_list.append(temp)\n",
        "    temp=[]\n",
        "\n",
        "for record in Student_list:\n",
        "    if record[2]<= 50:\n",
        "        record[2] += 10\n",
        "Student_list\n",
        "list(zip(name,roll_no,marks))\n"
      ],
      "metadata": {
        "id": "zZC8Cprcms3Y"
      },
      "execution_count": null,
      "outputs": []
    },
    {
      "cell_type": "code",
      "source": [
        "name = [ \"Manjeet\", \"Nikhil\", \"Shambhavi\", \"Astha\", \"inder\",\"rajiv\" ,\"Rohit\"]\n",
        "roll_no = [ 4,6,6,68,3,56,988,2222,144, 1, 3, 2 ]\n",
        "marks = [ 40, 50, 60, 70 ]\n",
        "list_names=[]\n",
        "\n",
        "if len(name)==len(roll_no)==len(marks):\n",
        "    student = list(zip(name,roll_no,marks))\n",
        "list_names.append(name)\n",
        "list_names.append(roll_no)\n",
        "list_names.append(marks)\n",
        "\n",
        "max=0\n",
        "index=0\n",
        "for i in range(len(list_names)):\n",
        "    if len(list_names[i]) > max:\n",
        "        max = len(list_names[i])\n",
        "        index=i\n",
        "\n",
        "list_names[index]"
      ],
      "metadata": {
        "id": "_M_Q6K95uSTN"
      },
      "execution_count": null,
      "outputs": []
    },
    {
      "cell_type": "code",
      "source": [
        "name = [ \"Manjeet\", \"Nikhil\", \"Shambhavi\", \"Astha\", \"inder\",\"rajiv\" ,\"Rohit\"]\n",
        "roll_no = [ 4,6,6,68,3,56,988,2222,144, 1, 3, 2 ]\n",
        "marks = [ 40, 50, 60, 70 ]\n",
        "def myzip(name,roll,marks):\n",
        "    student=[]\n",
        "    list_students=[]\n",
        "    for i in range(len(name)):\n",
        "      student.append(name[i])\n",
        "      student.append(roll_no[i])\n",
        "      student.append(marks[i])\n",
        "      print(student)\n",
        "      student=tuple(student)\n",
        "      print(student)\n",
        "      list_students.append(student)\n",
        "      print(list_students)\n",
        "      student=[]\n",
        "    return list_students\n",
        "\n",
        "def main():\n",
        "    name = [ \"Manjeet\", \"Nikhil\", \"Shambhavi\", \"Astha\" ]\n",
        "    roll_no = [ 4, 1, 3, 2 ]\n",
        "    marks = [ 40, 50, 60, 70 ]\n",
        "    lst="
      ],
      "metadata": {
        "id": "Ae7-IT2Rw7oT"
      },
      "execution_count": null,
      "outputs": []
    },
    {
      "cell_type": "code",
      "source": [
        "#qno1:-\n",
        "def print_multiplication_table():\n",
        "  n= int(input(\"Enter a number to print themultiplication table:\"))\n",
        "  if n>18:\n",
        "    print(\"Nnumber is large\")\n",
        "  print(\"Multiplication of\", n ,\"is :\")\n",
        "  for i in range (1, n+1):\n",
        "      print(n, \"*\", i, \"=\", n*i)\n",
        "print_multiplication_table()\n"
      ],
      "metadata": {
        "id": "K3qi09fN1xLe"
      },
      "execution_count": null,
      "outputs": []
    },
    {
      "cell_type": "code",
      "source": [
        "# code 3 : merge the code 1 and code 2\n",
        "str2 = \"india is my  and i am indian\"\n",
        "#calculate the weight of each word in given string - str2\n",
        "# then calculate the max out of these \n",
        "sweight = [] # create blank list\n",
        "newstr = str2.split()\n",
        "for s in newstr:\n",
        "  print(s , strWeight(s))\n",
        "  sweight.append(strWeight(s))\n",
        "print (sweight)\n",
        "\n",
        "max = sweight[0]\n",
        "for i in sweight : \n",
        "  if i > max  : \n",
        "    max = i \n",
        "\n",
        "print(max)"
      ],
      "metadata": {
        "id": "qawP3dg082yp",
        "colab": {
          "base_uri": "https://localhost:8080/",
          "height": 235
        },
        "outputId": "be58085f-7527-48bc-9819-77b2fc2df1a7"
      },
      "execution_count": null,
      "outputs": [
        {
          "output_type": "error",
          "ename": "NameError",
          "evalue": "ignored",
          "traceback": [
            "\u001b[0;31m---------------------------------------------------------------------------\u001b[0m",
            "\u001b[0;31mNameError\u001b[0m                                 Traceback (most recent call last)",
            "\u001b[0;32m<ipython-input-9-993677a45bcd>\u001b[0m in \u001b[0;36m<module>\u001b[0;34m\u001b[0m\n\u001b[1;32m      6\u001b[0m \u001b[0mnewstr\u001b[0m \u001b[0;34m=\u001b[0m \u001b[0mstr2\u001b[0m\u001b[0;34m.\u001b[0m\u001b[0msplit\u001b[0m\u001b[0;34m(\u001b[0m\u001b[0;34m)\u001b[0m\u001b[0;34m\u001b[0m\u001b[0;34m\u001b[0m\u001b[0m\n\u001b[1;32m      7\u001b[0m \u001b[0;32mfor\u001b[0m \u001b[0ms\u001b[0m \u001b[0;32min\u001b[0m \u001b[0mnewstr\u001b[0m\u001b[0;34m:\u001b[0m\u001b[0;34m\u001b[0m\u001b[0;34m\u001b[0m\u001b[0m\n\u001b[0;32m----> 8\u001b[0;31m   \u001b[0mprint\u001b[0m\u001b[0;34m(\u001b[0m\u001b[0ms\u001b[0m \u001b[0;34m,\u001b[0m \u001b[0mstrWeight\u001b[0m\u001b[0;34m(\u001b[0m\u001b[0ms\u001b[0m\u001b[0;34m)\u001b[0m\u001b[0;34m)\u001b[0m\u001b[0;34m\u001b[0m\u001b[0;34m\u001b[0m\u001b[0m\n\u001b[0m\u001b[1;32m      9\u001b[0m   \u001b[0msweight\u001b[0m\u001b[0;34m.\u001b[0m\u001b[0mappend\u001b[0m\u001b[0;34m(\u001b[0m\u001b[0mstrWeight\u001b[0m\u001b[0;34m(\u001b[0m\u001b[0ms\u001b[0m\u001b[0;34m)\u001b[0m\u001b[0;34m)\u001b[0m\u001b[0;34m\u001b[0m\u001b[0;34m\u001b[0m\u001b[0m\n\u001b[1;32m     10\u001b[0m \u001b[0mprint\u001b[0m \u001b[0;34m(\u001b[0m\u001b[0msweight\u001b[0m\u001b[0;34m)\u001b[0m\u001b[0;34m\u001b[0m\u001b[0;34m\u001b[0m\u001b[0m\n",
            "\u001b[0;31mNameError\u001b[0m: name 'strWeight' is not defined"
          ]
        }
      ]
    },
    {
      "cell_type": "code",
      "source": [
        "str= \"india\"\n",
        "count=0\n",
        "for i in range (len(str)):\n",
        "  print(str[i])\n",
        "  count= count +1\n",
        "  print(count)"
      ],
      "metadata": {
        "id": "8cNjacKQ-yCd"
      },
      "execution_count": null,
      "outputs": []
    },
    {
      "cell_type": "code",
      "source": [
        "Str=\"hello MY name iS iNDER dEV\"\n",
        "lower=0\n",
        "upper=0\n",
        "for i in Str:\n",
        "\tif(i.islower()):\n",
        "\t\t\tlower+=1\n",
        "\telse:\n",
        "\t\t\tupper+=1\n",
        "print(\"lowercase\",lower)\n",
        "print(\"uppercase\",upper)\n"
      ],
      "metadata": {
        "id": "_u_cP12nAUwN"
      },
      "execution_count": null,
      "outputs": []
    },
    {
      "cell_type": "code",
      "source": [
        "str1 = \"inDeR\"\n",
        "for c in str1 :\n",
        "  print (c)\n",
        "  if (ord(c)>=65 and (ord(c)>=90): print(\"uppercase\")\n",
        "  if (ord(c)>=97 and (ord(c)>=122): print(\"lowercase\")"
      ],
      "metadata": {
        "id": "ZPuFwYB6BFMq",
        "colab": {
          "base_uri": "https://localhost:8080/",
          "height": 130
        },
        "outputId": "afb2a06d-a716-4fa0-e2f8-fb50acda43c9"
      },
      "execution_count": null,
      "outputs": [
        {
          "output_type": "error",
          "ename": "SyntaxError",
          "evalue": "ignored",
          "traceback": [
            "\u001b[0;36m  File \u001b[0;32m\"<ipython-input-2-925dda102c26>\"\u001b[0;36m, line \u001b[0;32m4\u001b[0m\n\u001b[0;31m    if (ord(c)>=65 and (ord(c)>=90): print(\"uppercase\")\u001b[0m\n\u001b[0m                                   ^\u001b[0m\n\u001b[0;31mSyntaxError\u001b[0m\u001b[0;31m:\u001b[0m invalid syntax\n"
          ]
        }
      ]
    },
    {
      "cell_type": "code",
      "source": [
        "def no_of_words(str1):\n",
        "  count=1\n",
        "  for i in range(0,len(str1)):\n",
        "    if (str1[i]==' ' and str1[i+1]!=' ') :\n",
        "      count=count+1\n",
        "  return count\n",
        "  str1 = \" we  r indians \"\n",
        "print(no_of_words(str1))"
      ],
      "metadata": {
        "id": "bmcmDhVLF8HX"
      },
      "execution_count": null,
      "outputs": []
    },
    {
      "cell_type": "code",
      "source": [
        "# sort the list without using any built-in method / ascending order\n",
        "lst1 = [20,15,14,12,7,1]\n",
        "print ( lst1) \n",
        "for k in range (len(lst1)-1):\n",
        "  for i in range (len(lst1)-1):\n",
        "    print (lst1[i], end = \" \")"
      ],
      "metadata": {
        "id": "OoRdKj4MJzzX"
      },
      "execution_count": null,
      "outputs": []
    },
    {
      "cell_type": "code",
      "source": [],
      "metadata": {
        "id": "x6-a634PsQzx"
      },
      "execution_count": null,
      "outputs": []
    },
    {
      "cell_type": "code",
      "source": [
        "# Q6  Take two lists, say for example these two:\n",
        "#   a = [23,24,25,26,27,28,29,30,31,32]\n",
        "#   b = [24,26,28,29,32]\n",
        "# and write a program that returns a list that contains only the elements that are common between the lists (without duplicates). Make sure your program works on two lists of different sizes.\n",
        "a = [23,24,25,26,27,28,29,30,31,32]\n",
        "b = [24,26,28,29,32]\n",
        "c=[]\n",
        "for i in range(len(a)):\n",
        "    if a[i] in b:\n",
        "        c.append(a[i])\n",
        "c=set(c)\n",
        "print(c)"
      ],
      "metadata": {
        "id": "MN8tMFiwlajo",
        "colab": {
          "base_uri": "https://localhost:8080/"
        },
        "outputId": "9eaa6317-cd24-47a2-ee95-17b51cf31919"
      },
      "execution_count": null,
      "outputs": [
        {
          "output_type": "stream",
          "name": "stdout",
          "text": [
            "{32, 24, 26, 28, 29}\n"
          ]
        }
      ]
    },
    {
      "cell_type": "code",
      "source": [
        "#Q7 Write a program (function!) that takes a list and returns a new list that contains all the elements of the first list minus all the duplicates.\n",
        "a = [69,68,69,29,11,12,13,14,12,13,68,69]\n",
        "\n",
        "doublewords = set()\n",
        "uniquewords = []\n",
        "for x in a:\n",
        "    if x not in doublewords:\n",
        "        uniquewords.append(x)\n",
        "        dup_items.add(x)\n",
        "\n",
        "print(dup_items)"
      ],
      "metadata": {
        "id": "hcMI8TF2n56H"
      },
      "execution_count": null,
      "outputs": []
    },
    {
      "cell_type": "code",
      "source": [
        "# count the number of words in a string\n",
        "def countWords(strIn):\n",
        "  wordCount = 0\n",
        "  if len(strIn) != 0:  #making sure there are some words in the string\n",
        "    isWord = True\n",
        "    if strIn[0] == \" \": # so  that we correct the first loop iteration beforehand\n",
        "      wordCount = -1\n",
        "  else:\n",
        "    return 0\n",
        "  for i in strIn:\n",
        "    if i != \" \":\n",
        "      isWord = True\n",
        "    else: \n",
        "      if isWord: # if we had a word earlier we can increment\n",
        "        wordCount += 1\n",
        "        isWord = False\n",
        "  if strIn[-1] != \" \": wordCount += 1 # for last element if it doesn't end with a space\n",
        "  return wordCount\n",
        "print(countWords(\"  a   hi\"))"
      ],
      "metadata": {
        "id": "gj37H742tOCA"
      },
      "execution_count": null,
      "outputs": []
    },
    {
      "cell_type": "code",
      "source": [
        "# accept 10 numbers from user (one at a time) and make list of these given numbers\n",
        "z=[]\n",
        "print(\"Enter 10 numbers...\")\n",
        "for i in range(0,10):\n",
        "  z.append(int(input(\"Enter: \")))\n",
        "print(\"Here is the list...\")\n",
        "print(z)"
      ],
      "metadata": {
        "id": "MEaEvlMft5qP"
      },
      "execution_count": null,
      "outputs": []
    },
    {
      "cell_type": "code",
      "source": [
        "# accept 10 numbers from user (one at a time) and make sorted list of these given numbers . donot use sort or any built in method\n",
        "my_list = [-15, -26, 15, 1, 23, -64, 23, 76]\n",
        "new_list = []\n",
        "\n",
        "while my_list:\n",
        "    min = my_list[0]  \n",
        "    for x in my_list: \n",
        "        if x < min:\n",
        "            min = x\n",
        "    new_list.append(min)\n",
        "    my_list.remove(min)    \n",
        "\n",
        "print(new_list)"
      ],
      "metadata": {
        "id": "uLkan-4wKRrT"
      },
      "execution_count": null,
      "outputs": []
    },
    {
      "cell_type": "code",
      "source": [
        "#accept 10 numbers from user (one at a time) and display the max, min and average after each number is accepted\n",
        "n = int(input(\"Enter number\"))\n",
        "sum = 0\n",
        "for n in range(1, n + 1, 1):\n",
        "    sum = sum + n\n",
        "print(\"Sum of first \", n, \"numbers is: \", sum)\n",
        "average = sum / n\n",
        "print(\"Average of \", n, \"numbers is: \", average)"
      ],
      "metadata": {
        "id": "nViux9RNHa_9",
        "colab": {
          "base_uri": "https://localhost:8080/"
        },
        "outputId": "43fae6fa-2dd8-4d86-ecbf-8fd5f755ec31"
      },
      "execution_count": null,
      "outputs": [
        {
          "output_type": "stream",
          "name": "stdout",
          "text": [
            "Enter number3\n",
            "Sum of first  3 numbers is:  6\n",
            "Average of  3 numbers is:  2.0\n"
          ]
        }
      ]
    },
    {
      "cell_type": "code",
      "source": [
        "#accept 10 numbers from user (one at a time) and display the max, min and average after each number is accepted\n",
        "num_list = int[]\n",
        "count = 1\n",
        "\n",
        "while count <= 10:\n",
        "    num = int(input(\"Enter a number: \"))\n",
        "    num_list.append(num)\n",
        "    max_num = max(num_list)\n",
        "    min_num = min(num_list)\n",
        "    avg_num = sum(num_list)/len(num_list)\n",
        "    print(\"Max: \", max_num)\n",
        "    print(\"Min: \", min_num)\n",
        "    print(\"Average: \", avg_num)\n",
        "    count += 1"
      ],
      "metadata": {
        "colab": {
          "base_uri": "https://localhost:8080/",
          "height": 252
        },
        "id": "DDsQmqzeazEM",
        "outputId": "b089cfd5-3dd1-4ac8-89a4-01d78b70e139"
      },
      "execution_count": null,
      "outputs": [
        {
          "name": "stdout",
          "output_type": "stream",
          "text": [
            "Enter a number: 4\n"
          ]
        },
        {
          "output_type": "error",
          "ename": "TypeError",
          "evalue": "ignored",
          "traceback": [
            "\u001b[0;31m---------------------------------------------------------------------------\u001b[0m",
            "\u001b[0;31mTypeError\u001b[0m                                 Traceback (most recent call last)",
            "\u001b[0;32m<ipython-input-8-e72c80ad7284>\u001b[0m in \u001b[0;36m<module>\u001b[0;34m\u001b[0m\n\u001b[1;32m      8\u001b[0m     \u001b[0mmax_num\u001b[0m \u001b[0;34m=\u001b[0m \u001b[0mmax\u001b[0m\u001b[0;34m(\u001b[0m\u001b[0mnum_list\u001b[0m\u001b[0;34m)\u001b[0m\u001b[0;34m\u001b[0m\u001b[0;34m\u001b[0m\u001b[0m\n\u001b[1;32m      9\u001b[0m     \u001b[0mmin_num\u001b[0m \u001b[0;34m=\u001b[0m \u001b[0mmin\u001b[0m\u001b[0;34m(\u001b[0m\u001b[0mnum_list\u001b[0m\u001b[0;34m)\u001b[0m\u001b[0;34m\u001b[0m\u001b[0;34m\u001b[0m\u001b[0m\n\u001b[0;32m---> 10\u001b[0;31m     \u001b[0mavg_num\u001b[0m \u001b[0;34m=\u001b[0m \u001b[0msum\u001b[0m\u001b[0;34m(\u001b[0m\u001b[0mnum_list\u001b[0m\u001b[0;34m)\u001b[0m\u001b[0;34m/\u001b[0m\u001b[0mlen\u001b[0m\u001b[0;34m(\u001b[0m\u001b[0mnum_list\u001b[0m\u001b[0;34m)\u001b[0m\u001b[0;34m\u001b[0m\u001b[0;34m\u001b[0m\u001b[0m\n\u001b[0m\u001b[1;32m     11\u001b[0m     \u001b[0mprint\u001b[0m\u001b[0;34m(\u001b[0m\u001b[0;34m\"Max: \"\u001b[0m\u001b[0;34m,\u001b[0m \u001b[0mmax_num\u001b[0m\u001b[0;34m)\u001b[0m\u001b[0;34m\u001b[0m\u001b[0;34m\u001b[0m\u001b[0m\n\u001b[1;32m     12\u001b[0m     \u001b[0mprint\u001b[0m\u001b[0;34m(\u001b[0m\u001b[0;34m\"Min: \"\u001b[0m\u001b[0;34m,\u001b[0m \u001b[0mmin_num\u001b[0m\u001b[0;34m)\u001b[0m\u001b[0;34m\u001b[0m\u001b[0;34m\u001b[0m\u001b[0m\n",
            "\u001b[0;31mTypeError\u001b[0m: 'int' object is not callable"
          ]
        }
      ]
    },
    {
      "cell_type": "code",
      "source": [
        "#find max and min\n",
        "NumList = []\n",
        "Number = int(input(\"Please enter element length in list \"))\n",
        "for i in range(1, Number + 1):\n",
        "    value = int(input(\"Please enter the Value of %d Element : \" %i))\n",
        "    NumList.append(value)\n",
        "\n",
        "print(\"The Smallest Element in this List is : \", min(NumList))\n",
        "print(\"The Largest Element in this List is : \", max(NumList))"
      ],
      "metadata": {
        "id": "QogEJFfQkJkO"
      },
      "execution_count": null,
      "outputs": []
    },
    {
      "cell_type": "code",
      "source": [],
      "metadata": {
        "id": "AIeOI6vTUDRN"
      },
      "execution_count": null,
      "outputs": []
    },
    {
      "cell_type": "code",
      "source": [
        "#create a new dictionary, after adding 1 in all the values\n",
        "d={'a':1, 'b':20,'c':3,'d':44}\n",
        "newdic={}\n",
        "for k,v in d.items():\n",
        "    newdic[k]=v+1\n",
        "newdic\n",
        "\n",
        "\n",
        "#this output    newdic={'a':2, 'b':21, c':4,'d':45}"
      ],
      "metadata": {
        "id": "VxNISbzhL3JG",
        "colab": {
          "base_uri": "https://localhost:8080/"
        },
        "outputId": "33ef722e-8810-4690-b350-f72148d5be44"
      },
      "execution_count": null,
      "outputs": [
        {
          "output_type": "execute_result",
          "data": {
            "text/plain": [
              "{'a': 2, 'b': 21, 'c': 4, 'd': 45}"
            ]
          },
          "metadata": {},
          "execution_count": 3
        }
      ]
    },
    {
      "cell_type": "code",
      "source": [
        "d={'a':1, 'b':20,'c':3,'d':44}\n",
        "newdic={}\n",
        "for k,v in d.items():\n",
        "    newdic[k]=v+1\n",
        "newdic\n"
      ],
      "metadata": {
        "id": "VpAQIDB6P82j"
      },
      "execution_count": null,
      "outputs": []
    },
    {
      "cell_type": "code",
      "source": [
        "d={'vowels':['a','e','i','o','u'],\"consonants\": \"bcdfghjklmnpqrstvwxyz\"}\n",
        "d[\"vowels\"]\n",
        "\n",
        "str=\"India is a democratic country\"\n",
        "vowelsstr=\"aeiou\"\n",
        "vowelslst=['a','e','i','o','u']\n",
        "vowel=0\n",
        "for char in str:\n",
        "    if char in d[\"vowels\"]:\n",
        "        vowel=vowel+1\n",
        "vowel"
      ],
      "metadata": {
        "colab": {
          "base_uri": "https://localhost:8080/"
        },
        "id": "2aA_9w1pRZte",
        "outputId": "8af8b3c1-919a-41aa-a6e7-dcb7ad6cf5bc"
      },
      "execution_count": null,
      "outputs": [
        {
          "output_type": "execute_result",
          "data": {
            "text/plain": [
              "10"
            ]
          },
          "metadata": {},
          "execution_count": 9
        }
      ]
    },
    {
      "cell_type": "code",
      "source": [
        "def find_phonenumber(phonebook, name):\n",
        "    for n, p in phonebook.item():\n",
        "        if n == name:\n",
        "            return p\n",
        "    return None\n",
        "\n",
        "phonebook = {\"John Doe\": \"555-555-5555\",\"Albert Einstein\": \"212-555-5555\"}\n",
        "print (\"John Doe's phone number is\", find_phonenumber(phonebook.item , \"John Doe\"))"
      ],
      "metadata": {
        "colab": {
          "base_uri": "https://localhost:8080/",
          "height": 208
        },
        "id": "UpEkK_7QSkKc",
        "outputId": "6ffe6d34-2e33-4512-b4b0-b7089b2122ac"
      },
      "execution_count": null,
      "outputs": [
        {
          "output_type": "error",
          "ename": "AttributeError",
          "evalue": "ignored",
          "traceback": [
            "\u001b[0;31m---------------------------------------------------------------------------\u001b[0m",
            "\u001b[0;31mAttributeError\u001b[0m                            Traceback (most recent call last)",
            "\u001b[0;32m<ipython-input-12-171271db7d12>\u001b[0m in \u001b[0;36m<module>\u001b[0;34m\u001b[0m\n\u001b[1;32m      6\u001b[0m \u001b[0;34m\u001b[0m\u001b[0m\n\u001b[1;32m      7\u001b[0m \u001b[0mphonebook\u001b[0m \u001b[0;34m=\u001b[0m \u001b[0;34m{\u001b[0m\u001b[0;34m\"John Doe\"\u001b[0m\u001b[0;34m:\u001b[0m \u001b[0;34m\"555-555-5555\"\u001b[0m\u001b[0;34m,\u001b[0m\u001b[0;34m\"Albert Einstein\"\u001b[0m\u001b[0;34m:\u001b[0m \u001b[0;34m\"212-555-5555\"\u001b[0m\u001b[0;34m}\u001b[0m\u001b[0;34m\u001b[0m\u001b[0;34m\u001b[0m\u001b[0m\n\u001b[0;32m----> 8\u001b[0;31m \u001b[0mprint\u001b[0m \u001b[0;34m(\u001b[0m\u001b[0;34m\"John Doe's phone number is\"\u001b[0m\u001b[0;34m,\u001b[0m \u001b[0mfind_phonenumber\u001b[0m\u001b[0;34m(\u001b[0m\u001b[0mphonebook\u001b[0m\u001b[0;34m.\u001b[0m\u001b[0mitem\u001b[0m \u001b[0;34m,\u001b[0m \u001b[0;34m\"John Doe\"\u001b[0m\u001b[0;34m)\u001b[0m\u001b[0;34m)\u001b[0m\u001b[0;34m\u001b[0m\u001b[0;34m\u001b[0m\u001b[0m\n\u001b[0m",
            "\u001b[0;31mAttributeError\u001b[0m: 'dict' object has no attribute 'item'"
          ]
        }
      ]
    },
    {
      "cell_type": "code",
      "source": [
        "lst1=['inder',]\n",
        "    lst1=set(lst)\n",
        "    lst1"
      ],
      "metadata": {
        "colab": {
          "base_uri": "https://localhost:8080/",
          "height": 135
        },
        "id": "tJXLbtKnYqx6",
        "outputId": "baa75524-d39b-4fe8-a178-e71ebf667cf6"
      },
      "execution_count": null,
      "outputs": [
        {
          "output_type": "error",
          "ename": "IndentationError",
          "evalue": "ignored",
          "traceback": [
            "\u001b[0;36m  File \u001b[0;32m\"<ipython-input-23-c19fdb14a40c>\"\u001b[0;36m, line \u001b[0;32m5\u001b[0m\n\u001b[0;31m    lst1=set(lst)\u001b[0m\n\u001b[0m    ^\u001b[0m\n\u001b[0;31mIndentationError\u001b[0m\u001b[0;31m:\u001b[0m unexpected indent\n"
          ]
        }
      ]
    },
    {
      "cell_type": "code",
      "source": [
        "lst1=['good','are','good','new','good','new','class','new',\n",
        "    'good','are','good','new','good','new','class','new',\n",
        "    'good','are','good','laptop','good','new','class','new',\n",
        "    'good','are','good','table','good','new','class','new']\n",
        "new_dic={}\n",
        "lst1=set(lst)\n",
        "for i in lst1:\n",
        "  count=lst.count(i)  \n",
        "  new_dic[i]=count\n",
        "\n",
        "print(new_dic)"
      ],
      "metadata": {
        "colab": {
          "base_uri": "https://localhost:8080/"
        },
        "id": "CTqJkJWEbgXA",
        "outputId": "92d1093d-e1b0-4d05-c515-c3ab0e6af28b"
      },
      "execution_count": null,
      "outputs": [
        {
          "output_type": "stream",
          "name": "stdout",
          "text": [
            "{'table': 1, 'class': 4, 'are': 4, 'laptop': 1, 'good': 12, 'new': 10}\n"
          ]
        }
      ]
    },
    {
      "cell_type": "code",
      "source": [
        "\n",
        "mail_dic={}\n",
        "for log in maillist:\n",
        "  strt=log.find('@')\n",
        "  end=log.find(' ',strt+1)\n",
        "  mail= log[strt+1:end]\n",
        "  if mail not in mail_dic:\n",
        "        mail_dic[mail]=1\n",
        "  else:\n",
        "    mail_dic[mail]= mail_dic[mail] + 1\n",
        "              \n",
        "mail_dic"
      ],
      "metadata": {
        "colab": {
          "base_uri": "https://localhost:8080/",
          "height": 244
        },
        "id": "O_ywKwT3dhHp",
        "outputId": "86c0b2f6-8565-4e47-9809-58a7b111c0bb"
      },
      "execution_count": null,
      "outputs": [
        {
          "output_type": "error",
          "ename": "NameError",
          "evalue": "ignored",
          "traceback": [
            "\u001b[0;31m---------------------------------------------------------------------------\u001b[0m",
            "\u001b[0;31mNameError\u001b[0m                                 Traceback (most recent call last)",
            "\u001b[0;32m<ipython-input-26-8f1c82297b98>\u001b[0m in \u001b[0;36m<module>\u001b[0;34m\u001b[0m\n\u001b[1;32m      1\u001b[0m \u001b[0mmail_dic\u001b[0m\u001b[0;34m=\u001b[0m\u001b[0;34m{\u001b[0m\u001b[0;34m}\u001b[0m\u001b[0;34m\u001b[0m\u001b[0;34m\u001b[0m\u001b[0m\n\u001b[0;32m----> 2\u001b[0;31m \u001b[0;32mfor\u001b[0m \u001b[0mlog\u001b[0m \u001b[0;32min\u001b[0m \u001b[0mmaillist\u001b[0m\u001b[0;34m:\u001b[0m\u001b[0;34m\u001b[0m\u001b[0;34m\u001b[0m\u001b[0m\n\u001b[0m\u001b[1;32m      3\u001b[0m   \u001b[0mstrt\u001b[0m\u001b[0;34m=\u001b[0m\u001b[0mlog\u001b[0m\u001b[0;34m.\u001b[0m\u001b[0mfind\u001b[0m\u001b[0;34m(\u001b[0m\u001b[0;34m'@'\u001b[0m\u001b[0;34m)\u001b[0m\u001b[0;34m\u001b[0m\u001b[0;34m\u001b[0m\u001b[0m\n\u001b[1;32m      4\u001b[0m   \u001b[0mend\u001b[0m\u001b[0;34m=\u001b[0m\u001b[0mlog\u001b[0m\u001b[0;34m.\u001b[0m\u001b[0mfind\u001b[0m\u001b[0;34m(\u001b[0m\u001b[0;34m' '\u001b[0m\u001b[0;34m,\u001b[0m\u001b[0mstrt\u001b[0m\u001b[0;34m+\u001b[0m\u001b[0;36m1\u001b[0m\u001b[0;34m)\u001b[0m\u001b[0;34m\u001b[0m\u001b[0;34m\u001b[0m\u001b[0m\n\u001b[1;32m      5\u001b[0m   \u001b[0mmail\u001b[0m\u001b[0;34m=\u001b[0m \u001b[0mlog\u001b[0m\u001b[0;34m[\u001b[0m\u001b[0mstrt\u001b[0m\u001b[0;34m+\u001b[0m\u001b[0;36m1\u001b[0m\u001b[0;34m:\u001b[0m\u001b[0mend\u001b[0m\u001b[0;34m]\u001b[0m\u001b[0;34m\u001b[0m\u001b[0;34m\u001b[0m\u001b[0m\n",
            "\u001b[0;31mNameError\u001b[0m: name 'maillist' is not defined"
          ]
        }
      ]
    },
    {
      "cell_type": "code",
      "source": [
        "#{1: ['foresolutions.net'], 2: ['nielit.gov.in'], 4: ['yahoo.com', 'rediff.com'], 6: 'gmail.com']}."
      ],
      "metadata": {
        "id": "LGbjZiwNebuO"
      },
      "execution_count": null,
      "outputs": []
    },
    {
      "cell_type": "code",
      "source": [
        "def myInsertList():\n",
        "  lst =[]\n",
        "  while True : \n",
        "    n = int (input(\"Enter number \")) \n",
        "    if (n==-1): break \n",
        "    if lst == [ ]:  lst.append(n)\n",
        "    flag=0\n",
        "    tlst=[]\n",
        "    for i in range(len(lst)):\n",
        "      if (lst[i] < n )  :\n",
        "        tlst.append(lst[i])  \n",
        "      else :\n",
        "        if (flag==0):\n",
        "          tlst.append(n) # this statement to be executed only once\n",
        "          tlst.append(lst[i]) \n",
        "          flag=1\n",
        "        else : tlst.append(lst[i])\n",
        "    if (flag==0): # number to be inserted in greater than all the numbers in list \n",
        "      tlst.append(n)\n",
        "    lst = tlst\n",
        "  print(lst )"
      ],
      "metadata": {
        "id": "JzCljXKxUE0V"
      },
      "execution_count": null,
      "outputs": []
    },
    {
      "cell_type": "code",
      "source": [
        "#write a function to enter a string and return a histogram\n",
        "\n",
        "def hist(s):\n",
        "    d={}\n",
        "    for char in s:\n",
        "        if char != \" \":\n",
        "            if char in d:\n",
        "                d[char]=d[char]+1\n",
        "            else:\n",
        "                d[char]=1\n",
        "    return d\n",
        "\n",
        "def finddic(d,char):\n",
        "    if char in d:\n",
        "        return True\n",
        "    else:\n",
        "        return False\n",
        "\n",
        "def revdic(d):\n",
        "    rev={}\n",
        "    #{'s': 3, 'u': 2, 'c': 2, 'e': 1, 'f': 1, 'l': 1}\n",
        "    #{1: ['e', 'f', 'l'], 2 : ['u', 'c'], 3: ['s']}\n",
        "    for k,v in d.items():\n",
        "        if v not in rev:\n",
        "            rev[v] = [k]\n",
        "        else:\n",
        "            rev[v].append(k)\n",
        "    return rev\n",
        "\n",
        "def main():\n",
        "    s=input(\"enter a string\")\n",
        "    d=hist(s)\n",
        "    #write a function to search for a char in dictionary\n",
        "    search=input(\"enter the char to search\")\n",
        "    print(d)\n",
        "    ans=finddic(d, search)\n",
        "    if ans==True:\n",
        "        print(search, \" was found in \", d)\n",
        "    else:\n",
        "        print(\"not found\")\n",
        "    rev = revdic(d)\n",
        "    print(rev)\n",
        "    main()"
      ],
      "metadata": {
        "id": "ooyO-3MkvBu3"
      },
      "execution_count": null,
      "outputs": []
    },
    {
      "cell_type": "code",
      "source": [
        "dic= {\n",
        "    \"inder\": \"cse\",\n",
        "    \"vijay\": \"me\",\n",
        "    \"naveed\": \"civil\",\n",
        "}\n",
        "print(dic[\"vijay\" ])"
      ],
      "metadata": {
        "colab": {
          "base_uri": "https://localhost:8080/"
        },
        "id": "AkY3MgR8wV6P",
        "outputId": "51fe4860-6631-4fb4-b387-bdda80ea0c02"
      },
      "execution_count": null,
      "outputs": [
        {
          "output_type": "stream",
          "name": "stdout",
          "text": [
            "me\n"
          ]
        }
      ]
    },
    {
      "cell_type": "code",
      "source": [
        "dic={\n",
        "    78:\"inder\",\n",
        "     69: \"vijay\"\n",
        "}\n",
        "print(dic[69])"
      ],
      "metadata": {
        "colab": {
          "base_uri": "https://localhost:8080/"
        },
        "id": "bT2lef3Lxr-m",
        "outputId": "65a301ab-31b4-4651-d28e-3083ab340b8d"
      },
      "execution_count": null,
      "outputs": [
        {
          "output_type": "stream",
          "name": "stdout",
          "text": [
            "vijay\n"
          ]
        }
      ]
    },
    {
      "cell_type": "code",
      "source": [
        "l "
      ],
      "metadata": {
        "id": "nlLSlpg7w_7p"
      },
      "execution_count": null,
      "outputs": []
    },
    {
      "cell_type": "code",
      "source": [
        "dic = {'John':'A', 'Emily':'A+', 'Betty':'B', 'Mike':'C', 'Ashley':'A'}\n",
        "print(dic.keys())\n",
        "print(dic.values())\n",
        "for keys in dic.keys():\n",
        "  print(\"the value corresponding to the key keys} is {dic[keys]}\")"
      ],
      "metadata": {
        "colab": {
          "base_uri": "https://localhost:8080/"
        },
        "id": "WY3pfRBUylBK",
        "outputId": "c026026a-41bd-4f5d-c270-d5112650e979"
      },
      "execution_count": null,
      "outputs": [
        {
          "output_type": "stream",
          "name": "stdout",
          "text": [
            "dict_keys(['John', 'Emily', 'Betty', 'Mike', 'Ashley'])\n",
            "dict_values(['A', 'A+', 'B', 'C', 'A'])\n",
            "the value corresponding to the key keys} is {dic[keys]}\n",
            "the value corresponding to the key keys} is {dic[keys]}\n",
            "the value corresponding to the key keys} is {dic[keys]}\n",
            "the value corresponding to the key keys} is {dic[keys]}\n",
            "the value corresponding to the key keys} is {dic[keys]}\n"
          ]
        }
      ]
    },
    {
      "cell_type": "code",
      "source": [],
      "metadata": {
        "id": "DEje5rq2NXeT"
      },
      "execution_count": null,
      "outputs": []
    },
    {
      "cell_type": "code",
      "source": [
        "C:\\Users\\ASUS\\PycharmProjects\\"
      ],
      "metadata": {
        "colab": {
          "base_uri": "https://localhost:8080/",
          "height": 235
        },
        "id": "0FZLLuKKNXkU",
        "outputId": "47248500-9122-418c-ccdb-498a5105ac0c"
      },
      "execution_count": null,
      "outputs": [
        {
          "output_type": "error",
          "ename": "NameError",
          "evalue": "ignored",
          "traceback": [
            "\u001b[0;31m---------------------------------------------------------------------------\u001b[0m",
            "\u001b[0;31mNameError\u001b[0m                                 Traceback (most recent call last)",
            "\u001b[0;32m<ipython-input-2-f44cfe140f38>\u001b[0m in \u001b[0;36m<module>\u001b[0;34m\u001b[0m\n\u001b[1;32m     18\u001b[0m \u001b[0;34m\u001b[0m\u001b[0m\n\u001b[1;32m     19\u001b[0m \u001b[0;31m# Home page\u001b[0m\u001b[0;34m\u001b[0m\u001b[0;34m\u001b[0m\u001b[0;34m\u001b[0m\u001b[0m\n\u001b[0;32m---> 20\u001b[0;31m \u001b[0;34m@\u001b[0m\u001b[0mapp\u001b[0m\u001b[0;34m.\u001b[0m\u001b[0mroute\u001b[0m\u001b[0;34m(\u001b[0m\u001b[0;34m'/'\u001b[0m\u001b[0;34m)\u001b[0m\u001b[0;34m\u001b[0m\u001b[0;34m\u001b[0m\u001b[0m\n\u001b[0m\u001b[1;32m     21\u001b[0m \u001b[0;32mdef\u001b[0m \u001b[0mhome\u001b[0m\u001b[0;34m(\u001b[0m\u001b[0;34m)\u001b[0m\u001b[0;34m:\u001b[0m\u001b[0;34m\u001b[0m\u001b[0;34m\u001b[0m\u001b[0m\n\u001b[1;32m     22\u001b[0m     \u001b[0;32mreturn\u001b[0m \u001b[0mrender_template\u001b[0m\u001b[0;34m(\u001b[0m\u001b[0;34m'home.html'\u001b[0m\u001b[0;34m)\u001b[0m\u001b[0;34m\u001b[0m\u001b[0;34m\u001b[0m\u001b[0m\n",
            "\u001b[0;31mNameError\u001b[0m: name 'app' is not defined"
          ]
        }
      ]
    },
    {
      "cell_type": "code",
      "source": [
        "dic = {'John':'A', 'Emily':'A+', 'Betty':'B', 'Mike':'C', 'Ashley':'A'}\n",
        "print(dic.items)"
      ],
      "metadata": {
        "colab": {
          "base_uri": "https://localhost:8080/"
        },
        "id": "0VqDpAmt14Rc",
        "outputId": "9eaef6d7-7dac-49e1-ade6-134c8ef0e405"
      },
      "execution_count": null,
      "outputs": [
        {
          "output_type": "stream",
          "name": "stdout",
          "text": [
            "<built-in method items of dict object at 0x7f4a651d7880>\n"
          ]
        }
      ]
    },
    {
      "cell_type": "code",
      "source": [
        "dict = {'inder':'A', 'rich':'b', 'poor':'c', 'awara':'d', 'rider':'e','gamer':'f','hockey':'g'}\n",
        "for values in dict.values():\n",
        "  print(dict.values())\n",
        "  break\n",
        "  for values in dict.keys():\n",
        "    print(dict.keys())\n",
        "    continue"
      ],
      "metadata": {
        "colab": {
          "base_uri": "https://localhost:8080/"
        },
        "id": "k1pHvmjX8I__",
        "outputId": "88c52a52-81a9-444c-f1fe-6fc17a67dfb5"
      },
      "execution_count": null,
      "outputs": [
        {
          "output_type": "stream",
          "name": "stdout",
          "text": [
            "dict_values(['A', 'b', 'c', 'd', 'e', 'f', 'g'])\n"
          ]
        }
      ]
    },
    {
      "cell_type": "code",
      "source": [
        "tup=(12,5)\n",
        "tup1=(13,3)\n",
        "def multiply_fractions(tup, tup1):\n",
        "  tup = (2, 3)\n",
        "  tup1 = (3, 4)\n",
        "product = multiply_fractions(tup,tup1)\n",
        "print(product)"
      ],
      "metadata": {
        "colab": {
          "base_uri": "https://localhost:8080/"
        },
        "id": "_6kxkVcIfk0r",
        "outputId": "81343ca6-3bb8-40d5-d917-d4da7a676eea"
      },
      "execution_count": null,
      "outputs": [
        {
          "output_type": "stream",
          "name": "stdout",
          "text": [
            "None\n"
          ]
        }
      ]
    },
    {
      "cell_type": "code",
      "source": [
        "lst=[(12,4), (3,4), (54,3), (33,2), (91,2)]\n",
        "small=lst[0][0]/lst[0][1]\n",
        "big =lst[0][0]/lst[0][1]\n",
        "print(small)\n",
        "i=lst[0]\n",
        "for item in lst:\n",
        "    d=item[0]/item[1]\n",
        "    if d < small:\n",
        "        small=d\n",
        "        i=item\n",
        "    if d > big:\n",
        "        big=d\n",
        "        j=item\n",
        "print(\"The smallest fraction with value \",small, \" is :\" ,i)   \n",
        "print(\"The biggest fraction with value \",big, \" is :\" ,j)"
      ],
      "metadata": {
        "colab": {
          "base_uri": "https://localhost:8080/"
        },
        "id": "BSuPsgqHhGuU",
        "outputId": "3482cc42-a039-4800-a757-52e762f808da"
      },
      "execution_count": null,
      "outputs": [
        {
          "output_type": "stream",
          "name": "stdout",
          "text": [
            "3.0\n",
            "The smallest fraction with value  0.75  is : (3, 4)\n",
            "The biggest fraction with value  45.5  is : (91, 2)\n"
          ]
        }
      ]
    },
    {
      "cell_type": "code",
      "source": [
        "#Ques Find the tuple which has the maximum sum of its elements\n",
        "lst=[(12,4,3,4,6,7,8), (3,4,56,67,5,4), (54,3,4,5), (33,2,1,45,55), (91,200)]\n",
        "lst \n",
        "d=[]\n",
        "for item in lst:\n",
        "  d.append(sum(item))\n",
        "\n",
        "lst[d.index(max(d))]"
      ],
      "metadata": {
        "colab": {
          "base_uri": "https://localhost:8080/",
          "height": 217
        },
        "id": "KUwQgEzhmLmH",
        "outputId": "bf33ba3b-362f-4b59-dc62-e59bf9cf90ae"
      },
      "execution_count": null,
      "outputs": [
        {
          "output_type": "error",
          "ename": "TypeError",
          "evalue": "ignored",
          "traceback": [
            "\u001b[0;31m---------------------------------------------------------------------------\u001b[0m",
            "\u001b[0;31mTypeError\u001b[0m                                 Traceback (most recent call last)",
            "\u001b[0;32m<ipython-input-57-1b2633a77505>\u001b[0m in \u001b[0;36m<module>\u001b[0;34m\u001b[0m\n\u001b[1;32m      4\u001b[0m \u001b[0md\u001b[0m\u001b[0;34m=\u001b[0m\u001b[0;34m[\u001b[0m\u001b[0;34m]\u001b[0m\u001b[0;34m\u001b[0m\u001b[0;34m\u001b[0m\u001b[0m\n\u001b[1;32m      5\u001b[0m \u001b[0;32mfor\u001b[0m \u001b[0mitem\u001b[0m \u001b[0;32min\u001b[0m \u001b[0mlst\u001b[0m\u001b[0;34m:\u001b[0m\u001b[0;34m\u001b[0m\u001b[0;34m\u001b[0m\u001b[0m\n\u001b[0;32m----> 6\u001b[0;31m   \u001b[0md\u001b[0m\u001b[0;34m.\u001b[0m\u001b[0mappend\u001b[0m\u001b[0;34m(\u001b[0m\u001b[0msum\u001b[0m\u001b[0;34m(\u001b[0m\u001b[0mitem\u001b[0m\u001b[0;34m)\u001b[0m\u001b[0;34m)\u001b[0m\u001b[0;34m\u001b[0m\u001b[0;34m\u001b[0m\u001b[0m\n\u001b[0m\u001b[1;32m      7\u001b[0m \u001b[0mlst\u001b[0m\u001b[0;34m[\u001b[0m\u001b[0md\u001b[0m\u001b[0;34m.\u001b[0m\u001b[0mindex\u001b[0m\u001b[0;34m(\u001b[0m\u001b[0mmax\u001b[0m\u001b[0;34m(\u001b[0m\u001b[0md\u001b[0m\u001b[0;34m)\u001b[0m\u001b[0;34m)\u001b[0m\u001b[0;34m]\u001b[0m\u001b[0;34m\u001b[0m\u001b[0;34m\u001b[0m\u001b[0m\n",
            "\u001b[0;31mTypeError\u001b[0m: 'int' object is not callable"
          ]
        }
      ]
    },
    {
      "cell_type": "code",
      "source": [],
      "metadata": {
        "id": "u3n3C1ZhgNTt"
      },
      "execution_count": null,
      "outputs": []
    },
    {
      "cell_type": "code",
      "source": [
        "def getworst_captain(teams):\n",
        "    return teams[-1][1]\n",
        "\n",
        "teams = [\n",
        "           [\"COACH_ONE\", \"CAPTAIN_TWO\", \"THREE\", \"FOUR\", \"FIVE\", \"SIX\", \"SEVEN\", \"EIGHT\", \"NINE\"],\n",
        "           [\"COACH_ABC\", \"CAPTAIN_DEF\", \"GHI\", \"JKL\", \"MNO\", \"PQR\", \"STU\", \"VWX\", \"YZA\"],\n",
        "           [\"COACH_RAM\", \"CAPTAIN_SEETA\", \"GEETA\", \"MANU\", \"ROHIT\", \"SHIVA\", \"GAURI\", \"MANAV\", \"ANKIT\"],\n",
        "           [\"COACH_TEN\", \"CAPTAIN_TEWNTY\", \"THIRTY\", \"FOURTY\", \"FIFTY\", \"SIXTY\", \"SEVENTY\"]\n",
        "           ]\n",
        "\n",
        "getworst_captain(teams)"
      ],
      "metadata": {
        "colab": {
          "base_uri": "https://localhost:8080/",
          "height": 35
        },
        "id": "5-mgD98yqVGT",
        "outputId": "555af459-d440-4fe7-c7e8-de943708174d"
      },
      "execution_count": null,
      "outputs": [
        {
          "output_type": "execute_result",
          "data": {
            "text/plain": [
              "'CAPTAIN_TEWNTY'"
            ],
            "application/vnd.google.colaboratory.intrinsic+json": {
              "type": "string"
            }
          },
          "metadata": {},
          "execution_count": 58
        }
      ]
    },
    {
      "cell_type": "code",
      "source": [
        "a = [2, 4, 5, 6, 7, 7, 8, 10, 38, 23, 23, 8, 2]\n",
        "\n",
        "def unique(x):\n",
        "myset = set(x)\n",
        "return myset\n",
        "\n",
        "print(unique(a))"
      ],
      "metadata": {
        "id": "iNHc7_GEr2NV",
        "outputId": "c005271e-517c-4c07-8fd6-79255d7908d3",
        "colab": {
          "base_uri": "https://localhost:8080/"
        }
      },
      "execution_count": null,
      "outputs": [
        {
          "output_type": "error",
          "ename": "IndentationError",
          "evalue": "ignored",
          "traceback": [
            "\u001b[0;36m  File \u001b[0;32m\"<ipython-input-1-85e104507fd1>\"\u001b[0;36m, line \u001b[0;32m4\u001b[0m\n\u001b[0;31m    myset = set(x)\u001b[0m\n\u001b[0m    ^\u001b[0m\n\u001b[0;31mIndentationError\u001b[0m\u001b[0;31m:\u001b[0m expected an indented block\n"
          ]
        }
      ]
    },
    {
      "cell_type": "code",
      "source": [
        "import numpy as np\n",
        "print(np)"
      ],
      "metadata": {
        "colab": {
          "base_uri": "https://localhost:8080/"
        },
        "id": "-QcxhPXOgRS0",
        "outputId": "103178c0-a81e-4263-a5d0-1e5c28508c31"
      },
      "execution_count": null,
      "outputs": [
        {
          "output_type": "stream",
          "name": "stdout",
          "text": [
            "<module 'numpy' from '/usr/local/lib/python3.8/dist-packages/numpy/__init__.py'>\n"
          ]
        }
      ]
    },
    {
      "cell_type": "code",
      "source": [
        "#You are given 5 cylindrical containers with different radius and heights ranging #between 5 and 25 cm #Find out a) the volume of water that each container can contain, b) the total volume of water that all containers can contain, c) which container can hold the highest volume and how much, d) which container can hold the least volume and how much, e) what is \n",
        "#the mean, median and standard deviation of the volumes #of water that can be contained in the containers?"
      ],
      "metadata": {
        "id": "St2oC5uCkH5V"
      },
      "execution_count": null,
      "outputs": []
    },
    {
      "cell_type": "code",
      "source": [
        "const arr = [5, 2, 9, 12, 8, 3, 7, 1, 6, 10];\n",
        "let max = arr[0];\n",
        "for (let i = 1; i < arr.length; i++) {\n",
        "  if (arr[i] > max) {\n",
        "    max = arr[i];\n",
        "  }\n",
        "}\n",
        "\n",
        "console.log(\"The biggest number in the array is: \" + max);\n"
      ],
      "metadata": {
        "colab": {
          "base_uri": "https://localhost:8080/",
          "height": 130
        },
        "id": "3UqLRYHZkTj0",
        "outputId": "7b56f4a3-f67b-4ca4-8fca-26d80ef37ee8"
      },
      "execution_count": null,
      "outputs": [
        {
          "output_type": "error",
          "ename": "SyntaxError",
          "evalue": "ignored",
          "traceback": [
            "\u001b[0;36m  File \u001b[0;32m\"<ipython-input-5-29d999418c70>\"\u001b[0;36m, line \u001b[0;32m1\u001b[0m\n\u001b[0;31m    const arr = [5, 2, 9, 12, 8, 3, 7, 1, 6, 10];\u001b[0m\n\u001b[0m          ^\u001b[0m\n\u001b[0;31mSyntaxError\u001b[0m\u001b[0;31m:\u001b[0m invalid syntax\n"
          ]
        }
      ]
    },
    {
      "cell_type": "code",
      "source": [
        "# Q1 Make an array of 10 elements and find the biggest number inthe array'\n",
        "# Anita Budhiraja12:01\n",
        "# Q2 Find the product of all numbers in the array\n",
        "# Q3 Sort the array\n",
        "# Q 4 Take a 2 d array of rows 3 and columns 4, populate it with values.\n",
        "# See the information of 1st row only\n",
        "# change the values in the last column for all the rows as 0\n",
        "# pick the odd and the even nos from 2 d array and create two 1d arrays independent arrays odd and even\n"
      ],
      "metadata": {
        "id": "N-f1PnpWkw58"
      },
      "execution_count": null,
      "outputs": []
    },
    {
      "cell_type": "code",
      "source": [
        "# Q1 Make an array of 10 elements and find the biggest number inthe array'\n",
        "list1 = [10, 20, 4, 45, 99]\n",
        "\n",
        "# sorting the list\n",
        "list1.sort()\n",
        "\n",
        "# printing the last element\n",
        "print(\"Largest element is:\", list1[-1])\n"
      ],
      "metadata": {
        "id": "RSfMMSjFzb05"
      },
      "execution_count": null,
      "outputs": []
    },
    {
      "cell_type": "code",
      "source": [
        "# Import numpy as np and print the version number\n",
        "import numpy as np\n",
        "print(np.__version__)"
      ],
      "metadata": {
        "colab": {
          "base_uri": "https://localhost:8080/"
        },
        "id": "knTO_zN8Ygxq",
        "outputId": "1f87f2c9-c648-4122-b36d-8804bda9e0c7"
      },
      "execution_count": null,
      "outputs": [
        {
          "output_type": "stream",
          "name": "stdout",
          "text": [
            "1.22.4\n"
          ]
        }
      ]
    },
    {
      "cell_type": "code",
      "source": [
        "# Create a 1D array of numbers from 0 to 9\n",
        "# #> array([0, 1, 2, 3, 4, 5, 6, 7, 8, 9])\n",
        "import numpy as np\n",
        "arr = np.array([0, 1, 2, 3, 4, 5, 6, 7, 8, 9])\n",
        "print(arr)\n",
        "import numpy as np\n",
        "arr = np.arange(10)\n",
        "print(arr)"
      ],
      "metadata": {
        "colab": {
          "base_uri": "https://localhost:8080/"
        },
        "id": "s_JyJ3kMYrs3",
        "outputId": "84cabe5b-9349-4ea9-c909-4b0e38fb877d"
      },
      "execution_count": null,
      "outputs": [
        {
          "output_type": "stream",
          "name": "stdout",
          "text": [
            "[0 1 2 3 4 5 6 7 8 9]\n",
            "[0 1 2 3 4 5 6 7 8 9]\n"
          ]
        }
      ]
    },
    {
      "cell_type": "code",
      "source": [
        "# Create a 3×3 numpy array of all True’s\n",
        "import numpy as np\n",
        "x =  np.arange(2, 11).reshape(3,3)\n",
        "print(x)"
      ],
      "metadata": {
        "colab": {
          "base_uri": "https://localhost:8080/"
        },
        "id": "dJdPWBC5ZK4i",
        "outputId": "33fbeb62-5ca4-4bad-fc9c-52f49b981bd1"
      },
      "execution_count": null,
      "outputs": [
        {
          "output_type": "stream",
          "name": "stdout",
          "text": [
            "[[ 2  3  4]\n",
            " [ 5  6  7]\n",
            " [ 8  9 10]]\n"
          ]
        }
      ]
    },
    {
      "cell_type": "code",
      "source": [
        "import numpy as np.\n",
        "\n",
        "a=numpy.array([[3,4,5,6],[6,7,8,1],[8,7,6,12]])\n",
        "#axis 0 refers to rows\n",
        "#axis 1 refers to cols\n",
        "\n",
        "for i in a:\n",
        "    for j in i:\n",
        "        if j %2==0:\n",
        "            print(j)"
      ],
      "metadata": {
        "colab": {
          "base_uri": "https://localhost:8080/",
          "height": 130
        },
        "id": "g5ecV9YtzD5Q",
        "outputId": "736acd5e-19d4-4e90-9eb0-6bd77841e352"
      },
      "execution_count": null,
      "outputs": [
        {
          "output_type": "error",
          "ename": "SyntaxError",
          "evalue": "ignored",
          "traceback": [
            "\u001b[0;36m  File \u001b[0;32m\"<ipython-input-10-a468a46a031f>\"\u001b[0;36m, line \u001b[0;32m1\u001b[0m\n\u001b[0;31m    import numpy as np.\u001b[0m\n\u001b[0m                      ^\u001b[0m\n\u001b[0;31mSyntaxError\u001b[0m\u001b[0;31m:\u001b[0m invalid syntax\n"
          ]
        }
      ]
    },
    {
      "cell_type": "code",
      "source": [
        "class Ticket:\n",
        "    counter=0 \n",
        "    def __init__(self,passenger_name,source,destination):\n",
        "        self.__passenger_name=passenger_name\n",
        "        self.__source=source\n",
        "        self.__destination=destination\n",
        "        self.Counter=Ticket.counter\n",
        "        Ticket.counter+=1\n",
        "    def validate_source_destination(self):\n",
        "        if (self.__source==\"Delhi\" and (self.__destination==\"Pune\" or self.__destination==\"Mumbai\" or self.__destination==\"Chennai\" or self.__destination==\"Kolkata\")):\n",
        "            return True\n",
        "        else:\n",
        "            return False\n",
        "\n",
        "    def generate_ticket(self ):\n",
        "        if True:\n",
        "            __ticket_id=self.__source[0]+self.__destination[0]+\"0\"+str(self.Counter)\n",
        "            print( \"Ticket id will be:\",__ticket_id)\n",
        "        else:\n",
        "            return False\n",
        "    def get_ticket_id(self):\n",
        "        return self.ticket_id\n",
        "    def get_passenger_name(self):\n",
        "        return self.__passenger_name\n",
        "    def get_source(self):\n",
        "        if self.__source==\"Delhi\":\n",
        "            return self.__source\n",
        "        else:\n",
        "            print(\"you have written invalid soure option\")\n",
        "            return None\n",
        "    def get_destination(self):\n",
        "        if self.__destination==\"Pune\":\n",
        "            return self.__destination\n",
        "        elif self.__destination==\"Mumbai\":\n",
        "            return self.__destination\n",
        "        elif self.__destination==\"Chennai\":\n",
        "            return self.__destination\n",
        "        elif self.__destination==\"Kolkata\":\n",
        "            return self.__destination\n",
        "\n",
        "        else:\n",
        "            return None"
      ],
      "metadata": {
        "id": "lDgoH-phqgcV"
      },
      "execution_count": null,
      "outputs": []
    },
    {
      "cell_type": "code",
      "source": [],
      "metadata": {
        "id": "1H1BTRJbAL_H"
      },
      "execution_count": null,
      "outputs": []
    },
    {
      "cell_type": "code",
      "source": [
        "# Q. Import numpy as np and print the version number.\n",
        "import numpy as np\n",
        "print(np.__version__)"
      ],
      "metadata": {
        "colab": {
          "base_uri": "https://localhost:8080/"
        },
        "id": "S3MRY0cyPdMZ",
        "outputId": "5bd12b14-cf6b-493f-abd0-c171fc43548a"
      },
      "execution_count": null,
      "outputs": [
        {
          "output_type": "stream",
          "name": "stdout",
          "text": [
            "1.22.4\n"
          ]
        }
      ]
    },
    {
      "cell_type": "code",
      "source": [
        "#Q. Create a 1D array of numbers from 0 to 9\n",
        "arr = np.arange(10)\n",
        "arr"
      ],
      "metadata": {
        "colab": {
          "base_uri": "https://localhost:8080/"
        },
        "id": "W9PAnKm-PpiL",
        "outputId": "ce766573-e771-4155-ebca-d34b369cb3a9"
      },
      "execution_count": null,
      "outputs": [
        {
          "output_type": "execute_result",
          "data": {
            "text/plain": [
              "array([0, 1, 2, 3, 4, 5, 6, 7, 8, 9])"
            ]
          },
          "metadata": {},
          "execution_count": 3
        }
      ]
    },
    {
      "cell_type": "code",
      "source": [
        "#Create a 3×3 numpy array of all True’s\n",
        "np.full((3, 3), True, dtype=bool)\n",
        "np.ones((3,3), dtype=bool)"
      ],
      "metadata": {
        "colab": {
          "base_uri": "https://localhost:8080/"
        },
        "id": "8U0MlscIP9F6",
        "outputId": "c67b2849-7592-40d2-ac5b-da309d9244d0"
      },
      "execution_count": null,
      "outputs": [
        {
          "output_type": "execute_result",
          "data": {
            "text/plain": [
              "array([[ True,  True,  True],\n",
              "       [ True,  True,  True],\n",
              "       [ True,  True,  True]])"
            ]
          },
          "metadata": {},
          "execution_count": 5
        }
      ]
    },
    {
      "cell_type": "code",
      "source": [
        "#Q. Extract all odd numbers from arr\n",
        "arr = np.array([0, 1, 2, 3, 4, 5, 6, 7, 8, 9])\n",
        "arr[arr % 2 == 1]"
      ],
      "metadata": {
        "colab": {
          "base_uri": "https://localhost:8080/"
        },
        "id": "ljw8w971QMZY",
        "outputId": "77476294-1cfe-4e9e-ffaf-ced7d675c404"
      },
      "execution_count": null,
      "outputs": [
        {
          "output_type": "execute_result",
          "data": {
            "text/plain": [
              "array([1, 3, 5, 7, 9])"
            ]
          },
          "metadata": {},
          "execution_count": 8
        }
      ]
    },
    {
      "cell_type": "code",
      "source": [
        "# How to replace items that satisfy a\n",
        "# condition with another value in numpy array?\n",
        "arr = np.array([0, 1, 2, 3, 4, 5, 6, 7, 8, 9])\n",
        "arr[arr % 2 == 1] = -1\n",
        "arr"
      ],
      "metadata": {
        "colab": {
          "base_uri": "https://localhost:8080/"
        },
        "id": "fMcaZj6uQgFh",
        "outputId": "deca5b9b-5946-42f1-c195-44d967f82271"
      },
      "execution_count": null,
      "outputs": [
        {
          "output_type": "execute_result",
          "data": {
            "text/plain": [
              "array([ 0, -1,  2, -1,  4, -1,  6, -1,  8, -1])"
            ]
          },
          "metadata": {},
          "execution_count": 9
        }
      ]
    },
    {
      "cell_type": "code",
      "source": [
        "square = np.array([\n",
        "[16, 3,   2,  13], \n",
        "[5,  10, 11,   8],\n",
        "[9,  6,   7,  12],\n",
        "[4, 15,  14,   1]\n",
        " ]"
      ],
      "metadata": {
        "id": "nMWGkMr6RcgP"
      },
      "execution_count": null,
      "outputs": []
    },
    {
      "cell_type": "code",
      "source": [
        "import numpy as np\n",
        "\n",
        "n = 3  # the size of the magic square\n",
        "magic_constant = n * (n**2 + 1) // 2  # the sum of each row, column, and diagonal\n",
        "\n",
        "# create an n x n array of zeros\n",
        "magic_square = np.zeros((n, n), dtype=int)\n",
        "\n",
        "# place the numbers in the magic square\n",
        "i, j = 0, n // 2  # start in the middle of the top row\n",
        "for num in range(1, n**2 + 1):\n",
        "    magic_square[i, j] = num  # place the number in the current position\n",
        "    # move up and to the right\n",
        "    new_i = (i - 1) % n\n",
        "    new_j = (j + 1) % n\n",
        "    # if the next position is already filled, move down instead\n",
        "    if magic_square[new_i, new_j]:\n",
        "        i = (i + 1) % n\n",
        "    else:\n",
        "        i, j = new_i, new_j\n",
        "\n",
        "# check that each row, column, and diagonal adds up to the magic constant\n",
        "assert np.all(magic_square.sum(axis=0) == magic_constant)\n",
        "assert np.all(magic_square.sum(axis=1) == magic_constant)\n",
        "assert np.trace(magic_square) == magic_constant\n",
        "assert np.trace(np.fliplr(magic_square)) == magic_constant\n",
        "\n",
        "# print the magic square\n",
        "print(magic_square)"
      ],
      "metadata": {
        "colab": {
          "base_uri": "https://localhost:8080/"
        },
        "id": "ESLBwRYqaGdr",
        "outputId": "d0a37aac-21bc-430c-95e3-8256cf9122f9"
      },
      "execution_count": null,
      "outputs": [
        {
          "output_type": "stream",
          "name": "stdout",
          "text": [
            "[[8 1 6]\n",
            " [3 5 7]\n",
            " [4 9 2]]\n"
          ]
        }
      ]
    },
    {
      "cell_type": "code",
      "source": [
        "wines = np.genfromtxt(\"winequality-white.csv\", delimiter=\";\", skip_header=1)\n",
        "type(wines)"
      ],
      "metadata": {
        "id": "6kfrH9OAkgy0"
      },
      "execution_count": null,
      "outputs": []
    },
    {
      "cell_type": "code",
      "source": [
        "wines.sum(axis=0)"
      ],
      "metadata": {
        "colab": {
          "base_uri": "https://localhost:8080/"
        },
        "id": "mxoQNzGwlQAO",
        "outputId": "a5cdf5c1-3e53-407d-f426-f25e59a09009"
      },
      "execution_count": null,
      "outputs": [
        {
          "output_type": "execute_result",
          "data": {
            "text/plain": [
              "array([3.35747500e+04, 1.36282500e+03, 1.63687000e+03, 3.13051500e+04,\n",
              "       2.24193000e+02, 1.72939000e+05, 6.77690500e+05, 4.86874609e+03,\n",
              "       1.56161300e+04, 2.39927000e+03, 5.14988800e+04, 2.87900000e+04])"
            ]
          },
          "metadata": {},
          "execution_count": 37
        }
      ]
    },
    {
      "cell_type": "code",
      "source": [
        "wines[wines[:,11]==5]"
      ],
      "metadata": {
        "colab": {
          "base_uri": "https://localhost:8080/"
        },
        "id": "eZOg1sg-x6ul",
        "outputId": "fcdc7c17-f4b4-4312-82a8-acf9cda06ad0"
      },
      "execution_count": null,
      "outputs": [
        {
          "output_type": "execute_result",
          "data": {
            "text/plain": [
              "array([[ 8.1 ,  0.27,  0.41, ...,  0.56, 12.  ,  5.  ],\n",
              "       [ 8.6 ,  0.23,  0.4 , ...,  0.53,  9.7 ,  5.  ],\n",
              "       [ 7.9 ,  0.18,  0.37, ...,  0.63, 10.8 ,  5.  ],\n",
              "       ...,\n",
              "       [ 6.8 ,  0.22,  0.36, ...,  0.54,  9.2 ,  5.  ],\n",
              "       [ 6.5 ,  0.23,  0.38, ...,  0.54,  9.7 ,  5.  ],\n",
              "       [ 6.6 ,  0.32,  0.36, ...,  0.46,  9.6 ,  5.  ]])"
            ]
          },
          "metadata": {},
          "execution_count": 41
        }
      ]
    },
    {
      "cell_type": "code",
      "source": [
        "wines.shape"
      ],
      "metadata": {
        "colab": {
          "base_uri": "https://localhost:8080/"
        },
        "id": "tO6FfojCyhTd",
        "outputId": "cabe6ebb-7f1c-4039-d292-4bad0be9d86f"
      },
      "execution_count": null,
      "outputs": [
        {
          "output_type": "execute_result",
          "data": {
            "text/plain": [
              "(4898, 12)"
            ]
          },
          "metadata": {},
          "execution_count": 43
        }
      ]
    },
    {
      "cell_type": "code",
      "source": [
        "import pygame\n",
        "import random\n",
        "\n",
        "pygame.init()\n",
        "\n",
        "# Set up the display\n",
        "width, height = 640, 480\n",
        "screen = pygame.display.set_mode((width, height))\n",
        "pygame.display.set_caption(\"Shooting Game\")\n",
        "\n",
        "# Load images\n",
        "player_img = pygame.image.load(\"player.png\")\n",
        "bullet_img = pygame.image.load(\"bullet.png\")\n",
        "enemy_img = pygame.image.load(\"enemy.png\")\n",
        "\n",
        "# Set up the player\n",
        "player_width, player_height = player_img.get_size()\n",
        "player_x, player_y = width // 2, height - player_height\n",
        "player_speed = 5\n",
        "\n",
        "# Set up the bullet\n",
        "bullet_width, bullet_height = bullet_img.get_size()\n",
        "bullet_speed = 10\n",
        "\n",
        "# Set up the enemy\n",
        "enemy_width, enemy_height = enemy_img.get_size()\n",
        "enemy_x, enemy_y = random.randint(0, width - enemy_width), -enemy_height\n",
        "enemy_speed = 5\n",
        "\n",
        "# Set up the score\n",
        "score = 0\n",
        "font = pygame.font.Font(None, 36)\n",
        "\n",
        "# Game loop\n",
        "running = True\n",
        "while running:\n",
        "    # Handle events\n",
        "    for event in pygame.event.get():\n",
        "        if event.type == pygame.QUIT:\n",
        "            running = False\n",
        "        elif event.type == pygame.KEYDOWN:\n",
        "            if event.key == pygame.K_ESCAPE:\n",
        "                running = False\n",
        "            elif event.key == pygame.K_SPACE:\n",
        "                # Fire bullet\n",
        "                bullet_x, bullet_y = player_x + player_width // 2 - bullet_width // 2, player_y - bullet_height\n",
        "                bullet_rect = pygame.Rect(bullet_x, bullet_y, bullet_width, bullet_height)\n",
        "                bullet_speed_y = -bullet_speed\n",
        "\n",
        "    # Update player position\n",
        "    keys = pygame.key.get_pressed()\n",
        "    if keys[pygame.K_LEFT] and player_x > 0:\n",
        "        player_x -= player_speed\n",
        "    elif keys[pygame.K_RIGHT] and player_x < width - player_width:\n",
        "        player_x += player_speed\n",
        "\n",
        "    # Update bullet position\n",
        "    if 'bullet_rect' in locals():\n",
        "        bullet_rect.move_ip(0, bullet_speed_y)\n",
        "        if bullet_rect.top < 0:\n",
        "            del bullet_rect\n",
        "        else:\n",
        "            # Check for collision with enemy\n",
        "            enemy_rect = pygame.Rect(enemy_x, enemy_y, enemy_width, enemy_height)\n",
        "            if bullet_rect.colliderect(enemy_rect):\n",
        "                del bullet_rect\n",
        "                enemy_x, enemy_y = random.randint(0, width - enemy_width), -enemy_height\n",
        "                score += 1\n",
        "            else:\n",
        "                screen.blit(bullet_img, bullet_rect)\n",
        "\n",
        "    # Update enemy position\n",
        "    enemy_y += enemy_speed\n",
        "    if enemy_y > height:\n",
        "        enemy_x, enemy_y = random.randint(0, width - enemy_width), -enemy_height\n",
        "    else:\n",
        "        screen.blit(enemy_img, (enemy_x, enemy_y))\n",
        "\n",
        "    # Draw player and score\n",
        "    screen.blit(player_img, (player_x, player_y))\n",
        "    score_text = font.render(\"Score: \" + str(score), True, (255, 255, 255))\n",
        "    screen.blit(score_text, (10, 10))\n",
        "\n",
        "    # Update display\n",
        "    pygame.display.flip()\n",
        "\n",
        "# Clean up\n",
        "pygame.quit()"
      ],
      "metadata": {
        "id": "VhIgdaOR2K9T",
        "outputId": "09dac11d-9584-4382-8903-5d899b2af8e0",
        "colab": {
          "base_uri": "https://localhost:8080/",
          "height": 373
        }
      },
      "execution_count": null,
      "outputs": [
        {
          "output_type": "error",
          "ename": "ModuleNotFoundError",
          "evalue": "ignored",
          "traceback": [
            "\u001b[0;31m---------------------------------------------------------------------------\u001b[0m",
            "\u001b[0;31mModuleNotFoundError\u001b[0m                       Traceback (most recent call last)",
            "\u001b[0;32m<ipython-input-44-90d25f314bb8>\u001b[0m in \u001b[0;36m<module>\u001b[0;34m\u001b[0m\n\u001b[0;32m----> 1\u001b[0;31m \u001b[0;32mimport\u001b[0m \u001b[0mpygame\u001b[0m\u001b[0;34m\u001b[0m\u001b[0;34m\u001b[0m\u001b[0m\n\u001b[0m\u001b[1;32m      2\u001b[0m \u001b[0;32mimport\u001b[0m \u001b[0mrandom\u001b[0m\u001b[0;34m\u001b[0m\u001b[0;34m\u001b[0m\u001b[0m\n\u001b[1;32m      3\u001b[0m \u001b[0;34m\u001b[0m\u001b[0m\n\u001b[1;32m      4\u001b[0m \u001b[0mpygame\u001b[0m\u001b[0;34m.\u001b[0m\u001b[0minit\u001b[0m\u001b[0;34m(\u001b[0m\u001b[0;34m)\u001b[0m\u001b[0;34m\u001b[0m\u001b[0;34m\u001b[0m\u001b[0m\n\u001b[1;32m      5\u001b[0m \u001b[0;34m\u001b[0m\u001b[0m\n",
            "\u001b[0;31mModuleNotFoundError\u001b[0m: No module named 'pygame'",
            "",
            "\u001b[0;31m---------------------------------------------------------------------------\u001b[0;32m\nNOTE: If your import is failing due to a missing package, you can\nmanually install dependencies using either !pip or !apt.\n\nTo view examples of installing some common dependencies, click the\n\"Open Examples\" button below.\n\u001b[0;31m---------------------------------------------------------------------------\u001b[0m\n"
          ],
          "errorDetails": {
            "actions": [
              {
                "action": "open_url",
                "actionText": "Open Examples",
                "url": "/notebooks/snippets/importing_libraries.ipynb"
              }
            ]
          }
        }
      ]
    },
    {
      "cell_type": "code",
      "source": [
        "import numpy as np\n",
        "from PIL import image\n",
        "image_file = Image.open(\"img_tiger_grey.jpg\") # open colour image\n",
        "image_file\n",
        "np.array(image_file)\n",
        "image_file = image_file.convert('L')\n",
        "image_file.save('img_tiger_grey.jpg')"
      ],
      "metadata": {
        "colab": {
          "base_uri": "https://localhost:8080/",
          "height": 373
        },
        "id": "ZGdE_J0AAO1i",
        "outputId": "3bfa8f7a-05ec-4c7f-c33e-19999a25264b"
      },
      "execution_count": null,
      "outputs": [
        {
          "output_type": "error",
          "ename": "ImportError",
          "evalue": "ignored",
          "traceback": [
            "\u001b[0;31m---------------------------------------------------------------------------\u001b[0m",
            "\u001b[0;31mImportError\u001b[0m                               Traceback (most recent call last)",
            "\u001b[0;32m<ipython-input-3-7c5e0bb35a37>\u001b[0m in \u001b[0;36m<module>\u001b[0;34m\u001b[0m\n\u001b[1;32m      1\u001b[0m \u001b[0;32mimport\u001b[0m \u001b[0mnumpy\u001b[0m \u001b[0;32mas\u001b[0m \u001b[0mnp\u001b[0m\u001b[0;34m\u001b[0m\u001b[0;34m\u001b[0m\u001b[0m\n\u001b[0;32m----> 2\u001b[0;31m \u001b[0;32mfrom\u001b[0m \u001b[0mPIL\u001b[0m \u001b[0;32mimport\u001b[0m \u001b[0mimage\u001b[0m\u001b[0;34m\u001b[0m\u001b[0;34m\u001b[0m\u001b[0m\n\u001b[0m\u001b[1;32m      3\u001b[0m \u001b[0mimage_file\u001b[0m \u001b[0;34m=\u001b[0m \u001b[0mImage\u001b[0m\u001b[0;34m.\u001b[0m\u001b[0mopen\u001b[0m\u001b[0;34m(\u001b[0m\u001b[0;34m\"img_tiger_grey.jpg\"\u001b[0m\u001b[0;34m)\u001b[0m \u001b[0;31m# open colour image\u001b[0m\u001b[0;34m\u001b[0m\u001b[0;34m\u001b[0m\u001b[0m\n\u001b[1;32m      4\u001b[0m \u001b[0mimage_file\u001b[0m\u001b[0;34m\u001b[0m\u001b[0;34m\u001b[0m\u001b[0m\n\u001b[1;32m      5\u001b[0m \u001b[0mnp\u001b[0m\u001b[0;34m.\u001b[0m\u001b[0marray\u001b[0m\u001b[0;34m(\u001b[0m\u001b[0mimage_file\u001b[0m\u001b[0;34m)\u001b[0m\u001b[0;34m\u001b[0m\u001b[0;34m\u001b[0m\u001b[0m\n",
            "\u001b[0;31mImportError\u001b[0m: cannot import name 'image' from 'PIL' (/usr/local/lib/python3.9/dist-packages/PIL/__init__.py)",
            "",
            "\u001b[0;31m---------------------------------------------------------------------------\u001b[0;32m\nNOTE: If your import is failing due to a missing package, you can\nmanually install dependencies using either !pip or !apt.\n\nTo view examples of installing some common dependencies, click the\n\"Open Examples\" button below.\n\u001b[0;31m---------------------------------------------------------------------------\u001b[0m\n"
          ],
          "errorDetails": {
            "actions": [
              {
                "action": "open_url",
                "actionText": "Open Examples",
                "url": "/notebooks/snippets/importing_libraries.ipynb"
              }
            ]
          }
        }
      ]
    },
    {
      "cell_type": "code",
      "source": [
        "import pandas as pd\n",
        "sales = pd.read_csv(\"sales3.csv\")\n",
        "sales\n"
      ],
      "metadata": {
        "colab": {
          "base_uri": "https://localhost:8080/",
          "height": 332
        },
        "id": "XADhtMmrzWKm",
        "outputId": "ece7ce23-83bb-4ba7-ee2a-9cf68bde882a"
      },
      "execution_count": null,
      "outputs": [
        {
          "output_type": "execute_result",
          "data": {
            "text/plain": [
              "   Customer_Number     Customer_Name          2016          2017  \\\n",
              "0            10001  Quest Industries  $125,000.00   $162,500.00    \n",
              "1            10002   kara Industries  $125,000.00   $162,500.00    \n",
              "2            10003   Dabu Industries  $154,000.00   $642,500.00    \n",
              "3            10004   Hero Industries  $165,000.00   $642,500.00    \n",
              "4            10005            XML Co  $125,000.00   $542,900.00    \n",
              "5            10006      Uber Limited  $154,000.00   $456,870.00    \n",
              "6            10007      Zara Pvt Ltd  $125,000.00   $129,000.00    \n",
              "7            10008           Samsung  $154,000.00   $444,320.00    \n",
              "8            10009            Airtel  $169,000.00   $435,000.00    \n",
              "\n",
              "  Percent_Growth Jan_Units  Month  Day  Year Active  \n",
              "0         30.00%       500      1   10  2015      Y  \n",
              "1         60.00%       500      1   10  2015      Y  \n",
              "2         50.00%    closed      1   10  2015      N  \n",
              "3         80.00%       600      1   11  2015      N  \n",
              "4         60.00%       800      2   11  2015      Y  \n",
              "5         50.00%       100      2   12  2015      Y  \n",
              "6         16.00%       200      2   11  2015      Y  \n",
              "7         40.00%       300      1   12  2015      Y  \n",
              "8         60.00%       500      1   11  2015      Y  "
            ],
            "text/html": [
              "\n",
              "  <div id=\"df-6d3afb4e-407b-4dde-9323-9a780bc7b993\">\n",
              "    <div class=\"colab-df-container\">\n",
              "      <div>\n",
              "<style scoped>\n",
              "    .dataframe tbody tr th:only-of-type {\n",
              "        vertical-align: middle;\n",
              "    }\n",
              "\n",
              "    .dataframe tbody tr th {\n",
              "        vertical-align: top;\n",
              "    }\n",
              "\n",
              "    .dataframe thead th {\n",
              "        text-align: right;\n",
              "    }\n",
              "</style>\n",
              "<table border=\"1\" class=\"dataframe\">\n",
              "  <thead>\n",
              "    <tr style=\"text-align: right;\">\n",
              "      <th></th>\n",
              "      <th>Customer_Number</th>\n",
              "      <th>Customer_Name</th>\n",
              "      <th>2016</th>\n",
              "      <th>2017</th>\n",
              "      <th>Percent_Growth</th>\n",
              "      <th>Jan_Units</th>\n",
              "      <th>Month</th>\n",
              "      <th>Day</th>\n",
              "      <th>Year</th>\n",
              "      <th>Active</th>\n",
              "    </tr>\n",
              "  </thead>\n",
              "  <tbody>\n",
              "    <tr>\n",
              "      <th>0</th>\n",
              "      <td>10001</td>\n",
              "      <td>Quest Industries</td>\n",
              "      <td>$125,000.00</td>\n",
              "      <td>$162,500.00</td>\n",
              "      <td>30.00%</td>\n",
              "      <td>500</td>\n",
              "      <td>1</td>\n",
              "      <td>10</td>\n",
              "      <td>2015</td>\n",
              "      <td>Y</td>\n",
              "    </tr>\n",
              "    <tr>\n",
              "      <th>1</th>\n",
              "      <td>10002</td>\n",
              "      <td>kara Industries</td>\n",
              "      <td>$125,000.00</td>\n",
              "      <td>$162,500.00</td>\n",
              "      <td>60.00%</td>\n",
              "      <td>500</td>\n",
              "      <td>1</td>\n",
              "      <td>10</td>\n",
              "      <td>2015</td>\n",
              "      <td>Y</td>\n",
              "    </tr>\n",
              "    <tr>\n",
              "      <th>2</th>\n",
              "      <td>10003</td>\n",
              "      <td>Dabu Industries</td>\n",
              "      <td>$154,000.00</td>\n",
              "      <td>$642,500.00</td>\n",
              "      <td>50.00%</td>\n",
              "      <td>closed</td>\n",
              "      <td>1</td>\n",
              "      <td>10</td>\n",
              "      <td>2015</td>\n",
              "      <td>N</td>\n",
              "    </tr>\n",
              "    <tr>\n",
              "      <th>3</th>\n",
              "      <td>10004</td>\n",
              "      <td>Hero Industries</td>\n",
              "      <td>$165,000.00</td>\n",
              "      <td>$642,500.00</td>\n",
              "      <td>80.00%</td>\n",
              "      <td>600</td>\n",
              "      <td>1</td>\n",
              "      <td>11</td>\n",
              "      <td>2015</td>\n",
              "      <td>N</td>\n",
              "    </tr>\n",
              "    <tr>\n",
              "      <th>4</th>\n",
              "      <td>10005</td>\n",
              "      <td>XML Co</td>\n",
              "      <td>$125,000.00</td>\n",
              "      <td>$542,900.00</td>\n",
              "      <td>60.00%</td>\n",
              "      <td>800</td>\n",
              "      <td>2</td>\n",
              "      <td>11</td>\n",
              "      <td>2015</td>\n",
              "      <td>Y</td>\n",
              "    </tr>\n",
              "    <tr>\n",
              "      <th>5</th>\n",
              "      <td>10006</td>\n",
              "      <td>Uber Limited</td>\n",
              "      <td>$154,000.00</td>\n",
              "      <td>$456,870.00</td>\n",
              "      <td>50.00%</td>\n",
              "      <td>100</td>\n",
              "      <td>2</td>\n",
              "      <td>12</td>\n",
              "      <td>2015</td>\n",
              "      <td>Y</td>\n",
              "    </tr>\n",
              "    <tr>\n",
              "      <th>6</th>\n",
              "      <td>10007</td>\n",
              "      <td>Zara Pvt Ltd</td>\n",
              "      <td>$125,000.00</td>\n",
              "      <td>$129,000.00</td>\n",
              "      <td>16.00%</td>\n",
              "      <td>200</td>\n",
              "      <td>2</td>\n",
              "      <td>11</td>\n",
              "      <td>2015</td>\n",
              "      <td>Y</td>\n",
              "    </tr>\n",
              "    <tr>\n",
              "      <th>7</th>\n",
              "      <td>10008</td>\n",
              "      <td>Samsung</td>\n",
              "      <td>$154,000.00</td>\n",
              "      <td>$444,320.00</td>\n",
              "      <td>40.00%</td>\n",
              "      <td>300</td>\n",
              "      <td>1</td>\n",
              "      <td>12</td>\n",
              "      <td>2015</td>\n",
              "      <td>Y</td>\n",
              "    </tr>\n",
              "    <tr>\n",
              "      <th>8</th>\n",
              "      <td>10009</td>\n",
              "      <td>Airtel</td>\n",
              "      <td>$169,000.00</td>\n",
              "      <td>$435,000.00</td>\n",
              "      <td>60.00%</td>\n",
              "      <td>500</td>\n",
              "      <td>1</td>\n",
              "      <td>11</td>\n",
              "      <td>2015</td>\n",
              "      <td>Y</td>\n",
              "    </tr>\n",
              "  </tbody>\n",
              "</table>\n",
              "</div>\n",
              "      <button class=\"colab-df-convert\" onclick=\"convertToInteractive('df-6d3afb4e-407b-4dde-9323-9a780bc7b993')\"\n",
              "              title=\"Convert this dataframe to an interactive table.\"\n",
              "              style=\"display:none;\">\n",
              "        \n",
              "  <svg xmlns=\"http://www.w3.org/2000/svg\" height=\"24px\"viewBox=\"0 0 24 24\"\n",
              "       width=\"24px\">\n",
              "    <path d=\"M0 0h24v24H0V0z\" fill=\"none\"/>\n",
              "    <path d=\"M18.56 5.44l.94 2.06.94-2.06 2.06-.94-2.06-.94-.94-2.06-.94 2.06-2.06.94zm-11 1L8.5 8.5l.94-2.06 2.06-.94-2.06-.94L8.5 2.5l-.94 2.06-2.06.94zm10 10l.94 2.06.94-2.06 2.06-.94-2.06-.94-.94-2.06-.94 2.06-2.06.94z\"/><path d=\"M17.41 7.96l-1.37-1.37c-.4-.4-.92-.59-1.43-.59-.52 0-1.04.2-1.43.59L10.3 9.45l-7.72 7.72c-.78.78-.78 2.05 0 2.83L4 21.41c.39.39.9.59 1.41.59.51 0 1.02-.2 1.41-.59l7.78-7.78 2.81-2.81c.8-.78.8-2.07 0-2.86zM5.41 20L4 18.59l7.72-7.72 1.47 1.35L5.41 20z\"/>\n",
              "  </svg>\n",
              "      </button>\n",
              "      \n",
              "  <style>\n",
              "    .colab-df-container {\n",
              "      display:flex;\n",
              "      flex-wrap:wrap;\n",
              "      gap: 12px;\n",
              "    }\n",
              "\n",
              "    .colab-df-convert {\n",
              "      background-color: #E8F0FE;\n",
              "      border: none;\n",
              "      border-radius: 50%;\n",
              "      cursor: pointer;\n",
              "      display: none;\n",
              "      fill: #1967D2;\n",
              "      height: 32px;\n",
              "      padding: 0 0 0 0;\n",
              "      width: 32px;\n",
              "    }\n",
              "\n",
              "    .colab-df-convert:hover {\n",
              "      background-color: #E2EBFA;\n",
              "      box-shadow: 0px 1px 2px rgba(60, 64, 67, 0.3), 0px 1px 3px 1px rgba(60, 64, 67, 0.15);\n",
              "      fill: #174EA6;\n",
              "    }\n",
              "\n",
              "    [theme=dark] .colab-df-convert {\n",
              "      background-color: #3B4455;\n",
              "      fill: #D2E3FC;\n",
              "    }\n",
              "\n",
              "    [theme=dark] .colab-df-convert:hover {\n",
              "      background-color: #434B5C;\n",
              "      box-shadow: 0px 1px 3px 1px rgba(0, 0, 0, 0.15);\n",
              "      filter: drop-shadow(0px 1px 2px rgba(0, 0, 0, 0.3));\n",
              "      fill: #FFFFFF;\n",
              "    }\n",
              "  </style>\n",
              "\n",
              "      <script>\n",
              "        const buttonEl =\n",
              "          document.querySelector('#df-6d3afb4e-407b-4dde-9323-9a780bc7b993 button.colab-df-convert');\n",
              "        buttonEl.style.display =\n",
              "          google.colab.kernel.accessAllowed ? 'block' : 'none';\n",
              "\n",
              "        async function convertToInteractive(key) {\n",
              "          const element = document.querySelector('#df-6d3afb4e-407b-4dde-9323-9a780bc7b993');\n",
              "          const dataTable =\n",
              "            await google.colab.kernel.invokeFunction('convertToInteractive',\n",
              "                                                     [key], {});\n",
              "          if (!dataTable) return;\n",
              "\n",
              "          const docLinkHtml = 'Like what you see? Visit the ' +\n",
              "            '<a target=\"_blank\" href=https://colab.research.google.com/notebooks/data_table.ipynb>data table notebook</a>'\n",
              "            + ' to learn more about interactive tables.';\n",
              "          element.innerHTML = '';\n",
              "          dataTable['output_type'] = 'display_data';\n",
              "          await google.colab.output.renderOutput(dataTable, element);\n",
              "          const docLink = document.createElement('div');\n",
              "          docLink.innerHTML = docLinkHtml;\n",
              "          element.appendChild(docLink);\n",
              "        }\n",
              "      </script>\n",
              "    </div>\n",
              "  </div>\n",
              "  "
            ]
          },
          "metadata": {},
          "execution_count": 2
        }
      ]
    },
    {
      "cell_type": "code",
      "source": [],
      "metadata": {
        "id": "UjrTt98o5FwW"
      },
      "execution_count": null,
      "outputs": []
    },
    {
      "cell_type": "code",
      "source": [
        "import numpy as np\n",
        "import cv2\n",
        "\n",
        "def gaussian_blur(img, kernel_size):\n",
        "    # Create a 2D Gaussian kernel with the given size\n",
        "    kernel = np.zeros((kernel_size, kernel_size))\n",
        "    center = kernel_size // 2\n",
        "    sigma = 1.0\n",
        "    for i in range(kernel_size):\n",
        "        for j in range(kernel_size):\n",
        "            x = i - center\n",
        "            y = j - center\n",
        "            kernel[i, j] = np.exp(-(x*2 + y2) / (2 * sigma*2))\n",
        "\n",
        "    # Normalize the kernel to sum to 1\n",
        "    kernel /= np.sum(kernel)\n",
        "\n",
        "    # Apply the kernel to the image using convolution\n",
        "    blurred = cv2.filter2D(img, -1, kernel)\n",
        "\n",
        "    return blurred"
      ],
      "metadata": {
        "id": "afl7uywB0AWz"
      },
      "execution_count": null,
      "outputs": []
    },
    {
      "cell_type": "code",
      "source": [
        "import numpy\n",
        "\n",
        "arr = numpy.array([69,77,55,88,165,252,2552,252,225,14,2])\n",
        "\n",
        "print(arr)"
      ],
      "metadata": {
        "colab": {
          "base_uri": "https://localhost:8080/"
        },
        "id": "5b1jn8xR0yQT",
        "outputId": "410d13f9-0c87-4c84-9b21-42472741378d"
      },
      "execution_count": null,
      "outputs": [
        {
          "output_type": "stream",
          "name": "stdout",
          "text": [
            "[  69   77   55   88  165  252 2552  252  225   14    2]\n"
          ]
        }
      ]
    },
    {
      "cell_type": "code",
      "source": [
        "import pandas as pd\n",
        "sales = pd.read_csv(\"titanic3.csv\")\n",
        "sales"
      ],
      "metadata": {
        "colab": {
          "base_uri": "https://localhost:8080/",
          "height": 424
        },
        "id": "D9KZODeJ5Gyb",
        "outputId": "1d390919-6e17-400b-98bf-9d729f06533e"
      },
      "execution_count": null,
      "outputs": [
        {
          "output_type": "execute_result",
          "data": {
            "text/plain": [
              "      pclass  survived                                             name  \\\n",
              "0        1.0       1.0                    Allen, Miss. Elisabeth Walton   \n",
              "1        1.0       1.0                   Allison, Master. Hudson Trevor   \n",
              "2        1.0       0.0                     Allison, Miss. Helen Loraine   \n",
              "3        1.0       0.0             Allison, Mr. Hudson Joshua Creighton   \n",
              "4        1.0       0.0  Allison, Mrs. Hudson J C (Bessie Waldo Daniels)   \n",
              "...      ...       ...                                              ...   \n",
              "1305     3.0       0.0                            Zabour, Miss. Thamine   \n",
              "1306     3.0       0.0                        Zakarian, Mr. Mapriededer   \n",
              "1307     3.0       0.0                              Zakarian, Mr. Ortin   \n",
              "1308     3.0       0.0                               Zimmerman, Mr. Leo   \n",
              "1309     NaN       NaN                                              NaN   \n",
              "\n",
              "         sex      age  sibsp  parch  ticket      fare    cabin embarked boat  \\\n",
              "0     female  29.0000    0.0    0.0   24160  211.3375       B5        S    2   \n",
              "1       male   0.9167    1.0    2.0  113781  151.5500  C22 C26        S   11   \n",
              "2     female   2.0000    1.0    2.0  113781  151.5500  C22 C26        S  NaN   \n",
              "3       male  30.0000    1.0    2.0  113781  151.5500  C22 C26        S  NaN   \n",
              "4     female  25.0000    1.0    2.0  113781  151.5500  C22 C26        S  NaN   \n",
              "...      ...      ...    ...    ...     ...       ...      ...      ...  ...   \n",
              "1305  female      NaN    1.0    0.0    2665   14.4542      NaN        C  NaN   \n",
              "1306    male  26.5000    0.0    0.0    2656    7.2250      NaN        C  NaN   \n",
              "1307    male  27.0000    0.0    0.0    2670    7.2250      NaN        C  NaN   \n",
              "1308    male  29.0000    0.0    0.0  315082    7.8750      NaN        S  NaN   \n",
              "1309     NaN      NaN    NaN    NaN     NaN       NaN      NaN      NaN  NaN   \n",
              "\n",
              "       body                        home.dest  \n",
              "0       NaN                     St Louis, MO  \n",
              "1       NaN  Montreal, PQ / Chesterville, ON  \n",
              "2       NaN  Montreal, PQ / Chesterville, ON  \n",
              "3     135.0  Montreal, PQ / Chesterville, ON  \n",
              "4       NaN  Montreal, PQ / Chesterville, ON  \n",
              "...     ...                              ...  \n",
              "1305    NaN                              NaN  \n",
              "1306  304.0                              NaN  \n",
              "1307    NaN                              NaN  \n",
              "1308    NaN                              NaN  \n",
              "1309    NaN                              NaN  \n",
              "\n",
              "[1310 rows x 14 columns]"
            ],
            "text/html": [
              "\n",
              "  <div id=\"df-fcba5aaa-4060-4982-b674-cfc79f621329\">\n",
              "    <div class=\"colab-df-container\">\n",
              "      <div>\n",
              "<style scoped>\n",
              "    .dataframe tbody tr th:only-of-type {\n",
              "        vertical-align: middle;\n",
              "    }\n",
              "\n",
              "    .dataframe tbody tr th {\n",
              "        vertical-align: top;\n",
              "    }\n",
              "\n",
              "    .dataframe thead th {\n",
              "        text-align: right;\n",
              "    }\n",
              "</style>\n",
              "<table border=\"1\" class=\"dataframe\">\n",
              "  <thead>\n",
              "    <tr style=\"text-align: right;\">\n",
              "      <th></th>\n",
              "      <th>pclass</th>\n",
              "      <th>survived</th>\n",
              "      <th>name</th>\n",
              "      <th>sex</th>\n",
              "      <th>age</th>\n",
              "      <th>sibsp</th>\n",
              "      <th>parch</th>\n",
              "      <th>ticket</th>\n",
              "      <th>fare</th>\n",
              "      <th>cabin</th>\n",
              "      <th>embarked</th>\n",
              "      <th>boat</th>\n",
              "      <th>body</th>\n",
              "      <th>home.dest</th>\n",
              "    </tr>\n",
              "  </thead>\n",
              "  <tbody>\n",
              "    <tr>\n",
              "      <th>0</th>\n",
              "      <td>1.0</td>\n",
              "      <td>1.0</td>\n",
              "      <td>Allen, Miss. Elisabeth Walton</td>\n",
              "      <td>female</td>\n",
              "      <td>29.0000</td>\n",
              "      <td>0.0</td>\n",
              "      <td>0.0</td>\n",
              "      <td>24160</td>\n",
              "      <td>211.3375</td>\n",
              "      <td>B5</td>\n",
              "      <td>S</td>\n",
              "      <td>2</td>\n",
              "      <td>NaN</td>\n",
              "      <td>St Louis, MO</td>\n",
              "    </tr>\n",
              "    <tr>\n",
              "      <th>1</th>\n",
              "      <td>1.0</td>\n",
              "      <td>1.0</td>\n",
              "      <td>Allison, Master. Hudson Trevor</td>\n",
              "      <td>male</td>\n",
              "      <td>0.9167</td>\n",
              "      <td>1.0</td>\n",
              "      <td>2.0</td>\n",
              "      <td>113781</td>\n",
              "      <td>151.5500</td>\n",
              "      <td>C22 C26</td>\n",
              "      <td>S</td>\n",
              "      <td>11</td>\n",
              "      <td>NaN</td>\n",
              "      <td>Montreal, PQ / Chesterville, ON</td>\n",
              "    </tr>\n",
              "    <tr>\n",
              "      <th>2</th>\n",
              "      <td>1.0</td>\n",
              "      <td>0.0</td>\n",
              "      <td>Allison, Miss. Helen Loraine</td>\n",
              "      <td>female</td>\n",
              "      <td>2.0000</td>\n",
              "      <td>1.0</td>\n",
              "      <td>2.0</td>\n",
              "      <td>113781</td>\n",
              "      <td>151.5500</td>\n",
              "      <td>C22 C26</td>\n",
              "      <td>S</td>\n",
              "      <td>NaN</td>\n",
              "      <td>NaN</td>\n",
              "      <td>Montreal, PQ / Chesterville, ON</td>\n",
              "    </tr>\n",
              "    <tr>\n",
              "      <th>3</th>\n",
              "      <td>1.0</td>\n",
              "      <td>0.0</td>\n",
              "      <td>Allison, Mr. Hudson Joshua Creighton</td>\n",
              "      <td>male</td>\n",
              "      <td>30.0000</td>\n",
              "      <td>1.0</td>\n",
              "      <td>2.0</td>\n",
              "      <td>113781</td>\n",
              "      <td>151.5500</td>\n",
              "      <td>C22 C26</td>\n",
              "      <td>S</td>\n",
              "      <td>NaN</td>\n",
              "      <td>135.0</td>\n",
              "      <td>Montreal, PQ / Chesterville, ON</td>\n",
              "    </tr>\n",
              "    <tr>\n",
              "      <th>4</th>\n",
              "      <td>1.0</td>\n",
              "      <td>0.0</td>\n",
              "      <td>Allison, Mrs. Hudson J C (Bessie Waldo Daniels)</td>\n",
              "      <td>female</td>\n",
              "      <td>25.0000</td>\n",
              "      <td>1.0</td>\n",
              "      <td>2.0</td>\n",
              "      <td>113781</td>\n",
              "      <td>151.5500</td>\n",
              "      <td>C22 C26</td>\n",
              "      <td>S</td>\n",
              "      <td>NaN</td>\n",
              "      <td>NaN</td>\n",
              "      <td>Montreal, PQ / Chesterville, ON</td>\n",
              "    </tr>\n",
              "    <tr>\n",
              "      <th>...</th>\n",
              "      <td>...</td>\n",
              "      <td>...</td>\n",
              "      <td>...</td>\n",
              "      <td>...</td>\n",
              "      <td>...</td>\n",
              "      <td>...</td>\n",
              "      <td>...</td>\n",
              "      <td>...</td>\n",
              "      <td>...</td>\n",
              "      <td>...</td>\n",
              "      <td>...</td>\n",
              "      <td>...</td>\n",
              "      <td>...</td>\n",
              "      <td>...</td>\n",
              "    </tr>\n",
              "    <tr>\n",
              "      <th>1305</th>\n",
              "      <td>3.0</td>\n",
              "      <td>0.0</td>\n",
              "      <td>Zabour, Miss. Thamine</td>\n",
              "      <td>female</td>\n",
              "      <td>NaN</td>\n",
              "      <td>1.0</td>\n",
              "      <td>0.0</td>\n",
              "      <td>2665</td>\n",
              "      <td>14.4542</td>\n",
              "      <td>NaN</td>\n",
              "      <td>C</td>\n",
              "      <td>NaN</td>\n",
              "      <td>NaN</td>\n",
              "      <td>NaN</td>\n",
              "    </tr>\n",
              "    <tr>\n",
              "      <th>1306</th>\n",
              "      <td>3.0</td>\n",
              "      <td>0.0</td>\n",
              "      <td>Zakarian, Mr. Mapriededer</td>\n",
              "      <td>male</td>\n",
              "      <td>26.5000</td>\n",
              "      <td>0.0</td>\n",
              "      <td>0.0</td>\n",
              "      <td>2656</td>\n",
              "      <td>7.2250</td>\n",
              "      <td>NaN</td>\n",
              "      <td>C</td>\n",
              "      <td>NaN</td>\n",
              "      <td>304.0</td>\n",
              "      <td>NaN</td>\n",
              "    </tr>\n",
              "    <tr>\n",
              "      <th>1307</th>\n",
              "      <td>3.0</td>\n",
              "      <td>0.0</td>\n",
              "      <td>Zakarian, Mr. Ortin</td>\n",
              "      <td>male</td>\n",
              "      <td>27.0000</td>\n",
              "      <td>0.0</td>\n",
              "      <td>0.0</td>\n",
              "      <td>2670</td>\n",
              "      <td>7.2250</td>\n",
              "      <td>NaN</td>\n",
              "      <td>C</td>\n",
              "      <td>NaN</td>\n",
              "      <td>NaN</td>\n",
              "      <td>NaN</td>\n",
              "    </tr>\n",
              "    <tr>\n",
              "      <th>1308</th>\n",
              "      <td>3.0</td>\n",
              "      <td>0.0</td>\n",
              "      <td>Zimmerman, Mr. Leo</td>\n",
              "      <td>male</td>\n",
              "      <td>29.0000</td>\n",
              "      <td>0.0</td>\n",
              "      <td>0.0</td>\n",
              "      <td>315082</td>\n",
              "      <td>7.8750</td>\n",
              "      <td>NaN</td>\n",
              "      <td>S</td>\n",
              "      <td>NaN</td>\n",
              "      <td>NaN</td>\n",
              "      <td>NaN</td>\n",
              "    </tr>\n",
              "    <tr>\n",
              "      <th>1309</th>\n",
              "      <td>NaN</td>\n",
              "      <td>NaN</td>\n",
              "      <td>NaN</td>\n",
              "      <td>NaN</td>\n",
              "      <td>NaN</td>\n",
              "      <td>NaN</td>\n",
              "      <td>NaN</td>\n",
              "      <td>NaN</td>\n",
              "      <td>NaN</td>\n",
              "      <td>NaN</td>\n",
              "      <td>NaN</td>\n",
              "      <td>NaN</td>\n",
              "      <td>NaN</td>\n",
              "      <td>NaN</td>\n",
              "    </tr>\n",
              "  </tbody>\n",
              "</table>\n",
              "<p>1310 rows × 14 columns</p>\n",
              "</div>\n",
              "      <button class=\"colab-df-convert\" onclick=\"convertToInteractive('df-fcba5aaa-4060-4982-b674-cfc79f621329')\"\n",
              "              title=\"Convert this dataframe to an interactive table.\"\n",
              "              style=\"display:none;\">\n",
              "        \n",
              "  <svg xmlns=\"http://www.w3.org/2000/svg\" height=\"24px\"viewBox=\"0 0 24 24\"\n",
              "       width=\"24px\">\n",
              "    <path d=\"M0 0h24v24H0V0z\" fill=\"none\"/>\n",
              "    <path d=\"M18.56 5.44l.94 2.06.94-2.06 2.06-.94-2.06-.94-.94-2.06-.94 2.06-2.06.94zm-11 1L8.5 8.5l.94-2.06 2.06-.94-2.06-.94L8.5 2.5l-.94 2.06-2.06.94zm10 10l.94 2.06.94-2.06 2.06-.94-2.06-.94-.94-2.06-.94 2.06-2.06.94z\"/><path d=\"M17.41 7.96l-1.37-1.37c-.4-.4-.92-.59-1.43-.59-.52 0-1.04.2-1.43.59L10.3 9.45l-7.72 7.72c-.78.78-.78 2.05 0 2.83L4 21.41c.39.39.9.59 1.41.59.51 0 1.02-.2 1.41-.59l7.78-7.78 2.81-2.81c.8-.78.8-2.07 0-2.86zM5.41 20L4 18.59l7.72-7.72 1.47 1.35L5.41 20z\"/>\n",
              "  </svg>\n",
              "      </button>\n",
              "      \n",
              "  <style>\n",
              "    .colab-df-container {\n",
              "      display:flex;\n",
              "      flex-wrap:wrap;\n",
              "      gap: 12px;\n",
              "    }\n",
              "\n",
              "    .colab-df-convert {\n",
              "      background-color: #E8F0FE;\n",
              "      border: none;\n",
              "      border-radius: 50%;\n",
              "      cursor: pointer;\n",
              "      display: none;\n",
              "      fill: #1967D2;\n",
              "      height: 32px;\n",
              "      padding: 0 0 0 0;\n",
              "      width: 32px;\n",
              "    }\n",
              "\n",
              "    .colab-df-convert:hover {\n",
              "      background-color: #E2EBFA;\n",
              "      box-shadow: 0px 1px 2px rgba(60, 64, 67, 0.3), 0px 1px 3px 1px rgba(60, 64, 67, 0.15);\n",
              "      fill: #174EA6;\n",
              "    }\n",
              "\n",
              "    [theme=dark] .colab-df-convert {\n",
              "      background-color: #3B4455;\n",
              "      fill: #D2E3FC;\n",
              "    }\n",
              "\n",
              "    [theme=dark] .colab-df-convert:hover {\n",
              "      background-color: #434B5C;\n",
              "      box-shadow: 0px 1px 3px 1px rgba(0, 0, 0, 0.15);\n",
              "      filter: drop-shadow(0px 1px 2px rgba(0, 0, 0, 0.3));\n",
              "      fill: #FFFFFF;\n",
              "    }\n",
              "  </style>\n",
              "\n",
              "      <script>\n",
              "        const buttonEl =\n",
              "          document.querySelector('#df-fcba5aaa-4060-4982-b674-cfc79f621329 button.colab-df-convert');\n",
              "        buttonEl.style.display =\n",
              "          google.colab.kernel.accessAllowed ? 'block' : 'none';\n",
              "\n",
              "        async function convertToInteractive(key) {\n",
              "          const element = document.querySelector('#df-fcba5aaa-4060-4982-b674-cfc79f621329');\n",
              "          const dataTable =\n",
              "            await google.colab.kernel.invokeFunction('convertToInteractive',\n",
              "                                                     [key], {});\n",
              "          if (!dataTable) return;\n",
              "\n",
              "          const docLinkHtml = 'Like what you see? Visit the ' +\n",
              "            '<a target=\"_blank\" href=https://colab.research.google.com/notebooks/data_table.ipynb>data table notebook</a>'\n",
              "            + ' to learn more about interactive tables.';\n",
              "          element.innerHTML = '';\n",
              "          dataTable['output_type'] = 'display_data';\n",
              "          await google.colab.output.renderOutput(dataTable, element);\n",
              "          const docLink = document.createElement('div');\n",
              "          docLink.innerHTML = docLinkHtml;\n",
              "          element.appendChild(docLink);\n",
              "        }\n",
              "      </script>\n",
              "    </div>\n",
              "  </div>\n",
              "  "
            ]
          },
          "metadata": {},
          "execution_count": 8
        }
      ]
    },
    {
      "cell_type": "code",
      "source": [
        "sales['cabin'].fillna(\"Not Available\", inplace = True)\n",
        "sales"
      ],
      "metadata": {
        "colab": {
          "base_uri": "https://localhost:8080/",
          "height": 424
        },
        "id": "PliGbe_25ept",
        "outputId": "2455dbb3-b367-4624-dfea-dad259bb6428"
      },
      "execution_count": null,
      "outputs": [
        {
          "output_type": "execute_result",
          "data": {
            "text/plain": [
              "      pclass  survived                                             name  \\\n",
              "0        1.0       1.0                    Allen, Miss. Elisabeth Walton   \n",
              "1        1.0       1.0                   Allison, Master. Hudson Trevor   \n",
              "2        1.0       0.0                     Allison, Miss. Helen Loraine   \n",
              "3        1.0       0.0             Allison, Mr. Hudson Joshua Creighton   \n",
              "4        1.0       0.0  Allison, Mrs. Hudson J C (Bessie Waldo Daniels)   \n",
              "...      ...       ...                                              ...   \n",
              "1305     3.0       0.0                            Zabour, Miss. Thamine   \n",
              "1306     3.0       0.0                        Zakarian, Mr. Mapriededer   \n",
              "1307     3.0       0.0                              Zakarian, Mr. Ortin   \n",
              "1308     3.0       0.0                               Zimmerman, Mr. Leo   \n",
              "1309     NaN       NaN                                              NaN   \n",
              "\n",
              "         sex      age  sibsp  parch  ticket      fare          cabin embarked  \\\n",
              "0     female  29.0000    0.0    0.0   24160  211.3375             B5        S   \n",
              "1       male   0.9167    1.0    2.0  113781  151.5500        C22 C26        S   \n",
              "2     female   2.0000    1.0    2.0  113781  151.5500        C22 C26        S   \n",
              "3       male  30.0000    1.0    2.0  113781  151.5500        C22 C26        S   \n",
              "4     female  25.0000    1.0    2.0  113781  151.5500        C22 C26        S   \n",
              "...      ...      ...    ...    ...     ...       ...            ...      ...   \n",
              "1305  female      NaN    1.0    0.0    2665   14.4542  Not Available        C   \n",
              "1306    male  26.5000    0.0    0.0    2656    7.2250  Not Available        C   \n",
              "1307    male  27.0000    0.0    0.0    2670    7.2250  Not Available        C   \n",
              "1308    male  29.0000    0.0    0.0  315082    7.8750  Not Available        S   \n",
              "1309     NaN      NaN    NaN    NaN     NaN       NaN  Not Available      NaN   \n",
              "\n",
              "     boat   body                        home.dest  \n",
              "0       2    NaN                     St Louis, MO  \n",
              "1      11    NaN  Montreal, PQ / Chesterville, ON  \n",
              "2     NaN    NaN  Montreal, PQ / Chesterville, ON  \n",
              "3     NaN  135.0  Montreal, PQ / Chesterville, ON  \n",
              "4     NaN    NaN  Montreal, PQ / Chesterville, ON  \n",
              "...   ...    ...                              ...  \n",
              "1305  NaN    NaN                              NaN  \n",
              "1306  NaN  304.0                              NaN  \n",
              "1307  NaN    NaN                              NaN  \n",
              "1308  NaN    NaN                              NaN  \n",
              "1309  NaN    NaN                              NaN  \n",
              "\n",
              "[1310 rows x 14 columns]"
            ],
            "text/html": [
              "\n",
              "  <div id=\"df-11f3d50e-1070-43ab-8653-30a39df38e30\">\n",
              "    <div class=\"colab-df-container\">\n",
              "      <div>\n",
              "<style scoped>\n",
              "    .dataframe tbody tr th:only-of-type {\n",
              "        vertical-align: middle;\n",
              "    }\n",
              "\n",
              "    .dataframe tbody tr th {\n",
              "        vertical-align: top;\n",
              "    }\n",
              "\n",
              "    .dataframe thead th {\n",
              "        text-align: right;\n",
              "    }\n",
              "</style>\n",
              "<table border=\"1\" class=\"dataframe\">\n",
              "  <thead>\n",
              "    <tr style=\"text-align: right;\">\n",
              "      <th></th>\n",
              "      <th>pclass</th>\n",
              "      <th>survived</th>\n",
              "      <th>name</th>\n",
              "      <th>sex</th>\n",
              "      <th>age</th>\n",
              "      <th>sibsp</th>\n",
              "      <th>parch</th>\n",
              "      <th>ticket</th>\n",
              "      <th>fare</th>\n",
              "      <th>cabin</th>\n",
              "      <th>embarked</th>\n",
              "      <th>boat</th>\n",
              "      <th>body</th>\n",
              "      <th>home.dest</th>\n",
              "    </tr>\n",
              "  </thead>\n",
              "  <tbody>\n",
              "    <tr>\n",
              "      <th>0</th>\n",
              "      <td>1.0</td>\n",
              "      <td>1.0</td>\n",
              "      <td>Allen, Miss. Elisabeth Walton</td>\n",
              "      <td>female</td>\n",
              "      <td>29.0000</td>\n",
              "      <td>0.0</td>\n",
              "      <td>0.0</td>\n",
              "      <td>24160</td>\n",
              "      <td>211.3375</td>\n",
              "      <td>B5</td>\n",
              "      <td>S</td>\n",
              "      <td>2</td>\n",
              "      <td>NaN</td>\n",
              "      <td>St Louis, MO</td>\n",
              "    </tr>\n",
              "    <tr>\n",
              "      <th>1</th>\n",
              "      <td>1.0</td>\n",
              "      <td>1.0</td>\n",
              "      <td>Allison, Master. Hudson Trevor</td>\n",
              "      <td>male</td>\n",
              "      <td>0.9167</td>\n",
              "      <td>1.0</td>\n",
              "      <td>2.0</td>\n",
              "      <td>113781</td>\n",
              "      <td>151.5500</td>\n",
              "      <td>C22 C26</td>\n",
              "      <td>S</td>\n",
              "      <td>11</td>\n",
              "      <td>NaN</td>\n",
              "      <td>Montreal, PQ / Chesterville, ON</td>\n",
              "    </tr>\n",
              "    <tr>\n",
              "      <th>2</th>\n",
              "      <td>1.0</td>\n",
              "      <td>0.0</td>\n",
              "      <td>Allison, Miss. Helen Loraine</td>\n",
              "      <td>female</td>\n",
              "      <td>2.0000</td>\n",
              "      <td>1.0</td>\n",
              "      <td>2.0</td>\n",
              "      <td>113781</td>\n",
              "      <td>151.5500</td>\n",
              "      <td>C22 C26</td>\n",
              "      <td>S</td>\n",
              "      <td>NaN</td>\n",
              "      <td>NaN</td>\n",
              "      <td>Montreal, PQ / Chesterville, ON</td>\n",
              "    </tr>\n",
              "    <tr>\n",
              "      <th>3</th>\n",
              "      <td>1.0</td>\n",
              "      <td>0.0</td>\n",
              "      <td>Allison, Mr. Hudson Joshua Creighton</td>\n",
              "      <td>male</td>\n",
              "      <td>30.0000</td>\n",
              "      <td>1.0</td>\n",
              "      <td>2.0</td>\n",
              "      <td>113781</td>\n",
              "      <td>151.5500</td>\n",
              "      <td>C22 C26</td>\n",
              "      <td>S</td>\n",
              "      <td>NaN</td>\n",
              "      <td>135.0</td>\n",
              "      <td>Montreal, PQ / Chesterville, ON</td>\n",
              "    </tr>\n",
              "    <tr>\n",
              "      <th>4</th>\n",
              "      <td>1.0</td>\n",
              "      <td>0.0</td>\n",
              "      <td>Allison, Mrs. Hudson J C (Bessie Waldo Daniels)</td>\n",
              "      <td>female</td>\n",
              "      <td>25.0000</td>\n",
              "      <td>1.0</td>\n",
              "      <td>2.0</td>\n",
              "      <td>113781</td>\n",
              "      <td>151.5500</td>\n",
              "      <td>C22 C26</td>\n",
              "      <td>S</td>\n",
              "      <td>NaN</td>\n",
              "      <td>NaN</td>\n",
              "      <td>Montreal, PQ / Chesterville, ON</td>\n",
              "    </tr>\n",
              "    <tr>\n",
              "      <th>...</th>\n",
              "      <td>...</td>\n",
              "      <td>...</td>\n",
              "      <td>...</td>\n",
              "      <td>...</td>\n",
              "      <td>...</td>\n",
              "      <td>...</td>\n",
              "      <td>...</td>\n",
              "      <td>...</td>\n",
              "      <td>...</td>\n",
              "      <td>...</td>\n",
              "      <td>...</td>\n",
              "      <td>...</td>\n",
              "      <td>...</td>\n",
              "      <td>...</td>\n",
              "    </tr>\n",
              "    <tr>\n",
              "      <th>1305</th>\n",
              "      <td>3.0</td>\n",
              "      <td>0.0</td>\n",
              "      <td>Zabour, Miss. Thamine</td>\n",
              "      <td>female</td>\n",
              "      <td>NaN</td>\n",
              "      <td>1.0</td>\n",
              "      <td>0.0</td>\n",
              "      <td>2665</td>\n",
              "      <td>14.4542</td>\n",
              "      <td>Not Available</td>\n",
              "      <td>C</td>\n",
              "      <td>NaN</td>\n",
              "      <td>NaN</td>\n",
              "      <td>NaN</td>\n",
              "    </tr>\n",
              "    <tr>\n",
              "      <th>1306</th>\n",
              "      <td>3.0</td>\n",
              "      <td>0.0</td>\n",
              "      <td>Zakarian, Mr. Mapriededer</td>\n",
              "      <td>male</td>\n",
              "      <td>26.5000</td>\n",
              "      <td>0.0</td>\n",
              "      <td>0.0</td>\n",
              "      <td>2656</td>\n",
              "      <td>7.2250</td>\n",
              "      <td>Not Available</td>\n",
              "      <td>C</td>\n",
              "      <td>NaN</td>\n",
              "      <td>304.0</td>\n",
              "      <td>NaN</td>\n",
              "    </tr>\n",
              "    <tr>\n",
              "      <th>1307</th>\n",
              "      <td>3.0</td>\n",
              "      <td>0.0</td>\n",
              "      <td>Zakarian, Mr. Ortin</td>\n",
              "      <td>male</td>\n",
              "      <td>27.0000</td>\n",
              "      <td>0.0</td>\n",
              "      <td>0.0</td>\n",
              "      <td>2670</td>\n",
              "      <td>7.2250</td>\n",
              "      <td>Not Available</td>\n",
              "      <td>C</td>\n",
              "      <td>NaN</td>\n",
              "      <td>NaN</td>\n",
              "      <td>NaN</td>\n",
              "    </tr>\n",
              "    <tr>\n",
              "      <th>1308</th>\n",
              "      <td>3.0</td>\n",
              "      <td>0.0</td>\n",
              "      <td>Zimmerman, Mr. Leo</td>\n",
              "      <td>male</td>\n",
              "      <td>29.0000</td>\n",
              "      <td>0.0</td>\n",
              "      <td>0.0</td>\n",
              "      <td>315082</td>\n",
              "      <td>7.8750</td>\n",
              "      <td>Not Available</td>\n",
              "      <td>S</td>\n",
              "      <td>NaN</td>\n",
              "      <td>NaN</td>\n",
              "      <td>NaN</td>\n",
              "    </tr>\n",
              "    <tr>\n",
              "      <th>1309</th>\n",
              "      <td>NaN</td>\n",
              "      <td>NaN</td>\n",
              "      <td>NaN</td>\n",
              "      <td>NaN</td>\n",
              "      <td>NaN</td>\n",
              "      <td>NaN</td>\n",
              "      <td>NaN</td>\n",
              "      <td>NaN</td>\n",
              "      <td>NaN</td>\n",
              "      <td>Not Available</td>\n",
              "      <td>NaN</td>\n",
              "      <td>NaN</td>\n",
              "      <td>NaN</td>\n",
              "      <td>NaN</td>\n",
              "    </tr>\n",
              "  </tbody>\n",
              "</table>\n",
              "<p>1310 rows × 14 columns</p>\n",
              "</div>\n",
              "      <button class=\"colab-df-convert\" onclick=\"convertToInteractive('df-11f3d50e-1070-43ab-8653-30a39df38e30')\"\n",
              "              title=\"Convert this dataframe to an interactive table.\"\n",
              "              style=\"display:none;\">\n",
              "        \n",
              "  <svg xmlns=\"http://www.w3.org/2000/svg\" height=\"24px\"viewBox=\"0 0 24 24\"\n",
              "       width=\"24px\">\n",
              "    <path d=\"M0 0h24v24H0V0z\" fill=\"none\"/>\n",
              "    <path d=\"M18.56 5.44l.94 2.06.94-2.06 2.06-.94-2.06-.94-.94-2.06-.94 2.06-2.06.94zm-11 1L8.5 8.5l.94-2.06 2.06-.94-2.06-.94L8.5 2.5l-.94 2.06-2.06.94zm10 10l.94 2.06.94-2.06 2.06-.94-2.06-.94-.94-2.06-.94 2.06-2.06.94z\"/><path d=\"M17.41 7.96l-1.37-1.37c-.4-.4-.92-.59-1.43-.59-.52 0-1.04.2-1.43.59L10.3 9.45l-7.72 7.72c-.78.78-.78 2.05 0 2.83L4 21.41c.39.39.9.59 1.41.59.51 0 1.02-.2 1.41-.59l7.78-7.78 2.81-2.81c.8-.78.8-2.07 0-2.86zM5.41 20L4 18.59l7.72-7.72 1.47 1.35L5.41 20z\"/>\n",
              "  </svg>\n",
              "      </button>\n",
              "      \n",
              "  <style>\n",
              "    .colab-df-container {\n",
              "      display:flex;\n",
              "      flex-wrap:wrap;\n",
              "      gap: 12px;\n",
              "    }\n",
              "\n",
              "    .colab-df-convert {\n",
              "      background-color: #E8F0FE;\n",
              "      border: none;\n",
              "      border-radius: 50%;\n",
              "      cursor: pointer;\n",
              "      display: none;\n",
              "      fill: #1967D2;\n",
              "      height: 32px;\n",
              "      padding: 0 0 0 0;\n",
              "      width: 32px;\n",
              "    }\n",
              "\n",
              "    .colab-df-convert:hover {\n",
              "      background-color: #E2EBFA;\n",
              "      box-shadow: 0px 1px 2px rgba(60, 64, 67, 0.3), 0px 1px 3px 1px rgba(60, 64, 67, 0.15);\n",
              "      fill: #174EA6;\n",
              "    }\n",
              "\n",
              "    [theme=dark] .colab-df-convert {\n",
              "      background-color: #3B4455;\n",
              "      fill: #D2E3FC;\n",
              "    }\n",
              "\n",
              "    [theme=dark] .colab-df-convert:hover {\n",
              "      background-color: #434B5C;\n",
              "      box-shadow: 0px 1px 3px 1px rgba(0, 0, 0, 0.15);\n",
              "      filter: drop-shadow(0px 1px 2px rgba(0, 0, 0, 0.3));\n",
              "      fill: #FFFFFF;\n",
              "    }\n",
              "  </style>\n",
              "\n",
              "      <script>\n",
              "        const buttonEl =\n",
              "          document.querySelector('#df-11f3d50e-1070-43ab-8653-30a39df38e30 button.colab-df-convert');\n",
              "        buttonEl.style.display =\n",
              "          google.colab.kernel.accessAllowed ? 'block' : 'none';\n",
              "\n",
              "        async function convertToInteractive(key) {\n",
              "          const element = document.querySelector('#df-11f3d50e-1070-43ab-8653-30a39df38e30');\n",
              "          const dataTable =\n",
              "            await google.colab.kernel.invokeFunction('convertToInteractive',\n",
              "                                                     [key], {});\n",
              "          if (!dataTable) return;\n",
              "\n",
              "          const docLinkHtml = 'Like what you see? Visit the ' +\n",
              "            '<a target=\"_blank\" href=https://colab.research.google.com/notebooks/data_table.ipynb>data table notebook</a>'\n",
              "            + ' to learn more about interactive tables.';\n",
              "          element.innerHTML = '';\n",
              "          dataTable['output_type'] = 'display_data';\n",
              "          await google.colab.output.renderOutput(dataTable, element);\n",
              "          const docLink = document.createElement('div');\n",
              "          docLink.innerHTML = docLinkHtml;\n",
              "          element.appendChild(docLink);\n",
              "        }\n",
              "      </script>\n",
              "    </div>\n",
              "  </div>\n",
              "  "
            ]
          },
          "metadata": {},
          "execution_count": 21
        }
      ]
    },
    {
      "cell_type": "code",
      "source": [
        "import pandas as pd\n",
        "crime = pd.read_csv(\"/content/District_wise_crimes_committed_IPC_2001_2012.csv\")\n",
        "crime"
      ],
      "metadata": {
        "id": "s_mNbo_x93vn",
        "colab": {
          "base_uri": "https://localhost:8080/",
          "height": 624
        },
        "outputId": "fb4dac4f-7d1d-485b-ecc4-4f0776101747"
      },
      "execution_count": null,
      "outputs": [
        {
          "output_type": "execute_result",
          "data": {
            "text/plain": [
              "               STATE       DISTRICT  YEAR  MURDER  ATTEMPT TO MURDER  \\\n",
              "0     ANDHRA PRADESH       ADILABAD  2001     101                 60   \n",
              "1     ANDHRA PRADESH      ANANTAPUR  2001     151                125   \n",
              "2     ANDHRA PRADESH       CHITTOOR  2001     101                 57   \n",
              "3     ANDHRA PRADESH       CUDDAPAH  2001      80                 53   \n",
              "4     ANDHRA PRADESH  EAST GODAVARI  2001      82                 67   \n",
              "...              ...            ...   ...     ...                ...   \n",
              "9012     LAKSHADWEEP    LAKSHADWEEP  2012       0                  0   \n",
              "9013     LAKSHADWEEP          TOTAL  2012       0                  0   \n",
              "9014      PUDUCHERRY       KARAIKAL  2012       5                  6   \n",
              "9015      PUDUCHERRY     PUDUCHERRY  2012      24                 21   \n",
              "9016      PUDUCHERRY          TOTAL  2012      29                 27   \n",
              "\n",
              "      CULPABLE HOMICIDE NOT AMOUNTING TO MURDER  RAPE  CUSTODIAL RAPE  \\\n",
              "0                                            17    50               0   \n",
              "1                                             1    23               0   \n",
              "2                                             2    27               0   \n",
              "3                                             1    20               0   \n",
              "4                                             1    23               0   \n",
              "...                                         ...   ...             ...   \n",
              "9012                                          0     0               0   \n",
              "9013                                          0     0               0   \n",
              "9014                                          2     6               0   \n",
              "9015                                         10     7               0   \n",
              "9016                                         12    13               0   \n",
              "\n",
              "      OTHER RAPE  KIDNAPPING & ABDUCTION  ...  ARSON  HURT/GREVIOUS HURT  \\\n",
              "0             50                      46  ...     30                1131   \n",
              "1             23                      53  ...     69                1543   \n",
              "2             27                      59  ...     38                2088   \n",
              "3             20                      25  ...     23                 795   \n",
              "4             23                      49  ...     41                1244   \n",
              "...          ...                     ...  ...    ...                 ...   \n",
              "9012           0                       0  ...      3                   3   \n",
              "9013           0                       0  ...      3                   3   \n",
              "9014           6                       2  ...      1                 186   \n",
              "9015           7                      17  ...     20                 632   \n",
              "9016          13                      19  ...     21                 818   \n",
              "\n",
              "      DOWRY DEATHS  ASSAULT ON WOMEN WITH INTENT TO OUTRAGE HER MODESTY  \\\n",
              "0               16                                                149     \n",
              "1                7                                                118     \n",
              "2               14                                                112     \n",
              "3               17                                                126     \n",
              "4               12                                                109     \n",
              "...            ...                                                ...     \n",
              "9012             0                                                  1     \n",
              "9013             0                                                  1     \n",
              "9014             0                                                  2     \n",
              "9015             0                                                  7     \n",
              "9016             0                                                  9     \n",
              "\n",
              "      INSULT TO MODESTY OF WOMEN  CRUELTY BY HUSBAND OR HIS RELATIVES  \\\n",
              "0                             34                                  175   \n",
              "1                             24                                  154   \n",
              "2                             83                                  186   \n",
              "3                             38                                   57   \n",
              "4                             58                                  247   \n",
              "...                          ...                                  ...   \n",
              "9012                           0                                    1   \n",
              "9013                           0                                    1   \n",
              "9014                           0                                    1   \n",
              "9015                           2                                    5   \n",
              "9016                           2                                    6   \n",
              "\n",
              "      IMPORTATION OF GIRLS FROM FOREIGN COUNTRIES  \\\n",
              "0                                               0   \n",
              "1                                               0   \n",
              "2                                               0   \n",
              "3                                               0   \n",
              "4                                               0   \n",
              "...                                           ...   \n",
              "9012                                            0   \n",
              "9013                                            0   \n",
              "9014                                            0   \n",
              "9015                                            0   \n",
              "9016                                            0   \n",
              "\n",
              "      CAUSING DEATH BY NEGLIGENCE  OTHER IPC CRIMES  TOTAL IPC CRIMES  \n",
              "0                             181              1518              4154  \n",
              "1                             270               754              4125  \n",
              "2                             404              1262              5818  \n",
              "3                             233              1181              3140  \n",
              "4                             431              2313              6507  \n",
              "...                           ...               ...               ...  \n",
              "9012                            0                32                60  \n",
              "9013                            0                32                60  \n",
              "9014                           44               392               787  \n",
              "9015                          219              1668              3494  \n",
              "9016                          263              2060              4281  \n",
              "\n",
              "[9017 rows x 33 columns]"
            ],
            "text/html": [
              "\n",
              "  <div id=\"df-cf7c9245-7023-49b7-986f-0a8a5d03c4ef\">\n",
              "    <div class=\"colab-df-container\">\n",
              "      <div>\n",
              "<style scoped>\n",
              "    .dataframe tbody tr th:only-of-type {\n",
              "        vertical-align: middle;\n",
              "    }\n",
              "\n",
              "    .dataframe tbody tr th {\n",
              "        vertical-align: top;\n",
              "    }\n",
              "\n",
              "    .dataframe thead th {\n",
              "        text-align: right;\n",
              "    }\n",
              "</style>\n",
              "<table border=\"1\" class=\"dataframe\">\n",
              "  <thead>\n",
              "    <tr style=\"text-align: right;\">\n",
              "      <th></th>\n",
              "      <th>STATE</th>\n",
              "      <th>DISTRICT</th>\n",
              "      <th>YEAR</th>\n",
              "      <th>MURDER</th>\n",
              "      <th>ATTEMPT TO MURDER</th>\n",
              "      <th>CULPABLE HOMICIDE NOT AMOUNTING TO MURDER</th>\n",
              "      <th>RAPE</th>\n",
              "      <th>CUSTODIAL RAPE</th>\n",
              "      <th>OTHER RAPE</th>\n",
              "      <th>KIDNAPPING &amp; ABDUCTION</th>\n",
              "      <th>...</th>\n",
              "      <th>ARSON</th>\n",
              "      <th>HURT/GREVIOUS HURT</th>\n",
              "      <th>DOWRY DEATHS</th>\n",
              "      <th>ASSAULT ON WOMEN WITH INTENT TO OUTRAGE HER MODESTY</th>\n",
              "      <th>INSULT TO MODESTY OF WOMEN</th>\n",
              "      <th>CRUELTY BY HUSBAND OR HIS RELATIVES</th>\n",
              "      <th>IMPORTATION OF GIRLS FROM FOREIGN COUNTRIES</th>\n",
              "      <th>CAUSING DEATH BY NEGLIGENCE</th>\n",
              "      <th>OTHER IPC CRIMES</th>\n",
              "      <th>TOTAL IPC CRIMES</th>\n",
              "    </tr>\n",
              "  </thead>\n",
              "  <tbody>\n",
              "    <tr>\n",
              "      <th>0</th>\n",
              "      <td>ANDHRA PRADESH</td>\n",
              "      <td>ADILABAD</td>\n",
              "      <td>2001</td>\n",
              "      <td>101</td>\n",
              "      <td>60</td>\n",
              "      <td>17</td>\n",
              "      <td>50</td>\n",
              "      <td>0</td>\n",
              "      <td>50</td>\n",
              "      <td>46</td>\n",
              "      <td>...</td>\n",
              "      <td>30</td>\n",
              "      <td>1131</td>\n",
              "      <td>16</td>\n",
              "      <td>149</td>\n",
              "      <td>34</td>\n",
              "      <td>175</td>\n",
              "      <td>0</td>\n",
              "      <td>181</td>\n",
              "      <td>1518</td>\n",
              "      <td>4154</td>\n",
              "    </tr>\n",
              "    <tr>\n",
              "      <th>1</th>\n",
              "      <td>ANDHRA PRADESH</td>\n",
              "      <td>ANANTAPUR</td>\n",
              "      <td>2001</td>\n",
              "      <td>151</td>\n",
              "      <td>125</td>\n",
              "      <td>1</td>\n",
              "      <td>23</td>\n",
              "      <td>0</td>\n",
              "      <td>23</td>\n",
              "      <td>53</td>\n",
              "      <td>...</td>\n",
              "      <td>69</td>\n",
              "      <td>1543</td>\n",
              "      <td>7</td>\n",
              "      <td>118</td>\n",
              "      <td>24</td>\n",
              "      <td>154</td>\n",
              "      <td>0</td>\n",
              "      <td>270</td>\n",
              "      <td>754</td>\n",
              "      <td>4125</td>\n",
              "    </tr>\n",
              "    <tr>\n",
              "      <th>2</th>\n",
              "      <td>ANDHRA PRADESH</td>\n",
              "      <td>CHITTOOR</td>\n",
              "      <td>2001</td>\n",
              "      <td>101</td>\n",
              "      <td>57</td>\n",
              "      <td>2</td>\n",
              "      <td>27</td>\n",
              "      <td>0</td>\n",
              "      <td>27</td>\n",
              "      <td>59</td>\n",
              "      <td>...</td>\n",
              "      <td>38</td>\n",
              "      <td>2088</td>\n",
              "      <td>14</td>\n",
              "      <td>112</td>\n",
              "      <td>83</td>\n",
              "      <td>186</td>\n",
              "      <td>0</td>\n",
              "      <td>404</td>\n",
              "      <td>1262</td>\n",
              "      <td>5818</td>\n",
              "    </tr>\n",
              "    <tr>\n",
              "      <th>3</th>\n",
              "      <td>ANDHRA PRADESH</td>\n",
              "      <td>CUDDAPAH</td>\n",
              "      <td>2001</td>\n",
              "      <td>80</td>\n",
              "      <td>53</td>\n",
              "      <td>1</td>\n",
              "      <td>20</td>\n",
              "      <td>0</td>\n",
              "      <td>20</td>\n",
              "      <td>25</td>\n",
              "      <td>...</td>\n",
              "      <td>23</td>\n",
              "      <td>795</td>\n",
              "      <td>17</td>\n",
              "      <td>126</td>\n",
              "      <td>38</td>\n",
              "      <td>57</td>\n",
              "      <td>0</td>\n",
              "      <td>233</td>\n",
              "      <td>1181</td>\n",
              "      <td>3140</td>\n",
              "    </tr>\n",
              "    <tr>\n",
              "      <th>4</th>\n",
              "      <td>ANDHRA PRADESH</td>\n",
              "      <td>EAST GODAVARI</td>\n",
              "      <td>2001</td>\n",
              "      <td>82</td>\n",
              "      <td>67</td>\n",
              "      <td>1</td>\n",
              "      <td>23</td>\n",
              "      <td>0</td>\n",
              "      <td>23</td>\n",
              "      <td>49</td>\n",
              "      <td>...</td>\n",
              "      <td>41</td>\n",
              "      <td>1244</td>\n",
              "      <td>12</td>\n",
              "      <td>109</td>\n",
              "      <td>58</td>\n",
              "      <td>247</td>\n",
              "      <td>0</td>\n",
              "      <td>431</td>\n",
              "      <td>2313</td>\n",
              "      <td>6507</td>\n",
              "    </tr>\n",
              "    <tr>\n",
              "      <th>...</th>\n",
              "      <td>...</td>\n",
              "      <td>...</td>\n",
              "      <td>...</td>\n",
              "      <td>...</td>\n",
              "      <td>...</td>\n",
              "      <td>...</td>\n",
              "      <td>...</td>\n",
              "      <td>...</td>\n",
              "      <td>...</td>\n",
              "      <td>...</td>\n",
              "      <td>...</td>\n",
              "      <td>...</td>\n",
              "      <td>...</td>\n",
              "      <td>...</td>\n",
              "      <td>...</td>\n",
              "      <td>...</td>\n",
              "      <td>...</td>\n",
              "      <td>...</td>\n",
              "      <td>...</td>\n",
              "      <td>...</td>\n",
              "      <td>...</td>\n",
              "    </tr>\n",
              "    <tr>\n",
              "      <th>9012</th>\n",
              "      <td>LAKSHADWEEP</td>\n",
              "      <td>LAKSHADWEEP</td>\n",
              "      <td>2012</td>\n",
              "      <td>0</td>\n",
              "      <td>0</td>\n",
              "      <td>0</td>\n",
              "      <td>0</td>\n",
              "      <td>0</td>\n",
              "      <td>0</td>\n",
              "      <td>0</td>\n",
              "      <td>...</td>\n",
              "      <td>3</td>\n",
              "      <td>3</td>\n",
              "      <td>0</td>\n",
              "      <td>1</td>\n",
              "      <td>0</td>\n",
              "      <td>1</td>\n",
              "      <td>0</td>\n",
              "      <td>0</td>\n",
              "      <td>32</td>\n",
              "      <td>60</td>\n",
              "    </tr>\n",
              "    <tr>\n",
              "      <th>9013</th>\n",
              "      <td>LAKSHADWEEP</td>\n",
              "      <td>TOTAL</td>\n",
              "      <td>2012</td>\n",
              "      <td>0</td>\n",
              "      <td>0</td>\n",
              "      <td>0</td>\n",
              "      <td>0</td>\n",
              "      <td>0</td>\n",
              "      <td>0</td>\n",
              "      <td>0</td>\n",
              "      <td>...</td>\n",
              "      <td>3</td>\n",
              "      <td>3</td>\n",
              "      <td>0</td>\n",
              "      <td>1</td>\n",
              "      <td>0</td>\n",
              "      <td>1</td>\n",
              "      <td>0</td>\n",
              "      <td>0</td>\n",
              "      <td>32</td>\n",
              "      <td>60</td>\n",
              "    </tr>\n",
              "    <tr>\n",
              "      <th>9014</th>\n",
              "      <td>PUDUCHERRY</td>\n",
              "      <td>KARAIKAL</td>\n",
              "      <td>2012</td>\n",
              "      <td>5</td>\n",
              "      <td>6</td>\n",
              "      <td>2</td>\n",
              "      <td>6</td>\n",
              "      <td>0</td>\n",
              "      <td>6</td>\n",
              "      <td>2</td>\n",
              "      <td>...</td>\n",
              "      <td>1</td>\n",
              "      <td>186</td>\n",
              "      <td>0</td>\n",
              "      <td>2</td>\n",
              "      <td>0</td>\n",
              "      <td>1</td>\n",
              "      <td>0</td>\n",
              "      <td>44</td>\n",
              "      <td>392</td>\n",
              "      <td>787</td>\n",
              "    </tr>\n",
              "    <tr>\n",
              "      <th>9015</th>\n",
              "      <td>PUDUCHERRY</td>\n",
              "      <td>PUDUCHERRY</td>\n",
              "      <td>2012</td>\n",
              "      <td>24</td>\n",
              "      <td>21</td>\n",
              "      <td>10</td>\n",
              "      <td>7</td>\n",
              "      <td>0</td>\n",
              "      <td>7</td>\n",
              "      <td>17</td>\n",
              "      <td>...</td>\n",
              "      <td>20</td>\n",
              "      <td>632</td>\n",
              "      <td>0</td>\n",
              "      <td>7</td>\n",
              "      <td>2</td>\n",
              "      <td>5</td>\n",
              "      <td>0</td>\n",
              "      <td>219</td>\n",
              "      <td>1668</td>\n",
              "      <td>3494</td>\n",
              "    </tr>\n",
              "    <tr>\n",
              "      <th>9016</th>\n",
              "      <td>PUDUCHERRY</td>\n",
              "      <td>TOTAL</td>\n",
              "      <td>2012</td>\n",
              "      <td>29</td>\n",
              "      <td>27</td>\n",
              "      <td>12</td>\n",
              "      <td>13</td>\n",
              "      <td>0</td>\n",
              "      <td>13</td>\n",
              "      <td>19</td>\n",
              "      <td>...</td>\n",
              "      <td>21</td>\n",
              "      <td>818</td>\n",
              "      <td>0</td>\n",
              "      <td>9</td>\n",
              "      <td>2</td>\n",
              "      <td>6</td>\n",
              "      <td>0</td>\n",
              "      <td>263</td>\n",
              "      <td>2060</td>\n",
              "      <td>4281</td>\n",
              "    </tr>\n",
              "  </tbody>\n",
              "</table>\n",
              "<p>9017 rows × 33 columns</p>\n",
              "</div>\n",
              "      <button class=\"colab-df-convert\" onclick=\"convertToInteractive('df-cf7c9245-7023-49b7-986f-0a8a5d03c4ef')\"\n",
              "              title=\"Convert this dataframe to an interactive table.\"\n",
              "              style=\"display:none;\">\n",
              "        \n",
              "  <svg xmlns=\"http://www.w3.org/2000/svg\" height=\"24px\"viewBox=\"0 0 24 24\"\n",
              "       width=\"24px\">\n",
              "    <path d=\"M0 0h24v24H0V0z\" fill=\"none\"/>\n",
              "    <path d=\"M18.56 5.44l.94 2.06.94-2.06 2.06-.94-2.06-.94-.94-2.06-.94 2.06-2.06.94zm-11 1L8.5 8.5l.94-2.06 2.06-.94-2.06-.94L8.5 2.5l-.94 2.06-2.06.94zm10 10l.94 2.06.94-2.06 2.06-.94-2.06-.94-.94-2.06-.94 2.06-2.06.94z\"/><path d=\"M17.41 7.96l-1.37-1.37c-.4-.4-.92-.59-1.43-.59-.52 0-1.04.2-1.43.59L10.3 9.45l-7.72 7.72c-.78.78-.78 2.05 0 2.83L4 21.41c.39.39.9.59 1.41.59.51 0 1.02-.2 1.41-.59l7.78-7.78 2.81-2.81c.8-.78.8-2.07 0-2.86zM5.41 20L4 18.59l7.72-7.72 1.47 1.35L5.41 20z\"/>\n",
              "  </svg>\n",
              "      </button>\n",
              "      \n",
              "  <style>\n",
              "    .colab-df-container {\n",
              "      display:flex;\n",
              "      flex-wrap:wrap;\n",
              "      gap: 12px;\n",
              "    }\n",
              "\n",
              "    .colab-df-convert {\n",
              "      background-color: #E8F0FE;\n",
              "      border: none;\n",
              "      border-radius: 50%;\n",
              "      cursor: pointer;\n",
              "      display: none;\n",
              "      fill: #1967D2;\n",
              "      height: 32px;\n",
              "      padding: 0 0 0 0;\n",
              "      width: 32px;\n",
              "    }\n",
              "\n",
              "    .colab-df-convert:hover {\n",
              "      background-color: #E2EBFA;\n",
              "      box-shadow: 0px 1px 2px rgba(60, 64, 67, 0.3), 0px 1px 3px 1px rgba(60, 64, 67, 0.15);\n",
              "      fill: #174EA6;\n",
              "    }\n",
              "\n",
              "    [theme=dark] .colab-df-convert {\n",
              "      background-color: #3B4455;\n",
              "      fill: #D2E3FC;\n",
              "    }\n",
              "\n",
              "    [theme=dark] .colab-df-convert:hover {\n",
              "      background-color: #434B5C;\n",
              "      box-shadow: 0px 1px 3px 1px rgba(0, 0, 0, 0.15);\n",
              "      filter: drop-shadow(0px 1px 2px rgba(0, 0, 0, 0.3));\n",
              "      fill: #FFFFFF;\n",
              "    }\n",
              "  </style>\n",
              "\n",
              "      <script>\n",
              "        const buttonEl =\n",
              "          document.querySelector('#df-cf7c9245-7023-49b7-986f-0a8a5d03c4ef button.colab-df-convert');\n",
              "        buttonEl.style.display =\n",
              "          google.colab.kernel.accessAllowed ? 'block' : 'none';\n",
              "\n",
              "        async function convertToInteractive(key) {\n",
              "          const element = document.querySelector('#df-cf7c9245-7023-49b7-986f-0a8a5d03c4ef');\n",
              "          const dataTable =\n",
              "            await google.colab.kernel.invokeFunction('convertToInteractive',\n",
              "                                                     [key], {});\n",
              "          if (!dataTable) return;\n",
              "\n",
              "          const docLinkHtml = 'Like what you see? Visit the ' +\n",
              "            '<a target=\"_blank\" href=https://colab.research.google.com/notebooks/data_table.ipynb>data table notebook</a>'\n",
              "            + ' to learn more about interactive tables.';\n",
              "          element.innerHTML = '';\n",
              "          dataTable['output_type'] = 'display_data';\n",
              "          await google.colab.output.renderOutput(dataTable, element);\n",
              "          const docLink = document.createElement('div');\n",
              "          docLink.innerHTML = docLinkHtml;\n",
              "          element.appendChild(docLink);\n",
              "        }\n",
              "      </script>\n",
              "    </div>\n",
              "  </div>\n",
              "  "
            ]
          },
          "metadata": {},
          "execution_count": 9
        }
      ]
    },
    {
      "cell_type": "code",
      "source": [],
      "metadata": {
        "id": "o8ugeOdTsgJf"
      },
      "execution_count": null,
      "outputs": []
    },
    {
      "cell_type": "code",
      "source": [
        "crime.MURDER"
      ],
      "metadata": {
        "colab": {
          "base_uri": "https://localhost:8080/"
        },
        "id": "J8SzSJdWG6gJ",
        "outputId": "301be174-626a-4e2b-8665-491af2d40dcb"
      },
      "execution_count": null,
      "outputs": [
        {
          "output_type": "execute_result",
          "data": {
            "text/plain": [
              "0       101\n",
              "1       151\n",
              "2       101\n",
              "3        80\n",
              "4        82\n",
              "       ... \n",
              "9012      0\n",
              "9013      0\n",
              "9014      5\n",
              "9015     24\n",
              "9016     29\n",
              "Name: MURDER, Length: 9017, dtype: int64"
            ]
          },
          "metadata": {},
          "execution_count": 16
        }
      ]
    },
    {
      "cell_type": "code",
      "source": [
        "crime.DISTRICT"
      ],
      "metadata": {
        "colab": {
          "base_uri": "https://localhost:8080/"
        },
        "id": "ByxhWunvHcXJ",
        "outputId": "1f97f10b-34eb-40e9-9b25-84cbf2762596"
      },
      "execution_count": null,
      "outputs": [
        {
          "output_type": "execute_result",
          "data": {
            "text/plain": [
              "0            ADILABAD\n",
              "1           ANANTAPUR\n",
              "2            CHITTOOR\n",
              "3            CUDDAPAH\n",
              "4       EAST GODAVARI\n",
              "            ...      \n",
              "9012      LAKSHADWEEP\n",
              "9013            TOTAL\n",
              "9014         KARAIKAL\n",
              "9015       PUDUCHERRY\n",
              "9016            TOTAL\n",
              "Name: DISTRICT, Length: 9017, dtype: object"
            ]
          },
          "metadata": {},
          "execution_count": 17
        }
      ]
    },
    {
      "cell_type": "code",
      "source": [
        "state_year_data"
      ],
      "metadata": {
        "colab": {
          "base_uri": "https://localhost:8080/",
          "height": 165
        },
        "id": "Oy7pWPMVMFSF",
        "outputId": "57f6e40c-d97e-46b6-f3b9-04e6993993b7"
      },
      "execution_count": null,
      "outputs": [
        {
          "output_type": "error",
          "ename": "NameError",
          "evalue": "ignored",
          "traceback": [
            "\u001b[0;31m---------------------------------------------------------------------------\u001b[0m",
            "\u001b[0;31mNameError\u001b[0m                                 Traceback (most recent call last)",
            "\u001b[0;32m<ipython-input-24-2880cb5944f2>\u001b[0m in \u001b[0;36m<cell line: 1>\u001b[0;34m()\u001b[0m\n\u001b[0;32m----> 1\u001b[0;31m \u001b[0mstate_year_data\u001b[0m\u001b[0;34m\u001b[0m\u001b[0;34m\u001b[0m\u001b[0m\n\u001b[0m",
            "\u001b[0;31mNameError\u001b[0m: name 'state_year_data' is not defined"
          ]
        }
      ]
    },
    {
      "cell_type": "code",
      "source": [
        "import pandas as pd\n",
        "crime = pd.read_csv(\"/content/archive (1).zip\")\n",
        "crime"
      ],
      "metadata": {
        "colab": {
          "base_uri": "https://localhost:8080/",
          "height": 345
        },
        "id": "w6bLM3THsg7B",
        "outputId": "1b21d2b2-8a0c-43f0-898e-21d5243ccd1f"
      },
      "execution_count": null,
      "outputs": [
        {
          "output_type": "error",
          "ename": "BadZipFile",
          "evalue": "ignored",
          "traceback": [
            "\u001b[0;31m---------------------------------------------------------------------------\u001b[0m",
            "\u001b[0;31mBadZipFile\u001b[0m                                Traceback (most recent call last)",
            "\u001b[0;32m<ipython-input-11-3d2409078a86>\u001b[0m in \u001b[0;36m<cell line: 2>\u001b[0;34m()\u001b[0m\n\u001b[1;32m      1\u001b[0m \u001b[0;32mimport\u001b[0m \u001b[0mpandas\u001b[0m \u001b[0;32mas\u001b[0m \u001b[0mpd\u001b[0m\u001b[0;34m\u001b[0m\u001b[0;34m\u001b[0m\u001b[0m\n\u001b[0;32m----> 2\u001b[0;31m \u001b[0mcrime\u001b[0m \u001b[0;34m=\u001b[0m \u001b[0mpd\u001b[0m\u001b[0;34m.\u001b[0m\u001b[0mread_csv\u001b[0m\u001b[0;34m(\u001b[0m\u001b[0;34m\"/content/archive (1).zip\"\u001b[0m\u001b[0;34m)\u001b[0m\u001b[0;34m\u001b[0m\u001b[0;34m\u001b[0m\u001b[0m\n\u001b[0m\u001b[1;32m      3\u001b[0m \u001b[0mcrime\u001b[0m\u001b[0;34m\u001b[0m\u001b[0;34m\u001b[0m\u001b[0m\n",
            "\u001b[0;32m/usr/local/lib/python3.9/dist-packages/pandas/util/_decorators.py\u001b[0m in \u001b[0;36mwrapper\u001b[0;34m(*args, **kwargs)\u001b[0m\n\u001b[1;32m    309\u001b[0m                     \u001b[0mstacklevel\u001b[0m\u001b[0;34m=\u001b[0m\u001b[0mstacklevel\u001b[0m\u001b[0;34m,\u001b[0m\u001b[0;34m\u001b[0m\u001b[0;34m\u001b[0m\u001b[0m\n\u001b[1;32m    310\u001b[0m                 )\n\u001b[0;32m--> 311\u001b[0;31m             \u001b[0;32mreturn\u001b[0m \u001b[0mfunc\u001b[0m\u001b[0;34m(\u001b[0m\u001b[0;34m*\u001b[0m\u001b[0margs\u001b[0m\u001b[0;34m,\u001b[0m \u001b[0;34m**\u001b[0m\u001b[0mkwargs\u001b[0m\u001b[0;34m)\u001b[0m\u001b[0;34m\u001b[0m\u001b[0;34m\u001b[0m\u001b[0m\n\u001b[0m\u001b[1;32m    312\u001b[0m \u001b[0;34m\u001b[0m\u001b[0m\n\u001b[1;32m    313\u001b[0m         \u001b[0;32mreturn\u001b[0m \u001b[0mwrapper\u001b[0m\u001b[0;34m\u001b[0m\u001b[0;34m\u001b[0m\u001b[0m\n",
            "\u001b[0;32m/usr/local/lib/python3.9/dist-packages/pandas/io/parsers/readers.py\u001b[0m in \u001b[0;36mread_csv\u001b[0;34m(filepath_or_buffer, sep, delimiter, header, names, index_col, usecols, squeeze, prefix, mangle_dupe_cols, dtype, engine, converters, true_values, false_values, skipinitialspace, skiprows, skipfooter, nrows, na_values, keep_default_na, na_filter, verbose, skip_blank_lines, parse_dates, infer_datetime_format, keep_date_col, date_parser, dayfirst, cache_dates, iterator, chunksize, compression, thousands, decimal, lineterminator, quotechar, quoting, doublequote, escapechar, comment, encoding, encoding_errors, dialect, error_bad_lines, warn_bad_lines, on_bad_lines, delim_whitespace, low_memory, memory_map, float_precision, storage_options)\u001b[0m\n\u001b[1;32m    676\u001b[0m     \u001b[0mkwds\u001b[0m\u001b[0;34m.\u001b[0m\u001b[0mupdate\u001b[0m\u001b[0;34m(\u001b[0m\u001b[0mkwds_defaults\u001b[0m\u001b[0;34m)\u001b[0m\u001b[0;34m\u001b[0m\u001b[0;34m\u001b[0m\u001b[0m\n\u001b[1;32m    677\u001b[0m \u001b[0;34m\u001b[0m\u001b[0m\n\u001b[0;32m--> 678\u001b[0;31m     \u001b[0;32mreturn\u001b[0m \u001b[0m_read\u001b[0m\u001b[0;34m(\u001b[0m\u001b[0mfilepath_or_buffer\u001b[0m\u001b[0;34m,\u001b[0m \u001b[0mkwds\u001b[0m\u001b[0;34m)\u001b[0m\u001b[0;34m\u001b[0m\u001b[0;34m\u001b[0m\u001b[0m\n\u001b[0m\u001b[1;32m    679\u001b[0m \u001b[0;34m\u001b[0m\u001b[0m\n\u001b[1;32m    680\u001b[0m \u001b[0;34m\u001b[0m\u001b[0m\n",
            "\u001b[0;32m/usr/local/lib/python3.9/dist-packages/pandas/io/parsers/readers.py\u001b[0m in \u001b[0;36m_read\u001b[0;34m(filepath_or_buffer, kwds)\u001b[0m\n\u001b[1;32m    573\u001b[0m \u001b[0;34m\u001b[0m\u001b[0m\n\u001b[1;32m    574\u001b[0m     \u001b[0;31m# Create the parser.\u001b[0m\u001b[0;34m\u001b[0m\u001b[0;34m\u001b[0m\u001b[0m\n\u001b[0;32m--> 575\u001b[0;31m     \u001b[0mparser\u001b[0m \u001b[0;34m=\u001b[0m \u001b[0mTextFileReader\u001b[0m\u001b[0;34m(\u001b[0m\u001b[0mfilepath_or_buffer\u001b[0m\u001b[0;34m,\u001b[0m \u001b[0;34m**\u001b[0m\u001b[0mkwds\u001b[0m\u001b[0;34m)\u001b[0m\u001b[0;34m\u001b[0m\u001b[0;34m\u001b[0m\u001b[0m\n\u001b[0m\u001b[1;32m    576\u001b[0m \u001b[0;34m\u001b[0m\u001b[0m\n\u001b[1;32m    577\u001b[0m     \u001b[0;32mif\u001b[0m \u001b[0mchunksize\u001b[0m \u001b[0;32mor\u001b[0m \u001b[0miterator\u001b[0m\u001b[0;34m:\u001b[0m\u001b[0;34m\u001b[0m\u001b[0;34m\u001b[0m\u001b[0m\n",
            "\u001b[0;32m/usr/local/lib/python3.9/dist-packages/pandas/io/parsers/readers.py\u001b[0m in \u001b[0;36m__init__\u001b[0;34m(self, f, engine, **kwds)\u001b[0m\n\u001b[1;32m    930\u001b[0m \u001b[0;34m\u001b[0m\u001b[0m\n\u001b[1;32m    931\u001b[0m         \u001b[0mself\u001b[0m\u001b[0;34m.\u001b[0m\u001b[0mhandles\u001b[0m\u001b[0;34m:\u001b[0m \u001b[0mIOHandles\u001b[0m \u001b[0;34m|\u001b[0m \u001b[0;32mNone\u001b[0m \u001b[0;34m=\u001b[0m \u001b[0;32mNone\u001b[0m\u001b[0;34m\u001b[0m\u001b[0;34m\u001b[0m\u001b[0m\n\u001b[0;32m--> 932\u001b[0;31m         \u001b[0mself\u001b[0m\u001b[0;34m.\u001b[0m\u001b[0m_engine\u001b[0m \u001b[0;34m=\u001b[0m \u001b[0mself\u001b[0m\u001b[0;34m.\u001b[0m\u001b[0m_make_engine\u001b[0m\u001b[0;34m(\u001b[0m\u001b[0mf\u001b[0m\u001b[0;34m,\u001b[0m \u001b[0mself\u001b[0m\u001b[0;34m.\u001b[0m\u001b[0mengine\u001b[0m\u001b[0;34m)\u001b[0m\u001b[0;34m\u001b[0m\u001b[0;34m\u001b[0m\u001b[0m\n\u001b[0m\u001b[1;32m    933\u001b[0m \u001b[0;34m\u001b[0m\u001b[0m\n\u001b[1;32m    934\u001b[0m     \u001b[0;32mdef\u001b[0m \u001b[0mclose\u001b[0m\u001b[0;34m(\u001b[0m\u001b[0mself\u001b[0m\u001b[0;34m)\u001b[0m\u001b[0;34m:\u001b[0m\u001b[0;34m\u001b[0m\u001b[0;34m\u001b[0m\u001b[0m\n",
            "\u001b[0;32m/usr/local/lib/python3.9/dist-packages/pandas/io/parsers/readers.py\u001b[0m in \u001b[0;36m_make_engine\u001b[0;34m(self, f, engine)\u001b[0m\n\u001b[1;32m   1214\u001b[0m             \u001b[0;31m# \"Union[str, PathLike[str], ReadCsvBuffer[bytes], ReadCsvBuffer[str]]\"\u001b[0m\u001b[0;34m\u001b[0m\u001b[0;34m\u001b[0m\u001b[0m\n\u001b[1;32m   1215\u001b[0m             \u001b[0;31m# , \"str\", \"bool\", \"Any\", \"Any\", \"Any\", \"Any\", \"Any\"\u001b[0m\u001b[0;34m\u001b[0m\u001b[0;34m\u001b[0m\u001b[0m\n\u001b[0;32m-> 1216\u001b[0;31m             self.handles = get_handle(  # type: ignore[call-overload]\n\u001b[0m\u001b[1;32m   1217\u001b[0m                 \u001b[0mf\u001b[0m\u001b[0;34m,\u001b[0m\u001b[0;34m\u001b[0m\u001b[0;34m\u001b[0m\u001b[0m\n\u001b[1;32m   1218\u001b[0m                 \u001b[0mmode\u001b[0m\u001b[0;34m,\u001b[0m\u001b[0;34m\u001b[0m\u001b[0;34m\u001b[0m\u001b[0m\n",
            "\u001b[0;32m/usr/local/lib/python3.9/dist-packages/pandas/io/common.py\u001b[0m in \u001b[0;36mget_handle\u001b[0;34m(path_or_buf, mode, encoding, compression, memory_map, is_text, errors, storage_options)\u001b[0m\n\u001b[1;32m    745\u001b[0m                 \u001b[0mzip_names\u001b[0m \u001b[0;34m=\u001b[0m \u001b[0mhandle\u001b[0m\u001b[0;34m.\u001b[0m\u001b[0mnamelist\u001b[0m\u001b[0;34m(\u001b[0m\u001b[0;34m)\u001b[0m\u001b[0;34m\u001b[0m\u001b[0;34m\u001b[0m\u001b[0m\n\u001b[1;32m    746\u001b[0m                 \u001b[0;32mif\u001b[0m \u001b[0mlen\u001b[0m\u001b[0;34m(\u001b[0m\u001b[0mzip_names\u001b[0m\u001b[0;34m)\u001b[0m \u001b[0;34m==\u001b[0m \u001b[0;36m1\u001b[0m\u001b[0;34m:\u001b[0m\u001b[0;34m\u001b[0m\u001b[0;34m\u001b[0m\u001b[0m\n\u001b[0;32m--> 747\u001b[0;31m                     \u001b[0mhandle\u001b[0m \u001b[0;34m=\u001b[0m \u001b[0mhandle\u001b[0m\u001b[0;34m.\u001b[0m\u001b[0mopen\u001b[0m\u001b[0;34m(\u001b[0m\u001b[0mzip_names\u001b[0m\u001b[0;34m.\u001b[0m\u001b[0mpop\u001b[0m\u001b[0;34m(\u001b[0m\u001b[0;34m)\u001b[0m\u001b[0;34m)\u001b[0m\u001b[0;34m\u001b[0m\u001b[0;34m\u001b[0m\u001b[0m\n\u001b[0m\u001b[1;32m    748\u001b[0m                 \u001b[0;32melif\u001b[0m \u001b[0mlen\u001b[0m\u001b[0;34m(\u001b[0m\u001b[0mzip_names\u001b[0m\u001b[0;34m)\u001b[0m \u001b[0;34m==\u001b[0m \u001b[0;36m0\u001b[0m\u001b[0;34m:\u001b[0m\u001b[0;34m\u001b[0m\u001b[0;34m\u001b[0m\u001b[0m\n\u001b[1;32m    749\u001b[0m                     \u001b[0;32mraise\u001b[0m \u001b[0mValueError\u001b[0m\u001b[0;34m(\u001b[0m\u001b[0;34mf\"Zero files found in ZIP file {path_or_buf}\"\u001b[0m\u001b[0;34m)\u001b[0m\u001b[0;34m\u001b[0m\u001b[0;34m\u001b[0m\u001b[0m\n",
            "\u001b[0;32m/usr/lib/python3.9/zipfile.py\u001b[0m in \u001b[0;36mopen\u001b[0;34m(self, name, mode, pwd, force_zip64)\u001b[0m\n\u001b[1;32m   1530\u001b[0m             \u001b[0mfheader\u001b[0m \u001b[0;34m=\u001b[0m \u001b[0mstruct\u001b[0m\u001b[0;34m.\u001b[0m\u001b[0munpack\u001b[0m\u001b[0;34m(\u001b[0m\u001b[0mstructFileHeader\u001b[0m\u001b[0;34m,\u001b[0m \u001b[0mfheader\u001b[0m\u001b[0;34m)\u001b[0m\u001b[0;34m\u001b[0m\u001b[0;34m\u001b[0m\u001b[0m\n\u001b[1;32m   1531\u001b[0m             \u001b[0;32mif\u001b[0m \u001b[0mfheader\u001b[0m\u001b[0;34m[\u001b[0m\u001b[0m_FH_SIGNATURE\u001b[0m\u001b[0;34m]\u001b[0m \u001b[0;34m!=\u001b[0m \u001b[0mstringFileHeader\u001b[0m\u001b[0;34m:\u001b[0m\u001b[0;34m\u001b[0m\u001b[0;34m\u001b[0m\u001b[0m\n\u001b[0;32m-> 1532\u001b[0;31m                 \u001b[0;32mraise\u001b[0m \u001b[0mBadZipFile\u001b[0m\u001b[0;34m(\u001b[0m\u001b[0;34m\"Bad magic number for file header\"\u001b[0m\u001b[0;34m)\u001b[0m\u001b[0;34m\u001b[0m\u001b[0;34m\u001b[0m\u001b[0m\n\u001b[0m\u001b[1;32m   1533\u001b[0m \u001b[0;34m\u001b[0m\u001b[0m\n\u001b[1;32m   1534\u001b[0m             \u001b[0mfname\u001b[0m \u001b[0;34m=\u001b[0m \u001b[0mzef_file\u001b[0m\u001b[0;34m.\u001b[0m\u001b[0mread\u001b[0m\u001b[0;34m(\u001b[0m\u001b[0mfheader\u001b[0m\u001b[0;34m[\u001b[0m\u001b[0m_FH_FILENAME_LENGTH\u001b[0m\u001b[0;34m]\u001b[0m\u001b[0;34m)\u001b[0m\u001b[0;34m\u001b[0m\u001b[0;34m\u001b[0m\u001b[0m\n",
            "\u001b[0;31mBadZipFile\u001b[0m: Bad magic number for file header"
          ]
        }
      ]
    },
    {
      "cell_type": "code",
      "source": [
        "import pandas as pd\n",
        "from sklearn.preprocessing import LabelEncoder\n",
        "from sklearn.model_selection import train_test_split\n",
        "from sklearn.linear_model import LogisticRegression\n",
        "from sklearn.metrics import accuracy_score\n",
        "loan_df = pd.read_csv('https://raw.githubusercontent.com/dsrscientist/DSData/master/loan_prediction.csv')\n",
        "label_encoder = LabelEncoder()\n",
        "loan_df['Gender'] = label_encoder.fit_transform(loan_df['Gender'])\n",
        "loan_df['Married'] = label_encoder.fit_transform(loan_df['Married'])\n",
        "loan_df['Education'] = label_encoder.fit_transform(loan_df['Education'])\n",
        "loan_df['Self_Employed'] = label_encoder.fit_transform(loan_df['Self_Employed'])\n",
        "loan_df['Property_Area'] = label_encoder.fit_transform(loan_df['Property_Area'])\n",
        "loan_df['Loan_Status'] = label_encoder.fit_transform(loan_df['Loan_Status'])\n",
        "X = loan_df.drop('Loan_Status', axis=1)\n",
        "y = loan_df['Loan_Status']\n",
        "X_train, X_test, y_train, y_test = train_test_split(X, y, test_size=0.2, random_state=42)\n",
        "lr_model = LogisticRegression()\n",
        "lr_model.fit(X_train, y_train)\n",
        "y_pred = lr_model.predict(X_test)\n",
        "accuracy = accuracy_score(y_test, y_pred)\n",
        "print('Accuracy: {:.2f}%'.format(accuracy*100))"
      ],
      "metadata": {
        "colab": {
          "base_uri": "https://localhost:8080/",
          "height": 380
        },
        "id": "NHrmNo2Y7IDr",
        "outputId": "c92b3642-9681-47c0-f1ca-a1c4f18bb9cb"
      },
      "execution_count": null,
      "outputs": [
        {
          "output_type": "error",
          "ename": "ValueError",
          "evalue": "ignored",
          "traceback": [
            "\u001b[0;31m---------------------------------------------------------------------------\u001b[0m",
            "\u001b[0;31mValueError\u001b[0m                                Traceback (most recent call last)",
            "\u001b[0;32m<ipython-input-12-9c0852cf377e>\u001b[0m in \u001b[0;36m<cell line: 26>\u001b[0;34m()\u001b[0m\n\u001b[1;32m     24\u001b[0m \u001b[0;31m# Train a logistic regression model\u001b[0m\u001b[0;34m\u001b[0m\u001b[0;34m\u001b[0m\u001b[0m\n\u001b[1;32m     25\u001b[0m \u001b[0mlr_model\u001b[0m \u001b[0;34m=\u001b[0m \u001b[0mLogisticRegression\u001b[0m\u001b[0;34m(\u001b[0m\u001b[0;34m)\u001b[0m\u001b[0;34m\u001b[0m\u001b[0;34m\u001b[0m\u001b[0m\n\u001b[0;32m---> 26\u001b[0;31m \u001b[0mlr_model\u001b[0m\u001b[0;34m.\u001b[0m\u001b[0mfit\u001b[0m\u001b[0;34m(\u001b[0m\u001b[0mX_train\u001b[0m\u001b[0;34m,\u001b[0m \u001b[0my_train\u001b[0m\u001b[0;34m)\u001b[0m\u001b[0;34m\u001b[0m\u001b[0;34m\u001b[0m\u001b[0m\n\u001b[0m\u001b[1;32m     27\u001b[0m \u001b[0;34m\u001b[0m\u001b[0m\n\u001b[1;32m     28\u001b[0m \u001b[0;31m# Evaluate the model\u001b[0m\u001b[0;34m\u001b[0m\u001b[0;34m\u001b[0m\u001b[0m\n",
            "\u001b[0;32m/usr/local/lib/python3.9/dist-packages/sklearn/linear_model/_logistic.py\u001b[0m in \u001b[0;36mfit\u001b[0;34m(self, X, y, sample_weight)\u001b[0m\n\u001b[1;32m   1194\u001b[0m             \u001b[0m_dtype\u001b[0m \u001b[0;34m=\u001b[0m \u001b[0;34m[\u001b[0m\u001b[0mnp\u001b[0m\u001b[0;34m.\u001b[0m\u001b[0mfloat64\u001b[0m\u001b[0;34m,\u001b[0m \u001b[0mnp\u001b[0m\u001b[0;34m.\u001b[0m\u001b[0mfloat32\u001b[0m\u001b[0;34m]\u001b[0m\u001b[0;34m\u001b[0m\u001b[0;34m\u001b[0m\u001b[0m\n\u001b[1;32m   1195\u001b[0m \u001b[0;34m\u001b[0m\u001b[0m\n\u001b[0;32m-> 1196\u001b[0;31m         X, y = self._validate_data(\n\u001b[0m\u001b[1;32m   1197\u001b[0m             \u001b[0mX\u001b[0m\u001b[0;34m,\u001b[0m\u001b[0;34m\u001b[0m\u001b[0;34m\u001b[0m\u001b[0m\n\u001b[1;32m   1198\u001b[0m             \u001b[0my\u001b[0m\u001b[0;34m,\u001b[0m\u001b[0;34m\u001b[0m\u001b[0;34m\u001b[0m\u001b[0m\n",
            "\u001b[0;32m/usr/local/lib/python3.9/dist-packages/sklearn/base.py\u001b[0m in \u001b[0;36m_validate_data\u001b[0;34m(self, X, y, reset, validate_separately, **check_params)\u001b[0m\n\u001b[1;32m    582\u001b[0m                 \u001b[0my\u001b[0m \u001b[0;34m=\u001b[0m \u001b[0mcheck_array\u001b[0m\u001b[0;34m(\u001b[0m\u001b[0my\u001b[0m\u001b[0;34m,\u001b[0m \u001b[0minput_name\u001b[0m\u001b[0;34m=\u001b[0m\u001b[0;34m\"y\"\u001b[0m\u001b[0;34m,\u001b[0m \u001b[0;34m**\u001b[0m\u001b[0mcheck_y_params\u001b[0m\u001b[0;34m)\u001b[0m\u001b[0;34m\u001b[0m\u001b[0;34m\u001b[0m\u001b[0m\n\u001b[1;32m    583\u001b[0m             \u001b[0;32melse\u001b[0m\u001b[0;34m:\u001b[0m\u001b[0;34m\u001b[0m\u001b[0;34m\u001b[0m\u001b[0m\n\u001b[0;32m--> 584\u001b[0;31m                 \u001b[0mX\u001b[0m\u001b[0;34m,\u001b[0m \u001b[0my\u001b[0m \u001b[0;34m=\u001b[0m \u001b[0mcheck_X_y\u001b[0m\u001b[0;34m(\u001b[0m\u001b[0mX\u001b[0m\u001b[0;34m,\u001b[0m \u001b[0my\u001b[0m\u001b[0;34m,\u001b[0m \u001b[0;34m**\u001b[0m\u001b[0mcheck_params\u001b[0m\u001b[0;34m)\u001b[0m\u001b[0;34m\u001b[0m\u001b[0;34m\u001b[0m\u001b[0m\n\u001b[0m\u001b[1;32m    585\u001b[0m             \u001b[0mout\u001b[0m \u001b[0;34m=\u001b[0m \u001b[0mX\u001b[0m\u001b[0;34m,\u001b[0m \u001b[0my\u001b[0m\u001b[0;34m\u001b[0m\u001b[0;34m\u001b[0m\u001b[0m\n\u001b[1;32m    586\u001b[0m \u001b[0;34m\u001b[0m\u001b[0m\n",
            "\u001b[0;32m/usr/local/lib/python3.9/dist-packages/sklearn/utils/validation.py\u001b[0m in \u001b[0;36mcheck_X_y\u001b[0;34m(X, y, accept_sparse, accept_large_sparse, dtype, order, copy, force_all_finite, ensure_2d, allow_nd, multi_output, ensure_min_samples, ensure_min_features, y_numeric, estimator)\u001b[0m\n\u001b[1;32m   1104\u001b[0m         )\n\u001b[1;32m   1105\u001b[0m \u001b[0;34m\u001b[0m\u001b[0m\n\u001b[0;32m-> 1106\u001b[0;31m     X = check_array(\n\u001b[0m\u001b[1;32m   1107\u001b[0m         \u001b[0mX\u001b[0m\u001b[0;34m,\u001b[0m\u001b[0;34m\u001b[0m\u001b[0;34m\u001b[0m\u001b[0m\n\u001b[1;32m   1108\u001b[0m         \u001b[0maccept_sparse\u001b[0m\u001b[0;34m=\u001b[0m\u001b[0maccept_sparse\u001b[0m\u001b[0;34m,\u001b[0m\u001b[0;34m\u001b[0m\u001b[0;34m\u001b[0m\u001b[0m\n",
            "\u001b[0;32m/usr/local/lib/python3.9/dist-packages/sklearn/utils/validation.py\u001b[0m in \u001b[0;36mcheck_array\u001b[0;34m(array, accept_sparse, accept_large_sparse, dtype, order, copy, force_all_finite, ensure_2d, allow_nd, ensure_min_samples, ensure_min_features, estimator, input_name)\u001b[0m\n\u001b[1;32m    877\u001b[0m                     \u001b[0marray\u001b[0m \u001b[0;34m=\u001b[0m \u001b[0mxp\u001b[0m\u001b[0;34m.\u001b[0m\u001b[0mastype\u001b[0m\u001b[0;34m(\u001b[0m\u001b[0marray\u001b[0m\u001b[0;34m,\u001b[0m \u001b[0mdtype\u001b[0m\u001b[0;34m,\u001b[0m \u001b[0mcopy\u001b[0m\u001b[0;34m=\u001b[0m\u001b[0;32mFalse\u001b[0m\u001b[0;34m)\u001b[0m\u001b[0;34m\u001b[0m\u001b[0;34m\u001b[0m\u001b[0m\n\u001b[1;32m    878\u001b[0m                 \u001b[0;32melse\u001b[0m\u001b[0;34m:\u001b[0m\u001b[0;34m\u001b[0m\u001b[0;34m\u001b[0m\u001b[0m\n\u001b[0;32m--> 879\u001b[0;31m                     \u001b[0marray\u001b[0m \u001b[0;34m=\u001b[0m \u001b[0m_asarray_with_order\u001b[0m\u001b[0;34m(\u001b[0m\u001b[0marray\u001b[0m\u001b[0;34m,\u001b[0m \u001b[0morder\u001b[0m\u001b[0;34m=\u001b[0m\u001b[0morder\u001b[0m\u001b[0;34m,\u001b[0m \u001b[0mdtype\u001b[0m\u001b[0;34m=\u001b[0m\u001b[0mdtype\u001b[0m\u001b[0;34m,\u001b[0m \u001b[0mxp\u001b[0m\u001b[0;34m=\u001b[0m\u001b[0mxp\u001b[0m\u001b[0;34m)\u001b[0m\u001b[0;34m\u001b[0m\u001b[0;34m\u001b[0m\u001b[0m\n\u001b[0m\u001b[1;32m    880\u001b[0m             \u001b[0;32mexcept\u001b[0m \u001b[0mComplexWarning\u001b[0m \u001b[0;32mas\u001b[0m \u001b[0mcomplex_warning\u001b[0m\u001b[0;34m:\u001b[0m\u001b[0;34m\u001b[0m\u001b[0;34m\u001b[0m\u001b[0m\n\u001b[1;32m    881\u001b[0m                 raise ValueError(\n",
            "\u001b[0;32m/usr/local/lib/python3.9/dist-packages/sklearn/utils/_array_api.py\u001b[0m in \u001b[0;36m_asarray_with_order\u001b[0;34m(array, dtype, order, copy, xp)\u001b[0m\n\u001b[1;32m    183\u001b[0m     \u001b[0;32mif\u001b[0m \u001b[0mxp\u001b[0m\u001b[0;34m.\u001b[0m\u001b[0m__name__\u001b[0m \u001b[0;32min\u001b[0m \u001b[0;34m{\u001b[0m\u001b[0;34m\"numpy\"\u001b[0m\u001b[0;34m,\u001b[0m \u001b[0;34m\"numpy.array_api\"\u001b[0m\u001b[0;34m}\u001b[0m\u001b[0;34m:\u001b[0m\u001b[0;34m\u001b[0m\u001b[0;34m\u001b[0m\u001b[0m\n\u001b[1;32m    184\u001b[0m         \u001b[0;31m# Use NumPy API to support order\u001b[0m\u001b[0;34m\u001b[0m\u001b[0;34m\u001b[0m\u001b[0m\n\u001b[0;32m--> 185\u001b[0;31m         \u001b[0marray\u001b[0m \u001b[0;34m=\u001b[0m \u001b[0mnumpy\u001b[0m\u001b[0;34m.\u001b[0m\u001b[0masarray\u001b[0m\u001b[0;34m(\u001b[0m\u001b[0marray\u001b[0m\u001b[0;34m,\u001b[0m \u001b[0morder\u001b[0m\u001b[0;34m=\u001b[0m\u001b[0morder\u001b[0m\u001b[0;34m,\u001b[0m \u001b[0mdtype\u001b[0m\u001b[0;34m=\u001b[0m\u001b[0mdtype\u001b[0m\u001b[0;34m)\u001b[0m\u001b[0;34m\u001b[0m\u001b[0;34m\u001b[0m\u001b[0m\n\u001b[0m\u001b[1;32m    186\u001b[0m         \u001b[0;32mreturn\u001b[0m \u001b[0mxp\u001b[0m\u001b[0;34m.\u001b[0m\u001b[0masarray\u001b[0m\u001b[0;34m(\u001b[0m\u001b[0marray\u001b[0m\u001b[0;34m,\u001b[0m \u001b[0mcopy\u001b[0m\u001b[0;34m=\u001b[0m\u001b[0mcopy\u001b[0m\u001b[0;34m)\u001b[0m\u001b[0;34m\u001b[0m\u001b[0;34m\u001b[0m\u001b[0m\n\u001b[1;32m    187\u001b[0m     \u001b[0;32melse\u001b[0m\u001b[0;34m:\u001b[0m\u001b[0;34m\u001b[0m\u001b[0;34m\u001b[0m\u001b[0m\n",
            "\u001b[0;32m/usr/local/lib/python3.9/dist-packages/pandas/core/generic.py\u001b[0m in \u001b[0;36m__array__\u001b[0;34m(self, dtype)\u001b[0m\n\u001b[1;32m   2062\u001b[0m \u001b[0;34m\u001b[0m\u001b[0m\n\u001b[1;32m   2063\u001b[0m     \u001b[0;32mdef\u001b[0m \u001b[0m__array__\u001b[0m\u001b[0;34m(\u001b[0m\u001b[0mself\u001b[0m\u001b[0;34m,\u001b[0m \u001b[0mdtype\u001b[0m\u001b[0;34m:\u001b[0m \u001b[0mnpt\u001b[0m\u001b[0;34m.\u001b[0m\u001b[0mDTypeLike\u001b[0m \u001b[0;34m|\u001b[0m \u001b[0;32mNone\u001b[0m \u001b[0;34m=\u001b[0m \u001b[0;32mNone\u001b[0m\u001b[0;34m)\u001b[0m \u001b[0;34m->\u001b[0m \u001b[0mnp\u001b[0m\u001b[0;34m.\u001b[0m\u001b[0mndarray\u001b[0m\u001b[0;34m:\u001b[0m\u001b[0;34m\u001b[0m\u001b[0;34m\u001b[0m\u001b[0m\n\u001b[0;32m-> 2064\u001b[0;31m         \u001b[0;32mreturn\u001b[0m \u001b[0mnp\u001b[0m\u001b[0;34m.\u001b[0m\u001b[0masarray\u001b[0m\u001b[0;34m(\u001b[0m\u001b[0mself\u001b[0m\u001b[0;34m.\u001b[0m\u001b[0m_values\u001b[0m\u001b[0;34m,\u001b[0m \u001b[0mdtype\u001b[0m\u001b[0;34m=\u001b[0m\u001b[0mdtype\u001b[0m\u001b[0;34m)\u001b[0m\u001b[0;34m\u001b[0m\u001b[0;34m\u001b[0m\u001b[0m\n\u001b[0m\u001b[1;32m   2065\u001b[0m \u001b[0;34m\u001b[0m\u001b[0m\n\u001b[1;32m   2066\u001b[0m     def __array_wrap__(\n",
            "\u001b[0;31mValueError\u001b[0m: could not convert string to float: 'LP001273'"
          ]
        }
      ]
    }
  ]
}